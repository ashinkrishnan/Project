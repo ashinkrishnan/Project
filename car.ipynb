{
 "cells": [
  {
   "cell_type": "markdown",
   "metadata": {
    "id": "LH31tzOFG0Qy"
   },
   "source": [
    "## Exploratory Data Analysis and Feature Engineering"
   ]
  },
  {
   "cell_type": "code",
   "execution_count": 1,
   "metadata": {
    "id": "N5FGmuQwG0Q1"
   },
   "outputs": [],
   "source": [
    "import pandas as pd \n",
    "import matplotlib.pyplot as plt\n",
    "import numpy as np\n",
    "import seaborn as sns\n",
    "import warnings\n",
    "from scipy import stats \n",
    "from scipy.stats import norm\n",
    "import re\n",
    "warnings.filterwarnings(\"ignore\")"
   ]
  },
  {
   "cell_type": "code",
   "execution_count": 2,
   "metadata": {
    "id": "2U2t1BcpG0RJ"
   },
   "outputs": [],
   "source": [
    "df_train = pd.read_csv(\"train_data.csv\")\n",
    "df_test = pd.read_csv(\"test_data.csv\")"
   ]
  },
  {
   "cell_type": "code",
   "execution_count": 3,
   "metadata": {
    "id": "Upy1kokNG0RT",
    "outputId": "4fb56e68-3d86-4da6-a8b2-ede9a24ac98d"
   },
   "outputs": [
    {
     "data": {
      "text/html": [
       "<div>\n",
       "<style scoped>\n",
       "    .dataframe tbody tr th:only-of-type {\n",
       "        vertical-align: middle;\n",
       "    }\n",
       "\n",
       "    .dataframe tbody tr th {\n",
       "        vertical-align: top;\n",
       "    }\n",
       "\n",
       "    .dataframe thead th {\n",
       "        text-align: right;\n",
       "    }\n",
       "</style>\n",
       "<table border=\"1\" class=\"dataframe\">\n",
       "  <thead>\n",
       "    <tr style=\"text-align: right;\">\n",
       "      <th></th>\n",
       "      <th>Unnamed: 0</th>\n",
       "      <th>Name</th>\n",
       "      <th>Location</th>\n",
       "      <th>Year</th>\n",
       "      <th>Kilometers_Driven</th>\n",
       "      <th>Fuel_Type</th>\n",
       "      <th>Transmission</th>\n",
       "      <th>Owner_Type</th>\n",
       "      <th>Mileage</th>\n",
       "      <th>Engine</th>\n",
       "      <th>Power</th>\n",
       "      <th>Seats</th>\n",
       "      <th>New_Price</th>\n",
       "      <th>Price</th>\n",
       "    </tr>\n",
       "  </thead>\n",
       "  <tbody>\n",
       "    <tr>\n",
       "      <th>0</th>\n",
       "      <td>0</td>\n",
       "      <td>Maruti Wagon R LXI CNG</td>\n",
       "      <td>Mumbai</td>\n",
       "      <td>2010</td>\n",
       "      <td>72000</td>\n",
       "      <td>CNG</td>\n",
       "      <td>Manual</td>\n",
       "      <td>First</td>\n",
       "      <td>26.6 km/kg</td>\n",
       "      <td>998 CC</td>\n",
       "      <td>58.16 bhp</td>\n",
       "      <td>5.0</td>\n",
       "      <td>NaN</td>\n",
       "      <td>1.75</td>\n",
       "    </tr>\n",
       "    <tr>\n",
       "      <th>1</th>\n",
       "      <td>1</td>\n",
       "      <td>Hyundai Creta 1.6 CRDi SX Option</td>\n",
       "      <td>Pune</td>\n",
       "      <td>2015</td>\n",
       "      <td>41000</td>\n",
       "      <td>Diesel</td>\n",
       "      <td>Manual</td>\n",
       "      <td>First</td>\n",
       "      <td>19.67 kmpl</td>\n",
       "      <td>1582 CC</td>\n",
       "      <td>126.2 bhp</td>\n",
       "      <td>5.0</td>\n",
       "      <td>NaN</td>\n",
       "      <td>12.50</td>\n",
       "    </tr>\n",
       "    <tr>\n",
       "      <th>2</th>\n",
       "      <td>2</td>\n",
       "      <td>Honda Jazz V</td>\n",
       "      <td>Chennai</td>\n",
       "      <td>2011</td>\n",
       "      <td>46000</td>\n",
       "      <td>Petrol</td>\n",
       "      <td>Manual</td>\n",
       "      <td>First</td>\n",
       "      <td>18.2 kmpl</td>\n",
       "      <td>1199 CC</td>\n",
       "      <td>88.7 bhp</td>\n",
       "      <td>5.0</td>\n",
       "      <td>8.61 Lakh</td>\n",
       "      <td>4.50</td>\n",
       "    </tr>\n",
       "    <tr>\n",
       "      <th>3</th>\n",
       "      <td>3</td>\n",
       "      <td>Maruti Ertiga VDI</td>\n",
       "      <td>Chennai</td>\n",
       "      <td>2012</td>\n",
       "      <td>87000</td>\n",
       "      <td>Diesel</td>\n",
       "      <td>Manual</td>\n",
       "      <td>First</td>\n",
       "      <td>20.77 kmpl</td>\n",
       "      <td>1248 CC</td>\n",
       "      <td>88.76 bhp</td>\n",
       "      <td>7.0</td>\n",
       "      <td>NaN</td>\n",
       "      <td>6.00</td>\n",
       "    </tr>\n",
       "    <tr>\n",
       "      <th>4</th>\n",
       "      <td>4</td>\n",
       "      <td>Audi A4 New 2.0 TDI Multitronic</td>\n",
       "      <td>Coimbatore</td>\n",
       "      <td>2013</td>\n",
       "      <td>40670</td>\n",
       "      <td>Diesel</td>\n",
       "      <td>Automatic</td>\n",
       "      <td>Second</td>\n",
       "      <td>15.2 kmpl</td>\n",
       "      <td>1968 CC</td>\n",
       "      <td>140.8 bhp</td>\n",
       "      <td>5.0</td>\n",
       "      <td>NaN</td>\n",
       "      <td>17.74</td>\n",
       "    </tr>\n",
       "    <tr>\n",
       "      <th>5</th>\n",
       "      <td>5</td>\n",
       "      <td>Hyundai EON LPG Era Plus Option</td>\n",
       "      <td>Hyderabad</td>\n",
       "      <td>2012</td>\n",
       "      <td>75000</td>\n",
       "      <td>LPG</td>\n",
       "      <td>Manual</td>\n",
       "      <td>First</td>\n",
       "      <td>21.1 km/kg</td>\n",
       "      <td>814 CC</td>\n",
       "      <td>55.2 bhp</td>\n",
       "      <td>5.0</td>\n",
       "      <td>NaN</td>\n",
       "      <td>2.35</td>\n",
       "    </tr>\n",
       "  </tbody>\n",
       "</table>\n",
       "</div>"
      ],
      "text/plain": [
       "   Unnamed: 0                              Name    Location  Year  \\\n",
       "0           0            Maruti Wagon R LXI CNG      Mumbai  2010   \n",
       "1           1  Hyundai Creta 1.6 CRDi SX Option        Pune  2015   \n",
       "2           2                      Honda Jazz V     Chennai  2011   \n",
       "3           3                 Maruti Ertiga VDI     Chennai  2012   \n",
       "4           4   Audi A4 New 2.0 TDI Multitronic  Coimbatore  2013   \n",
       "5           5   Hyundai EON LPG Era Plus Option   Hyderabad  2012   \n",
       "\n",
       "   Kilometers_Driven Fuel_Type Transmission Owner_Type     Mileage   Engine  \\\n",
       "0              72000       CNG       Manual      First  26.6 km/kg   998 CC   \n",
       "1              41000    Diesel       Manual      First  19.67 kmpl  1582 CC   \n",
       "2              46000    Petrol       Manual      First   18.2 kmpl  1199 CC   \n",
       "3              87000    Diesel       Manual      First  20.77 kmpl  1248 CC   \n",
       "4              40670    Diesel    Automatic     Second   15.2 kmpl  1968 CC   \n",
       "5              75000       LPG       Manual      First  21.1 km/kg   814 CC   \n",
       "\n",
       "       Power  Seats  New_Price  Price  \n",
       "0  58.16 bhp    5.0        NaN   1.75  \n",
       "1  126.2 bhp    5.0        NaN  12.50  \n",
       "2   88.7 bhp    5.0  8.61 Lakh   4.50  \n",
       "3  88.76 bhp    7.0        NaN   6.00  \n",
       "4  140.8 bhp    5.0        NaN  17.74  \n",
       "5   55.2 bhp    5.0        NaN   2.35  "
      ]
     },
     "execution_count": 3,
     "metadata": {},
     "output_type": "execute_result"
    }
   ],
   "source": [
    "df_train.head(6)"
   ]
  },
  {
   "cell_type": "code",
   "execution_count": 4,
   "metadata": {
    "id": "vNFM04WhG0Rf",
    "outputId": "2fa57760-843e-497d-eebf-1f4a8589c4e3"
   },
   "outputs": [
    {
     "data": {
      "text/html": [
       "<div>\n",
       "<style scoped>\n",
       "    .dataframe tbody tr th:only-of-type {\n",
       "        vertical-align: middle;\n",
       "    }\n",
       "\n",
       "    .dataframe tbody tr th {\n",
       "        vertical-align: top;\n",
       "    }\n",
       "\n",
       "    .dataframe thead th {\n",
       "        text-align: right;\n",
       "    }\n",
       "</style>\n",
       "<table border=\"1\" class=\"dataframe\">\n",
       "  <thead>\n",
       "    <tr style=\"text-align: right;\">\n",
       "      <th></th>\n",
       "      <th>Unnamed: 0</th>\n",
       "      <th>Name</th>\n",
       "      <th>Location</th>\n",
       "      <th>Year</th>\n",
       "      <th>Kilometers_Driven</th>\n",
       "      <th>Fuel_Type</th>\n",
       "      <th>Transmission</th>\n",
       "      <th>Owner_Type</th>\n",
       "      <th>Mileage</th>\n",
       "      <th>Engine</th>\n",
       "      <th>Power</th>\n",
       "      <th>Seats</th>\n",
       "      <th>New_Price</th>\n",
       "    </tr>\n",
       "  </thead>\n",
       "  <tbody>\n",
       "    <tr>\n",
       "      <th>0</th>\n",
       "      <td>0</td>\n",
       "      <td>Maruti Alto K10 LXI CNG</td>\n",
       "      <td>Delhi</td>\n",
       "      <td>2014</td>\n",
       "      <td>40929</td>\n",
       "      <td>CNG</td>\n",
       "      <td>Manual</td>\n",
       "      <td>First</td>\n",
       "      <td>32.26 km/kg</td>\n",
       "      <td>998 CC</td>\n",
       "      <td>58.2 bhp</td>\n",
       "      <td>4.0</td>\n",
       "      <td>NaN</td>\n",
       "    </tr>\n",
       "    <tr>\n",
       "      <th>1</th>\n",
       "      <td>1</td>\n",
       "      <td>Maruti Alto 800 2016-2019 LXI</td>\n",
       "      <td>Coimbatore</td>\n",
       "      <td>2013</td>\n",
       "      <td>54493</td>\n",
       "      <td>Petrol</td>\n",
       "      <td>Manual</td>\n",
       "      <td>Second</td>\n",
       "      <td>24.7 kmpl</td>\n",
       "      <td>796 CC</td>\n",
       "      <td>47.3 bhp</td>\n",
       "      <td>5.0</td>\n",
       "      <td>NaN</td>\n",
       "    </tr>\n",
       "    <tr>\n",
       "      <th>2</th>\n",
       "      <td>2</td>\n",
       "      <td>Toyota Innova Crysta Touring Sport 2.4 MT</td>\n",
       "      <td>Mumbai</td>\n",
       "      <td>2017</td>\n",
       "      <td>34000</td>\n",
       "      <td>Diesel</td>\n",
       "      <td>Manual</td>\n",
       "      <td>First</td>\n",
       "      <td>13.68 kmpl</td>\n",
       "      <td>2393 CC</td>\n",
       "      <td>147.8 bhp</td>\n",
       "      <td>7.0</td>\n",
       "      <td>25.27 Lakh</td>\n",
       "    </tr>\n",
       "    <tr>\n",
       "      <th>3</th>\n",
       "      <td>3</td>\n",
       "      <td>Toyota Etios Liva GD</td>\n",
       "      <td>Hyderabad</td>\n",
       "      <td>2012</td>\n",
       "      <td>139000</td>\n",
       "      <td>Diesel</td>\n",
       "      <td>Manual</td>\n",
       "      <td>First</td>\n",
       "      <td>23.59 kmpl</td>\n",
       "      <td>1364 CC</td>\n",
       "      <td>null bhp</td>\n",
       "      <td>5.0</td>\n",
       "      <td>NaN</td>\n",
       "    </tr>\n",
       "  </tbody>\n",
       "</table>\n",
       "</div>"
      ],
      "text/plain": [
       "   Unnamed: 0                                       Name    Location  Year  \\\n",
       "0           0                    Maruti Alto K10 LXI CNG       Delhi  2014   \n",
       "1           1              Maruti Alto 800 2016-2019 LXI  Coimbatore  2013   \n",
       "2           2  Toyota Innova Crysta Touring Sport 2.4 MT      Mumbai  2017   \n",
       "3           3                       Toyota Etios Liva GD   Hyderabad  2012   \n",
       "\n",
       "   Kilometers_Driven Fuel_Type Transmission Owner_Type      Mileage   Engine  \\\n",
       "0              40929       CNG       Manual      First  32.26 km/kg   998 CC   \n",
       "1              54493    Petrol       Manual     Second    24.7 kmpl   796 CC   \n",
       "2              34000    Diesel       Manual      First   13.68 kmpl  2393 CC   \n",
       "3             139000    Diesel       Manual      First   23.59 kmpl  1364 CC   \n",
       "\n",
       "       Power  Seats   New_Price  \n",
       "0   58.2 bhp    4.0         NaN  \n",
       "1   47.3 bhp    5.0         NaN  \n",
       "2  147.8 bhp    7.0  25.27 Lakh  \n",
       "3   null bhp    5.0         NaN  "
      ]
     },
     "execution_count": 4,
     "metadata": {},
     "output_type": "execute_result"
    }
   ],
   "source": [
    "df_test.head(4)"
   ]
  },
  {
   "cell_type": "code",
   "execution_count": 5,
   "metadata": {
    "id": "0LbxdovTG0Rr",
    "outputId": "484df765-3536-4a3c-a28c-8ba9e7d28230"
   },
   "outputs": [
    {
     "data": {
      "text/plain": [
       "Unnamed: 0              0\n",
       "Name                    0\n",
       "Location                0\n",
       "Year                    0\n",
       "Kilometers_Driven       0\n",
       "Fuel_Type               0\n",
       "Transmission            0\n",
       "Owner_Type              0\n",
       "Mileage                 2\n",
       "Engine                 36\n",
       "Power                  36\n",
       "Seats                  42\n",
       "New_Price            5195\n",
       "Price                   0\n",
       "dtype: int64"
      ]
     },
     "execution_count": 5,
     "metadata": {},
     "output_type": "execute_result"
    }
   ],
   "source": [
    "df_train.isnull().sum()"
   ]
  },
  {
   "cell_type": "code",
   "execution_count": 6,
   "metadata": {
    "id": "dy4lje8kG0Rz",
    "outputId": "006dd958-4483-4fba-a80c-e734b97fb591"
   },
   "outputs": [
    {
     "data": {
      "text/plain": [
       "Unnamed: 0              0\n",
       "Name                    0\n",
       "Location                0\n",
       "Year                    0\n",
       "Kilometers_Driven       0\n",
       "Fuel_Type               0\n",
       "Transmission            0\n",
       "Owner_Type              0\n",
       "Mileage                 0\n",
       "Engine                 10\n",
       "Power                  10\n",
       "Seats                  11\n",
       "New_Price            1052\n",
       "dtype: int64"
      ]
     },
     "execution_count": 6,
     "metadata": {},
     "output_type": "execute_result"
    }
   ],
   "source": [
    "df_test.isnull().sum()"
   ]
  },
  {
   "cell_type": "markdown",
   "metadata": {
    "id": "HlLQRlZ-G0R7"
   },
   "source": [
    "##### Analysing sale price "
   ]
  },
  {
   "cell_type": "code",
   "execution_count": 7,
   "metadata": {
    "id": "WqYckhlsG0R9",
    "outputId": "5439a91c-5dcb-4c37-bb8a-4e8112c6d29e"
   },
   "outputs": [
    {
     "data": {
      "text/plain": [
       "<matplotlib.axes._subplots.AxesSubplot at 0xcee4fcdd00>"
      ]
     },
     "execution_count": 7,
     "metadata": {},
     "output_type": "execute_result"
    },
    {
     "data": {
      "image/png": "[encoded data removed]",
      "text/plain": [
       "<Figure size 360x216 with 1 Axes>"
      ]
     },
     "metadata": {
      "needs_background": "light"
     },
     "output_type": "display_data"
    }
   ],
   "source": [
    "# Histogram\n",
    "plt.figure(figsize=(5,3))\n",
    "sns.distplot(df_train.Price)\n",
    "# deviation from normal distribution and chances of outliers"
   ]
  },
  {
   "cell_type": "code",
   "execution_count": 8,
   "metadata": {
    "id": "nNJ-3jJqG0SH",
    "outputId": "730e10a3-4f40-435e-c5fa-3715365a4042"
   },
   "outputs": [
    {
     "data": {
      "text/plain": [
       "<matplotlib.axes._subplots.AxesSubplot at 0xcee716db20>"
      ]
     },
     "execution_count": 8,
     "metadata": {},
     "output_type": "execute_result"
    },
    {
     "data": {
      "image/png": "[encoded data removed]",
      "text/plain": [
       "<Figure size 576x360 with 1 Axes>"
      ]
     },
     "metadata": {
      "needs_background": "light"
     },
     "output_type": "display_data"
    }
   ],
   "source": [
    "plt.figure(figsize=(8,5))\n",
    "sns.boxplot(df_train.Price )"
   ]
  },
  {
   "cell_type": "code",
   "execution_count": 9,
   "metadata": {
    "id": "93yaT3BhG0SO",
    "outputId": "eda4b59a-0246-4f9f-a801-a7ffdff8987b"
   },
   "outputs": [
    {
     "name": "stdout",
     "output_type": "stream",
     "text": [
      "Skewness: 3.335232\n",
      "Kurtosis: 17.092202\n"
     ]
    }
   ],
   "source": [
    "#skewness and kurtosis\n",
    "print(\"Skewness: %f\" % df_train['Price'].skew())\n",
    "print(\"Kurtosis: %f\" % df_train['Price'].kurt())\n",
    "# We are expecting a heavily tailed data with lot of outliers."
   ]
  },
  {
   "cell_type": "code",
   "execution_count": 10,
   "metadata": {
    "id": "Ot_nRYKHG0SU",
    "outputId": "0e09934e-9a1d-46b7-b212-1d6e062ae68c"
   },
   "outputs": [
    {
     "data": {
      "text/plain": [
       "<seaborn.axisgrid.PairGrid at 0xcee71d9eb0>"
      ]
     },
     "execution_count": 10,
     "metadata": {},
     "output_type": "execute_result"
    },
    {
     "data": {
      "image/png": "[encoded data removed]",
      "text/plain": [
       "<Figure size 900x900 with 30 Axes>"
      ]
     },
     "metadata": {
      "needs_background": "light"
     },
     "output_type": "display_data"
    }
   ],
   "source": [
    "sns.pairplot(df_train)"
   ]
  },
  {
   "cell_type": "markdown",
   "metadata": {
    "id": "GC7gCH8iG0Sc"
   },
   "source": [
    "##### What we have to do is a lot of groupby and specifically column wise related , \n",
    "### Feature Engineering"
   ]
  },
  {
   "cell_type": "markdown",
   "metadata": {
    "id": "unzbGJtfG0Sd"
   },
   "source": [
    "###### Lets treat numeric and Categorical columns seperately also some columns contain numeric values mixed up with object we need to carefully extract those features too."
   ]
  },
  {
   "cell_type": "code",
   "execution_count": 11,
   "metadata": {
    "id": "hW3PO2OrG0Se"
   },
   "outputs": [],
   "source": [
    "# dropping unnamed column from both dataset\n",
    "df_train = df_train.drop(['Unnamed: 0','New_Price'],axis=1)\n",
    "df_test = df_test.drop(['Unnamed: 0','New_Price'],axis=1)"
   ]
  },
  {
   "cell_type": "code",
   "execution_count": 12,
   "metadata": {
    "id": "Vg-T8DgWG0Sk",
    "outputId": "caddb9a4-6c9e-4158-cedd-5575115d7a3b"
   },
   "outputs": [
    {
     "data": {
      "text/html": [
       "<div>\n",
       "<style scoped>\n",
       "    .dataframe tbody tr th:only-of-type {\n",
       "        vertical-align: middle;\n",
       "    }\n",
       "\n",
       "    .dataframe tbody tr th {\n",
       "        vertical-align: top;\n",
       "    }\n",
       "\n",
       "    .dataframe thead th {\n",
       "        text-align: right;\n",
       "    }\n",
       "</style>\n",
       "<table border=\"1\" class=\"dataframe\">\n",
       "  <thead>\n",
       "    <tr style=\"text-align: right;\">\n",
       "      <th></th>\n",
       "      <th>Name</th>\n",
       "      <th>Location</th>\n",
       "      <th>Year</th>\n",
       "      <th>Kilometers_Driven</th>\n",
       "      <th>Fuel_Type</th>\n",
       "      <th>Transmission</th>\n",
       "      <th>Owner_Type</th>\n",
       "      <th>Mileage</th>\n",
       "      <th>Engine</th>\n",
       "      <th>Power</th>\n",
       "      <th>Seats</th>\n",
       "      <th>Price</th>\n",
       "    </tr>\n",
       "  </thead>\n",
       "  <tbody>\n",
       "    <tr>\n",
       "      <th>3635</th>\n",
       "      <td>Hyundai Verna VTVT 1.6 AT EX</td>\n",
       "      <td>Pune</td>\n",
       "      <td>2013</td>\n",
       "      <td>37086</td>\n",
       "      <td>Petrol</td>\n",
       "      <td>Automatic</td>\n",
       "      <td>First</td>\n",
       "      <td>17.0 kmpl</td>\n",
       "      <td>1591 CC</td>\n",
       "      <td>121.3 bhp</td>\n",
       "      <td>5.0</td>\n",
       "      <td>5.44</td>\n",
       "    </tr>\n",
       "    <tr>\n",
       "      <th>386</th>\n",
       "      <td>Hyundai Santro Xing XL eRLX Euro III</td>\n",
       "      <td>Hyderabad</td>\n",
       "      <td>2007</td>\n",
       "      <td>50958</td>\n",
       "      <td>Petrol</td>\n",
       "      <td>Manual</td>\n",
       "      <td>First</td>\n",
       "      <td>17.0 kmpl</td>\n",
       "      <td>1086 CC</td>\n",
       "      <td>null bhp</td>\n",
       "      <td>5.0</td>\n",
       "      <td>1.95</td>\n",
       "    </tr>\n",
       "    <tr>\n",
       "      <th>4700</th>\n",
       "      <td>Hyundai i20 Sportz Petrol</td>\n",
       "      <td>Kochi</td>\n",
       "      <td>2011</td>\n",
       "      <td>62020</td>\n",
       "      <td>Petrol</td>\n",
       "      <td>Manual</td>\n",
       "      <td>First</td>\n",
       "      <td>17.0 kmpl</td>\n",
       "      <td>1197 CC</td>\n",
       "      <td>80 bhp</td>\n",
       "      <td>5.0</td>\n",
       "      <td>3.45</td>\n",
       "    </tr>\n",
       "    <tr>\n",
       "      <th>996</th>\n",
       "      <td>Hyundai Santro Xing GL</td>\n",
       "      <td>Pune</td>\n",
       "      <td>2008</td>\n",
       "      <td>93000</td>\n",
       "      <td>Petrol</td>\n",
       "      <td>Manual</td>\n",
       "      <td>First</td>\n",
       "      <td>0.0 kmpl</td>\n",
       "      <td>1086 CC</td>\n",
       "      <td>62 bhp</td>\n",
       "      <td>5.0</td>\n",
       "      <td>1.45</td>\n",
       "    </tr>\n",
       "  </tbody>\n",
       "</table>\n",
       "</div>"
      ],
      "text/plain": [
       "                                      Name   Location  Year  \\\n",
       "3635          Hyundai Verna VTVT 1.6 AT EX       Pune  2013   \n",
       "386   Hyundai Santro Xing XL eRLX Euro III  Hyderabad  2007   \n",
       "4700             Hyundai i20 Sportz Petrol      Kochi  2011   \n",
       "996                 Hyundai Santro Xing GL       Pune  2008   \n",
       "\n",
       "      Kilometers_Driven Fuel_Type Transmission Owner_Type    Mileage   Engine  \\\n",
       "3635              37086    Petrol    Automatic      First  17.0 kmpl  1591 CC   \n",
       "386               50958    Petrol       Manual      First  17.0 kmpl  1086 CC   \n",
       "4700              62020    Petrol       Manual      First  17.0 kmpl  1197 CC   \n",
       "996               93000    Petrol       Manual      First   0.0 kmpl  1086 CC   \n",
       "\n",
       "          Power  Seats  Price  \n",
       "3635  121.3 bhp    5.0   5.44  \n",
       "386    null bhp    5.0   1.95  \n",
       "4700     80 bhp    5.0   3.45  \n",
       "996      62 bhp    5.0   1.45  "
      ]
     },
     "execution_count": 12,
     "metadata": {},
     "output_type": "execute_result"
    }
   ],
   "source": [
    "df_train.sample(4)"
   ]
  },
  {
   "cell_type": "code",
   "execution_count": 13,
   "metadata": {
    "id": "ST3JcO4mG0St",
    "outputId": "41ed4ad0-2fcb-4f14-cacc-d3a0967e8056"
   },
   "outputs": [
    {
     "data": {
      "text/html": [
       "<div>\n",
       "<style scoped>\n",
       "    .dataframe tbody tr th:only-of-type {\n",
       "        vertical-align: middle;\n",
       "    }\n",
       "\n",
       "    .dataframe tbody tr th {\n",
       "        vertical-align: top;\n",
       "    }\n",
       "\n",
       "    .dataframe thead th {\n",
       "        text-align: right;\n",
       "    }\n",
       "</style>\n",
       "<table border=\"1\" class=\"dataframe\">\n",
       "  <thead>\n",
       "    <tr style=\"text-align: right;\">\n",
       "      <th></th>\n",
       "      <th>Name</th>\n",
       "      <th>Location</th>\n",
       "      <th>Year</th>\n",
       "      <th>Kilometers_Driven</th>\n",
       "      <th>Fuel_Type</th>\n",
       "      <th>Transmission</th>\n",
       "      <th>Owner_Type</th>\n",
       "      <th>Mileage</th>\n",
       "      <th>Engine</th>\n",
       "      <th>Power</th>\n",
       "      <th>Seats</th>\n",
       "    </tr>\n",
       "  </thead>\n",
       "  <tbody>\n",
       "    <tr>\n",
       "      <th>481</th>\n",
       "      <td>Maruti Zen Estilo VXI BSIII</td>\n",
       "      <td>Jaipur</td>\n",
       "      <td>2006</td>\n",
       "      <td>96000</td>\n",
       "      <td>Petrol</td>\n",
       "      <td>Manual</td>\n",
       "      <td>Second</td>\n",
       "      <td>18.2 kmpl</td>\n",
       "      <td>998 CC</td>\n",
       "      <td>67.1 bhp</td>\n",
       "      <td>5.0</td>\n",
       "    </tr>\n",
       "    <tr>\n",
       "      <th>695</th>\n",
       "      <td>Mahindra KUV 100 G80 K4 Plus 5Str</td>\n",
       "      <td>Chennai</td>\n",
       "      <td>2018</td>\n",
       "      <td>5600</td>\n",
       "      <td>Petrol</td>\n",
       "      <td>Manual</td>\n",
       "      <td>First</td>\n",
       "      <td>18.15 kmpl</td>\n",
       "      <td>1198 CC</td>\n",
       "      <td>82 bhp</td>\n",
       "      <td>5.0</td>\n",
       "    </tr>\n",
       "    <tr>\n",
       "      <th>593</th>\n",
       "      <td>Volkswagen Vento Diesel Highline</td>\n",
       "      <td>Chennai</td>\n",
       "      <td>2012</td>\n",
       "      <td>60000</td>\n",
       "      <td>Diesel</td>\n",
       "      <td>Manual</td>\n",
       "      <td>First</td>\n",
       "      <td>20.54 kmpl</td>\n",
       "      <td>1598 CC</td>\n",
       "      <td>103.6 bhp</td>\n",
       "      <td>5.0</td>\n",
       "    </tr>\n",
       "    <tr>\n",
       "      <th>997</th>\n",
       "      <td>Audi A6 2011-2015 35 TDI Premium</td>\n",
       "      <td>Kochi</td>\n",
       "      <td>2015</td>\n",
       "      <td>21730</td>\n",
       "      <td>Diesel</td>\n",
       "      <td>Automatic</td>\n",
       "      <td>First</td>\n",
       "      <td>17.68 kmpl</td>\n",
       "      <td>1968 CC</td>\n",
       "      <td>174.33 bhp</td>\n",
       "      <td>5.0</td>\n",
       "    </tr>\n",
       "    <tr>\n",
       "      <th>771</th>\n",
       "      <td>Toyota Innova Crysta 2.4 G MT 8S</td>\n",
       "      <td>Kochi</td>\n",
       "      <td>2018</td>\n",
       "      <td>21302</td>\n",
       "      <td>Diesel</td>\n",
       "      <td>Manual</td>\n",
       "      <td>First</td>\n",
       "      <td>13.68 kmpl</td>\n",
       "      <td>2393 CC</td>\n",
       "      <td>147.8 bhp</td>\n",
       "      <td>8.0</td>\n",
       "    </tr>\n",
       "  </tbody>\n",
       "</table>\n",
       "</div>"
      ],
      "text/plain": [
       "                                  Name Location  Year  Kilometers_Driven  \\\n",
       "481        Maruti Zen Estilo VXI BSIII   Jaipur  2006              96000   \n",
       "695  Mahindra KUV 100 G80 K4 Plus 5Str  Chennai  2018               5600   \n",
       "593   Volkswagen Vento Diesel Highline  Chennai  2012              60000   \n",
       "997   Audi A6 2011-2015 35 TDI Premium    Kochi  2015              21730   \n",
       "771   Toyota Innova Crysta 2.4 G MT 8S    Kochi  2018              21302   \n",
       "\n",
       "    Fuel_Type Transmission Owner_Type     Mileage   Engine       Power  Seats  \n",
       "481    Petrol       Manual     Second   18.2 kmpl   998 CC    67.1 bhp    5.0  \n",
       "695    Petrol       Manual      First  18.15 kmpl  1198 CC      82 bhp    5.0  \n",
       "593    Diesel       Manual      First  20.54 kmpl  1598 CC   103.6 bhp    5.0  \n",
       "997    Diesel    Automatic      First  17.68 kmpl  1968 CC  174.33 bhp    5.0  \n",
       "771    Diesel       Manual      First  13.68 kmpl  2393 CC   147.8 bhp    8.0  "
      ]
     },
     "execution_count": 13,
     "metadata": {},
     "output_type": "execute_result"
    }
   ],
   "source": [
    "df_test.sample(5)"
   ]
  },
  {
   "cell_type": "code",
   "execution_count": 14,
   "metadata": {
    "id": "7uFRr2JsG0S0",
    "outputId": "ed9935a5-2c6f-44f6-b049-972bb0b2a493"
   },
   "outputs": [
    {
     "name": "stdout",
     "output_type": "stream",
     "text": [
      "<class 'pandas.core.frame.DataFrame'>\n",
      "RangeIndex: 6019 entries, 0 to 6018\n",
      "Data columns (total 12 columns):\n",
      " #   Column             Non-Null Count  Dtype  \n",
      "---  ------             --------------  -----  \n",
      " 0   Name               6019 non-null   object \n",
      " 1   Location           6019 non-null   object \n",
      " 2   Year               6019 non-null   int64  \n",
      " 3   Kilometers_Driven  6019 non-null   int64  \n",
      " 4   Fuel_Type          6019 non-null   object \n",
      " 5   Transmission       6019 non-null   object \n",
      " 6   Owner_Type         6019 non-null   object \n",
      " 7   Mileage            6017 non-null   object \n",
      " 8   Engine             5983 non-null   object \n",
      " 9   Power              5983 non-null   object \n",
      " 10  Seats              5977 non-null   float64\n",
      " 11  Price              6019 non-null   float64\n",
      "dtypes: float64(2), int64(2), object(8)\n",
      "memory usage: 564.4+ KB\n"
     ]
    }
   ],
   "source": [
    "df_train.info()"
   ]
  },
  {
   "cell_type": "markdown",
   "metadata": {
    "id": "LRr2Rmt6G0S6"
   },
   "source": [
    "#### First of all We can change object columns into numeric that are actually supposed to be numeric"
   ]
  },
  {
   "cell_type": "code",
   "execution_count": 15,
   "metadata": {
    "id": "wJgx9JF-G0S7"
   },
   "outputs": [],
   "source": [
    "numset = ['Mileage','Engine','Power']\n",
    "dftrain_numset = df_train[numset]\n",
    "dftest_numset = df_test[numset]"
   ]
  },
  {
   "cell_type": "code",
   "execution_count": 16,
   "metadata": {
    "id": "i0sU905XG0TB",
    "outputId": "f4051a85-1585-4f1e-a8a1-c3c81c46e3c1"
   },
   "outputs": [
    {
     "data": {
      "text/plain": [
       "Index(['Mileage', 'Engine', 'Power'], dtype='object')"
      ]
     },
     "execution_count": 16,
     "metadata": {},
     "output_type": "execute_result"
    }
   ],
   "source": [
    "df_train[numset].columns"
   ]
  },
  {
   "cell_type": "code",
   "execution_count": 17,
   "metadata": {
    "id": "gIOC0SecG0TH"
   },
   "outputs": [],
   "source": [
    "def trans_flt(df):\n",
    "    for c in df.columns:\n",
    "        df[c] = df[c].replace('[^\\d.]','',regex=True)\n",
    "        df[c] = pd.to_numeric(df[c],errors='coerce')\n",
    "    return df"
   ]
  },
  {
   "cell_type": "code",
   "execution_count": 18,
   "metadata": {
    "id": "EFvL0j51G0TN"
   },
   "outputs": [],
   "source": [
    "df_test[numset] = trans_flt(df_test[numset])"
   ]
  },
  {
   "cell_type": "code",
   "execution_count": 19,
   "metadata": {
    "id": "L5uvxVykG0TT",
    "outputId": "01087d94-c5ae-46f0-e554-c46c09418fa8"
   },
   "outputs": [
    {
     "data": {
      "text/html": [
       "<div>\n",
       "<style scoped>\n",
       "    .dataframe tbody tr th:only-of-type {\n",
       "        vertical-align: middle;\n",
       "    }\n",
       "\n",
       "    .dataframe tbody tr th {\n",
       "        vertical-align: top;\n",
       "    }\n",
       "\n",
       "    .dataframe thead th {\n",
       "        text-align: right;\n",
       "    }\n",
       "</style>\n",
       "<table border=\"1\" class=\"dataframe\">\n",
       "  <thead>\n",
       "    <tr style=\"text-align: right;\">\n",
       "      <th></th>\n",
       "      <th>Name</th>\n",
       "      <th>Location</th>\n",
       "      <th>Year</th>\n",
       "      <th>Kilometers_Driven</th>\n",
       "      <th>Fuel_Type</th>\n",
       "      <th>Transmission</th>\n",
       "      <th>Owner_Type</th>\n",
       "      <th>Mileage</th>\n",
       "      <th>Engine</th>\n",
       "      <th>Power</th>\n",
       "      <th>Seats</th>\n",
       "    </tr>\n",
       "  </thead>\n",
       "  <tbody>\n",
       "    <tr>\n",
       "      <th>6</th>\n",
       "      <td>Toyota Fortuner 4x2 AT TRD Sportivo</td>\n",
       "      <td>Pune</td>\n",
       "      <td>2015</td>\n",
       "      <td>59000</td>\n",
       "      <td>Diesel</td>\n",
       "      <td>Automatic</td>\n",
       "      <td>First</td>\n",
       "      <td>12.55</td>\n",
       "      <td>2982.0</td>\n",
       "      <td>168.70</td>\n",
       "      <td>7.0</td>\n",
       "    </tr>\n",
       "    <tr>\n",
       "      <th>1073</th>\n",
       "      <td>Hyundai Santro Xing XG AT eRLX Euro III</td>\n",
       "      <td>Coimbatore</td>\n",
       "      <td>2007</td>\n",
       "      <td>64168</td>\n",
       "      <td>Petrol</td>\n",
       "      <td>Automatic</td>\n",
       "      <td>First</td>\n",
       "      <td>17.00</td>\n",
       "      <td>1086.0</td>\n",
       "      <td>NaN</td>\n",
       "      <td>5.0</td>\n",
       "    </tr>\n",
       "    <tr>\n",
       "      <th>803</th>\n",
       "      <td>Hyundai Grand i10 Asta Option</td>\n",
       "      <td>Pune</td>\n",
       "      <td>2014</td>\n",
       "      <td>25000</td>\n",
       "      <td>Petrol</td>\n",
       "      <td>Manual</td>\n",
       "      <td>First</td>\n",
       "      <td>18.90</td>\n",
       "      <td>1197.0</td>\n",
       "      <td>82.00</td>\n",
       "      <td>5.0</td>\n",
       "    </tr>\n",
       "    <tr>\n",
       "      <th>876</th>\n",
       "      <td>Maruti Ritz VDi</td>\n",
       "      <td>Bangalore</td>\n",
       "      <td>2013</td>\n",
       "      <td>49000</td>\n",
       "      <td>Diesel</td>\n",
       "      <td>Manual</td>\n",
       "      <td>First</td>\n",
       "      <td>23.20</td>\n",
       "      <td>1248.0</td>\n",
       "      <td>73.94</td>\n",
       "      <td>5.0</td>\n",
       "    </tr>\n",
       "    <tr>\n",
       "      <th>642</th>\n",
       "      <td>Mercedes-Benz E-Class 2009-2013 E250 CDI Blue ...</td>\n",
       "      <td>Pune</td>\n",
       "      <td>2013</td>\n",
       "      <td>88700</td>\n",
       "      <td>Diesel</td>\n",
       "      <td>Automatic</td>\n",
       "      <td>First</td>\n",
       "      <td>14.21</td>\n",
       "      <td>2143.0</td>\n",
       "      <td>203.00</td>\n",
       "      <td>5.0</td>\n",
       "    </tr>\n",
       "    <tr>\n",
       "      <th>624</th>\n",
       "      <td>BMW 5 Series 520d Sedan</td>\n",
       "      <td>Bangalore</td>\n",
       "      <td>2009</td>\n",
       "      <td>150000</td>\n",
       "      <td>Diesel</td>\n",
       "      <td>Automatic</td>\n",
       "      <td>Second</td>\n",
       "      <td>18.48</td>\n",
       "      <td>NaN</td>\n",
       "      <td>NaN</td>\n",
       "      <td>NaN</td>\n",
       "    </tr>\n",
       "  </tbody>\n",
       "</table>\n",
       "</div>"
      ],
      "text/plain": [
       "                                                   Name    Location  Year  \\\n",
       "6                   Toyota Fortuner 4x2 AT TRD Sportivo        Pune  2015   \n",
       "1073            Hyundai Santro Xing XG AT eRLX Euro III  Coimbatore  2007   \n",
       "803                       Hyundai Grand i10 Asta Option        Pune  2014   \n",
       "876                                     Maruti Ritz VDi   Bangalore  2013   \n",
       "642   Mercedes-Benz E-Class 2009-2013 E250 CDI Blue ...        Pune  2013   \n",
       "624                             BMW 5 Series 520d Sedan   Bangalore  2009   \n",
       "\n",
       "      Kilometers_Driven Fuel_Type Transmission Owner_Type  Mileage  Engine  \\\n",
       "6                 59000    Diesel    Automatic      First    12.55  2982.0   \n",
       "1073              64168    Petrol    Automatic      First    17.00  1086.0   \n",
       "803               25000    Petrol       Manual      First    18.90  1197.0   \n",
       "876               49000    Diesel       Manual      First    23.20  1248.0   \n",
       "642               88700    Diesel    Automatic      First    14.21  2143.0   \n",
       "624              150000    Diesel    Automatic     Second    18.48     NaN   \n",
       "\n",
       "       Power  Seats  \n",
       "6     168.70    7.0  \n",
       "1073     NaN    5.0  \n",
       "803    82.00    5.0  \n",
       "876    73.94    5.0  \n",
       "642   203.00    5.0  \n",
       "624      NaN    NaN  "
      ]
     },
     "execution_count": 19,
     "metadata": {},
     "output_type": "execute_result"
    }
   ],
   "source": [
    "df_test.sample(6)"
   ]
  },
  {
   "cell_type": "code",
   "execution_count": 20,
   "metadata": {
    "id": "9MkEKZzOG0TZ"
   },
   "outputs": [],
   "source": [
    "df_train[numset] = trans_flt(df_train[numset])"
   ]
  },
  {
   "cell_type": "code",
   "execution_count": 21,
   "metadata": {
    "id": "qYDm3gq_G0Tg",
    "outputId": "72a7d0de-84f4-43d2-8f67-5b5e996c61c4"
   },
   "outputs": [
    {
     "data": {
      "text/html": [
       "<div>\n",
       "<style scoped>\n",
       "    .dataframe tbody tr th:only-of-type {\n",
       "        vertical-align: middle;\n",
       "    }\n",
       "\n",
       "    .dataframe tbody tr th {\n",
       "        vertical-align: top;\n",
       "    }\n",
       "\n",
       "    .dataframe thead th {\n",
       "        text-align: right;\n",
       "    }\n",
       "</style>\n",
       "<table border=\"1\" class=\"dataframe\">\n",
       "  <thead>\n",
       "    <tr style=\"text-align: right;\">\n",
       "      <th></th>\n",
       "      <th>Name</th>\n",
       "      <th>Location</th>\n",
       "      <th>Year</th>\n",
       "      <th>Kilometers_Driven</th>\n",
       "      <th>Fuel_Type</th>\n",
       "      <th>Transmission</th>\n",
       "      <th>Owner_Type</th>\n",
       "      <th>Mileage</th>\n",
       "      <th>Engine</th>\n",
       "      <th>Power</th>\n",
       "      <th>Seats</th>\n",
       "      <th>Price</th>\n",
       "    </tr>\n",
       "  </thead>\n",
       "  <tbody>\n",
       "    <tr>\n",
       "      <th>1526</th>\n",
       "      <td>Skoda Yeti Ambition 4X2</td>\n",
       "      <td>Hyderabad</td>\n",
       "      <td>2012</td>\n",
       "      <td>99754</td>\n",
       "      <td>Diesel</td>\n",
       "      <td>Manual</td>\n",
       "      <td>First</td>\n",
       "      <td>17.72</td>\n",
       "      <td>1968.0</td>\n",
       "      <td>108.49</td>\n",
       "      <td>5.0</td>\n",
       "      <td>7.99</td>\n",
       "    </tr>\n",
       "    <tr>\n",
       "      <th>2017</th>\n",
       "      <td>Jaguar XF 2.2 Litre Luxury</td>\n",
       "      <td>Mumbai</td>\n",
       "      <td>2013</td>\n",
       "      <td>31400</td>\n",
       "      <td>Diesel</td>\n",
       "      <td>Automatic</td>\n",
       "      <td>First</td>\n",
       "      <td>16.36</td>\n",
       "      <td>2179.0</td>\n",
       "      <td>187.70</td>\n",
       "      <td>5.0</td>\n",
       "      <td>26.75</td>\n",
       "    </tr>\n",
       "    <tr>\n",
       "      <th>1779</th>\n",
       "      <td>Mahindra XUV500 W8 2WD</td>\n",
       "      <td>Kochi</td>\n",
       "      <td>2014</td>\n",
       "      <td>70963</td>\n",
       "      <td>Diesel</td>\n",
       "      <td>Manual</td>\n",
       "      <td>First</td>\n",
       "      <td>15.10</td>\n",
       "      <td>2179.0</td>\n",
       "      <td>140.00</td>\n",
       "      <td>7.0</td>\n",
       "      <td>7.83</td>\n",
       "    </tr>\n",
       "    <tr>\n",
       "      <th>2828</th>\n",
       "      <td>Fiat Avventura MULTIJET Emotion</td>\n",
       "      <td>Coimbatore</td>\n",
       "      <td>2018</td>\n",
       "      <td>18705</td>\n",
       "      <td>Diesel</td>\n",
       "      <td>Manual</td>\n",
       "      <td>First</td>\n",
       "      <td>20.50</td>\n",
       "      <td>1248.0</td>\n",
       "      <td>91.72</td>\n",
       "      <td>5.0</td>\n",
       "      <td>7.71</td>\n",
       "    </tr>\n",
       "  </tbody>\n",
       "</table>\n",
       "</div>"
      ],
      "text/plain": [
       "                                 Name    Location  Year  Kilometers_Driven  \\\n",
       "1526          Skoda Yeti Ambition 4X2   Hyderabad  2012              99754   \n",
       "2017       Jaguar XF 2.2 Litre Luxury      Mumbai  2013              31400   \n",
       "1779           Mahindra XUV500 W8 2WD       Kochi  2014              70963   \n",
       "2828  Fiat Avventura MULTIJET Emotion  Coimbatore  2018              18705   \n",
       "\n",
       "     Fuel_Type Transmission Owner_Type  Mileage  Engine   Power  Seats  Price  \n",
       "1526    Diesel       Manual      First    17.72  1968.0  108.49    5.0   7.99  \n",
       "2017    Diesel    Automatic      First    16.36  2179.0  187.70    5.0  26.75  \n",
       "1779    Diesel       Manual      First    15.10  2179.0  140.00    7.0   7.83  \n",
       "2828    Diesel       Manual      First    20.50  1248.0   91.72    5.0   7.71  "
      ]
     },
     "execution_count": 21,
     "metadata": {},
     "output_type": "execute_result"
    }
   ],
   "source": [
    "df_train.sample(4)"
   ]
  },
  {
   "cell_type": "markdown",
   "metadata": {
    "id": "p72UUMKoG0Tm"
   },
   "source": [
    "### Treating Missing values."
   ]
  },
  {
   "cell_type": "code",
   "execution_count": 22,
   "metadata": {
    "id": "pd6Ah4thG0Tn",
    "outputId": "8fce2883-981a-465d-a52b-dd44b3b4175d"
   },
   "outputs": [
    {
     "data": {
      "text/plain": [
       "<matplotlib.axes._subplots.AxesSubplot at 0xcee8213c10>"
      ]
     },
     "execution_count": 22,
     "metadata": {},
     "output_type": "execute_result"
    },
    {
     "data": {
      "image/png": "[encoded data removed]",
      "text/plain": [
       "<Figure size 432x288 with 1 Axes>"
      ]
     },
     "metadata": {
      "needs_background": "light"
     },
     "output_type": "display_data"
    }
   ],
   "source": [
    "sns.heatmap(df_train.isnull(),yticklabels=False,cbar=False,cmap='viridis')"
   ]
  },
  {
   "cell_type": "code",
   "execution_count": 23,
   "metadata": {
    "id": "HESkOgC5G0Tt",
    "outputId": "dec87616-8ff1-4dcd-cbdf-78133a09bc25"
   },
   "outputs": [
    {
     "data": {
      "text/plain": [
       "<matplotlib.axes._subplots.AxesSubplot at 0xcee8b7a880>"
      ]
     },
     "execution_count": 23,
     "metadata": {},
     "output_type": "execute_result"
    },
    {
     "data": {
      "image/png": "[encoded data removed]",
      "text/plain": [
       "<Figure size 432x288 with 1 Axes>"
      ]
     },
     "metadata": {
      "needs_background": "light"
     },
     "output_type": "display_data"
    }
   ],
   "source": [
    "sns.heatmap(df_test.isnull(),yticklabels=False,cbar=False,cmap='viridis')"
   ]
  },
  {
   "cell_type": "markdown",
   "metadata": {
    "id": "ZacqINUcG0T5"
   },
   "source": [
    "##### Looks like our power,Engine,seats columns have more no.of null values."
   ]
  },
  {
   "cell_type": "code",
   "execution_count": 24,
   "metadata": {
    "id": "uXrVLKUsG0T6",
    "outputId": "e5c7023a-bd99-4a8f-adbb-ced6fa51ffb5"
   },
   "outputs": [
    {
     "data": {
      "text/html": [
       "<div>\n",
       "<style scoped>\n",
       "    .dataframe tbody tr th:only-of-type {\n",
       "        vertical-align: middle;\n",
       "    }\n",
       "\n",
       "    .dataframe tbody tr th {\n",
       "        vertical-align: top;\n",
       "    }\n",
       "\n",
       "    .dataframe thead th {\n",
       "        text-align: right;\n",
       "    }\n",
       "</style>\n",
       "<table border=\"1\" class=\"dataframe\">\n",
       "  <thead>\n",
       "    <tr style=\"text-align: right;\">\n",
       "      <th></th>\n",
       "      <th>Name</th>\n",
       "      <th>Location</th>\n",
       "      <th>Year</th>\n",
       "      <th>Kilometers_Driven</th>\n",
       "      <th>Fuel_Type</th>\n",
       "      <th>Transmission</th>\n",
       "      <th>Owner_Type</th>\n",
       "      <th>Mileage</th>\n",
       "      <th>Engine</th>\n",
       "      <th>Power</th>\n",
       "      <th>Seats</th>\n",
       "      <th>Price</th>\n",
       "    </tr>\n",
       "  </thead>\n",
       "  <tbody>\n",
       "    <tr>\n",
       "      <th>194</th>\n",
       "      <td>Honda City 1.5 GXI</td>\n",
       "      <td>Ahmedabad</td>\n",
       "      <td>2007</td>\n",
       "      <td>60006</td>\n",
       "      <td>Petrol</td>\n",
       "      <td>Manual</td>\n",
       "      <td>First</td>\n",
       "      <td>0.00</td>\n",
       "      <td>NaN</td>\n",
       "      <td>NaN</td>\n",
       "      <td>NaN</td>\n",
       "      <td>2.95</td>\n",
       "    </tr>\n",
       "    <tr>\n",
       "      <th>208</th>\n",
       "      <td>Maruti Swift 1.3 VXi</td>\n",
       "      <td>Kolkata</td>\n",
       "      <td>2010</td>\n",
       "      <td>42001</td>\n",
       "      <td>Petrol</td>\n",
       "      <td>Manual</td>\n",
       "      <td>First</td>\n",
       "      <td>16.10</td>\n",
       "      <td>NaN</td>\n",
       "      <td>NaN</td>\n",
       "      <td>NaN</td>\n",
       "      <td>2.11</td>\n",
       "    </tr>\n",
       "    <tr>\n",
       "      <th>733</th>\n",
       "      <td>Maruti Swift 1.3 VXi</td>\n",
       "      <td>Chennai</td>\n",
       "      <td>2006</td>\n",
       "      <td>97800</td>\n",
       "      <td>Petrol</td>\n",
       "      <td>Manual</td>\n",
       "      <td>Third</td>\n",
       "      <td>16.10</td>\n",
       "      <td>NaN</td>\n",
       "      <td>NaN</td>\n",
       "      <td>NaN</td>\n",
       "      <td>1.75</td>\n",
       "    </tr>\n",
       "    <tr>\n",
       "      <th>749</th>\n",
       "      <td>Land Rover Range Rover 3.0 D</td>\n",
       "      <td>Mumbai</td>\n",
       "      <td>2008</td>\n",
       "      <td>55001</td>\n",
       "      <td>Diesel</td>\n",
       "      <td>Automatic</td>\n",
       "      <td>Second</td>\n",
       "      <td>0.00</td>\n",
       "      <td>NaN</td>\n",
       "      <td>NaN</td>\n",
       "      <td>NaN</td>\n",
       "      <td>26.50</td>\n",
       "    </tr>\n",
       "    <tr>\n",
       "      <th>1294</th>\n",
       "      <td>Honda City 1.3 DX</td>\n",
       "      <td>Delhi</td>\n",
       "      <td>2009</td>\n",
       "      <td>55005</td>\n",
       "      <td>Petrol</td>\n",
       "      <td>Manual</td>\n",
       "      <td>First</td>\n",
       "      <td>12.80</td>\n",
       "      <td>NaN</td>\n",
       "      <td>NaN</td>\n",
       "      <td>NaN</td>\n",
       "      <td>3.20</td>\n",
       "    </tr>\n",
       "    <tr>\n",
       "      <th>1327</th>\n",
       "      <td>Maruti Swift 1.3 ZXI</td>\n",
       "      <td>Hyderabad</td>\n",
       "      <td>2015</td>\n",
       "      <td>50295</td>\n",
       "      <td>Petrol</td>\n",
       "      <td>Manual</td>\n",
       "      <td>First</td>\n",
       "      <td>16.10</td>\n",
       "      <td>NaN</td>\n",
       "      <td>NaN</td>\n",
       "      <td>NaN</td>\n",
       "      <td>5.80</td>\n",
       "    </tr>\n",
       "    <tr>\n",
       "      <th>1385</th>\n",
       "      <td>Honda City 1.5 GXI</td>\n",
       "      <td>Pune</td>\n",
       "      <td>2004</td>\n",
       "      <td>115000</td>\n",
       "      <td>Petrol</td>\n",
       "      <td>Manual</td>\n",
       "      <td>Second</td>\n",
       "      <td>0.00</td>\n",
       "      <td>NaN</td>\n",
       "      <td>NaN</td>\n",
       "      <td>NaN</td>\n",
       "      <td>1.50</td>\n",
       "    </tr>\n",
       "    <tr>\n",
       "      <th>1460</th>\n",
       "      <td>Land Rover Range Rover Sport 2005 2012 Sport</td>\n",
       "      <td>Coimbatore</td>\n",
       "      <td>2008</td>\n",
       "      <td>69078</td>\n",
       "      <td>Petrol</td>\n",
       "      <td>Manual</td>\n",
       "      <td>First</td>\n",
       "      <td>0.00</td>\n",
       "      <td>NaN</td>\n",
       "      <td>NaN</td>\n",
       "      <td>NaN</td>\n",
       "      <td>40.88</td>\n",
       "    </tr>\n",
       "    <tr>\n",
       "      <th>2074</th>\n",
       "      <td>Maruti Swift 1.3 LXI</td>\n",
       "      <td>Pune</td>\n",
       "      <td>2011</td>\n",
       "      <td>24255</td>\n",
       "      <td>Petrol</td>\n",
       "      <td>Manual</td>\n",
       "      <td>First</td>\n",
       "      <td>16.10</td>\n",
       "      <td>NaN</td>\n",
       "      <td>NaN</td>\n",
       "      <td>NaN</td>\n",
       "      <td>3.15</td>\n",
       "    </tr>\n",
       "    <tr>\n",
       "      <th>2096</th>\n",
       "      <td>Hyundai Santro LP zipPlus</td>\n",
       "      <td>Coimbatore</td>\n",
       "      <td>2004</td>\n",
       "      <td>52146</td>\n",
       "      <td>Petrol</td>\n",
       "      <td>Manual</td>\n",
       "      <td>First</td>\n",
       "      <td>0.00</td>\n",
       "      <td>NaN</td>\n",
       "      <td>NaN</td>\n",
       "      <td>NaN</td>\n",
       "      <td>1.93</td>\n",
       "    </tr>\n",
       "    <tr>\n",
       "      <th>2264</th>\n",
       "      <td>Toyota Etios Liva V</td>\n",
       "      <td>Pune</td>\n",
       "      <td>2012</td>\n",
       "      <td>24500</td>\n",
       "      <td>Petrol</td>\n",
       "      <td>Manual</td>\n",
       "      <td>Second</td>\n",
       "      <td>18.30</td>\n",
       "      <td>NaN</td>\n",
       "      <td>NaN</td>\n",
       "      <td>NaN</td>\n",
       "      <td>2.95</td>\n",
       "    </tr>\n",
       "    <tr>\n",
       "      <th>2325</th>\n",
       "      <td>Maruti Swift 1.3 VXI ABS</td>\n",
       "      <td>Pune</td>\n",
       "      <td>2015</td>\n",
       "      <td>67000</td>\n",
       "      <td>Petrol</td>\n",
       "      <td>Manual</td>\n",
       "      <td>First</td>\n",
       "      <td>16.10</td>\n",
       "      <td>NaN</td>\n",
       "      <td>NaN</td>\n",
       "      <td>NaN</td>\n",
       "      <td>4.70</td>\n",
       "    </tr>\n",
       "    <tr>\n",
       "      <th>2335</th>\n",
       "      <td>Maruti Swift 1.3 VXi</td>\n",
       "      <td>Mumbai</td>\n",
       "      <td>2007</td>\n",
       "      <td>55000</td>\n",
       "      <td>Petrol</td>\n",
       "      <td>Manual</td>\n",
       "      <td>Second</td>\n",
       "      <td>16.10</td>\n",
       "      <td>NaN</td>\n",
       "      <td>NaN</td>\n",
       "      <td>NaN</td>\n",
       "      <td>1.75</td>\n",
       "    </tr>\n",
       "    <tr>\n",
       "      <th>2530</th>\n",
       "      <td>BMW 5 Series 520d Sedan</td>\n",
       "      <td>Kochi</td>\n",
       "      <td>2014</td>\n",
       "      <td>64158</td>\n",
       "      <td>Diesel</td>\n",
       "      <td>Automatic</td>\n",
       "      <td>First</td>\n",
       "      <td>18.48</td>\n",
       "      <td>NaN</td>\n",
       "      <td>NaN</td>\n",
       "      <td>NaN</td>\n",
       "      <td>17.89</td>\n",
       "    </tr>\n",
       "    <tr>\n",
       "      <th>2542</th>\n",
       "      <td>Hyundai Santro GLS II - Euro II</td>\n",
       "      <td>Bangalore</td>\n",
       "      <td>2011</td>\n",
       "      <td>65000</td>\n",
       "      <td>Petrol</td>\n",
       "      <td>Manual</td>\n",
       "      <td>Second</td>\n",
       "      <td>0.00</td>\n",
       "      <td>NaN</td>\n",
       "      <td>NaN</td>\n",
       "      <td>NaN</td>\n",
       "      <td>3.15</td>\n",
       "    </tr>\n",
       "    <tr>\n",
       "      <th>2623</th>\n",
       "      <td>BMW 5 Series 520d Sedan</td>\n",
       "      <td>Pune</td>\n",
       "      <td>2012</td>\n",
       "      <td>95000</td>\n",
       "      <td>Diesel</td>\n",
       "      <td>Automatic</td>\n",
       "      <td>Second</td>\n",
       "      <td>18.48</td>\n",
       "      <td>NaN</td>\n",
       "      <td>NaN</td>\n",
       "      <td>NaN</td>\n",
       "      <td>18.00</td>\n",
       "    </tr>\n",
       "    <tr>\n",
       "      <th>2668</th>\n",
       "      <td>Maruti Swift 1.3 VXi</td>\n",
       "      <td>Kolkata</td>\n",
       "      <td>2014</td>\n",
       "      <td>32986</td>\n",
       "      <td>Petrol</td>\n",
       "      <td>Manual</td>\n",
       "      <td>First</td>\n",
       "      <td>16.10</td>\n",
       "      <td>NaN</td>\n",
       "      <td>NaN</td>\n",
       "      <td>NaN</td>\n",
       "      <td>4.24</td>\n",
       "    </tr>\n",
       "    <tr>\n",
       "      <th>2737</th>\n",
       "      <td>Maruti Wagon R Vx</td>\n",
       "      <td>Jaipur</td>\n",
       "      <td>2001</td>\n",
       "      <td>200000</td>\n",
       "      <td>Petrol</td>\n",
       "      <td>Manual</td>\n",
       "      <td>First</td>\n",
       "      <td>12.00</td>\n",
       "      <td>NaN</td>\n",
       "      <td>NaN</td>\n",
       "      <td>NaN</td>\n",
       "      <td>0.70</td>\n",
       "    </tr>\n",
       "    <tr>\n",
       "      <th>2780</th>\n",
       "      <td>Hyundai Santro GLS II - Euro II</td>\n",
       "      <td>Pune</td>\n",
       "      <td>2009</td>\n",
       "      <td>100000</td>\n",
       "      <td>Petrol</td>\n",
       "      <td>Manual</td>\n",
       "      <td>First</td>\n",
       "      <td>0.00</td>\n",
       "      <td>NaN</td>\n",
       "      <td>NaN</td>\n",
       "      <td>NaN</td>\n",
       "      <td>1.60</td>\n",
       "    </tr>\n",
       "    <tr>\n",
       "      <th>2842</th>\n",
       "      <td>Hyundai Santro GLS II - Euro II</td>\n",
       "      <td>Bangalore</td>\n",
       "      <td>2012</td>\n",
       "      <td>43000</td>\n",
       "      <td>Petrol</td>\n",
       "      <td>Manual</td>\n",
       "      <td>First</td>\n",
       "      <td>0.00</td>\n",
       "      <td>NaN</td>\n",
       "      <td>NaN</td>\n",
       "      <td>NaN</td>\n",
       "      <td>3.25</td>\n",
       "    </tr>\n",
       "    <tr>\n",
       "      <th>3272</th>\n",
       "      <td>BMW 5 Series 520d Sedan</td>\n",
       "      <td>Mumbai</td>\n",
       "      <td>2008</td>\n",
       "      <td>81000</td>\n",
       "      <td>Diesel</td>\n",
       "      <td>Automatic</td>\n",
       "      <td>Second</td>\n",
       "      <td>18.48</td>\n",
       "      <td>NaN</td>\n",
       "      <td>NaN</td>\n",
       "      <td>NaN</td>\n",
       "      <td>10.50</td>\n",
       "    </tr>\n",
       "    <tr>\n",
       "      <th>3404</th>\n",
       "      <td>Maruti Swift 1.3 VXi</td>\n",
       "      <td>Jaipur</td>\n",
       "      <td>2006</td>\n",
       "      <td>125000</td>\n",
       "      <td>Petrol</td>\n",
       "      <td>Manual</td>\n",
       "      <td>Fourth &amp; Above</td>\n",
       "      <td>16.10</td>\n",
       "      <td>NaN</td>\n",
       "      <td>NaN</td>\n",
       "      <td>NaN</td>\n",
       "      <td>2.35</td>\n",
       "    </tr>\n",
       "    <tr>\n",
       "      <th>3520</th>\n",
       "      <td>BMW 5 Series 520d Sedan</td>\n",
       "      <td>Delhi</td>\n",
       "      <td>2012</td>\n",
       "      <td>90000</td>\n",
       "      <td>Diesel</td>\n",
       "      <td>Automatic</td>\n",
       "      <td>First</td>\n",
       "      <td>18.48</td>\n",
       "      <td>NaN</td>\n",
       "      <td>NaN</td>\n",
       "      <td>NaN</td>\n",
       "      <td>14.50</td>\n",
       "    </tr>\n",
       "    <tr>\n",
       "      <th>3522</th>\n",
       "      <td>Hyundai Santro GLS II - Euro II</td>\n",
       "      <td>Kochi</td>\n",
       "      <td>2012</td>\n",
       "      <td>66400</td>\n",
       "      <td>Petrol</td>\n",
       "      <td>Manual</td>\n",
       "      <td>First</td>\n",
       "      <td>0.00</td>\n",
       "      <td>NaN</td>\n",
       "      <td>NaN</td>\n",
       "      <td>NaN</td>\n",
       "      <td>2.66</td>\n",
       "    </tr>\n",
       "    <tr>\n",
       "      <th>3810</th>\n",
       "      <td>Honda CR-V AT With Sun Roof</td>\n",
       "      <td>Kolkata</td>\n",
       "      <td>2013</td>\n",
       "      <td>27000</td>\n",
       "      <td>Petrol</td>\n",
       "      <td>Automatic</td>\n",
       "      <td>First</td>\n",
       "      <td>14.00</td>\n",
       "      <td>NaN</td>\n",
       "      <td>NaN</td>\n",
       "      <td>NaN</td>\n",
       "      <td>11.99</td>\n",
       "    </tr>\n",
       "    <tr>\n",
       "      <th>4011</th>\n",
       "      <td>Fiat Punto 1.3 Emotion</td>\n",
       "      <td>Pune</td>\n",
       "      <td>2011</td>\n",
       "      <td>45271</td>\n",
       "      <td>Diesel</td>\n",
       "      <td>Manual</td>\n",
       "      <td>First</td>\n",
       "      <td>20.30</td>\n",
       "      <td>NaN</td>\n",
       "      <td>NaN</td>\n",
       "      <td>NaN</td>\n",
       "      <td>2.60</td>\n",
       "    </tr>\n",
       "    <tr>\n",
       "      <th>4152</th>\n",
       "      <td>Land Rover Range Rover 3.0 D</td>\n",
       "      <td>Mumbai</td>\n",
       "      <td>2003</td>\n",
       "      <td>75000</td>\n",
       "      <td>Diesel</td>\n",
       "      <td>Automatic</td>\n",
       "      <td>Second</td>\n",
       "      <td>0.00</td>\n",
       "      <td>NaN</td>\n",
       "      <td>NaN</td>\n",
       "      <td>NaN</td>\n",
       "      <td>16.11</td>\n",
       "    </tr>\n",
       "    <tr>\n",
       "      <th>4229</th>\n",
       "      <td>Hyundai Santro Xing XG</td>\n",
       "      <td>Bangalore</td>\n",
       "      <td>2005</td>\n",
       "      <td>79000</td>\n",
       "      <td>Petrol</td>\n",
       "      <td>Manual</td>\n",
       "      <td>Second</td>\n",
       "      <td>17.00</td>\n",
       "      <td>NaN</td>\n",
       "      <td>NaN</td>\n",
       "      <td>NaN</td>\n",
       "      <td>1.65</td>\n",
       "    </tr>\n",
       "    <tr>\n",
       "      <th>4577</th>\n",
       "      <td>BMW 5 Series 520d Sedan</td>\n",
       "      <td>Delhi</td>\n",
       "      <td>2012</td>\n",
       "      <td>72000</td>\n",
       "      <td>Diesel</td>\n",
       "      <td>Automatic</td>\n",
       "      <td>Third</td>\n",
       "      <td>18.48</td>\n",
       "      <td>NaN</td>\n",
       "      <td>NaN</td>\n",
       "      <td>NaN</td>\n",
       "      <td>13.85</td>\n",
       "    </tr>\n",
       "    <tr>\n",
       "      <th>4604</th>\n",
       "      <td>Honda Jazz Select Edition</td>\n",
       "      <td>Pune</td>\n",
       "      <td>2011</td>\n",
       "      <td>98000</td>\n",
       "      <td>Petrol</td>\n",
       "      <td>Manual</td>\n",
       "      <td>First</td>\n",
       "      <td>16.70</td>\n",
       "      <td>NaN</td>\n",
       "      <td>NaN</td>\n",
       "      <td>NaN</td>\n",
       "      <td>3.15</td>\n",
       "    </tr>\n",
       "    <tr>\n",
       "      <th>4697</th>\n",
       "      <td>Fiat Punto 1.2 Dynamic</td>\n",
       "      <td>Kochi</td>\n",
       "      <td>2017</td>\n",
       "      <td>17941</td>\n",
       "      <td>Petrol</td>\n",
       "      <td>Manual</td>\n",
       "      <td>First</td>\n",
       "      <td>15.70</td>\n",
       "      <td>NaN</td>\n",
       "      <td>NaN</td>\n",
       "      <td>NaN</td>\n",
       "      <td>3.93</td>\n",
       "    </tr>\n",
       "    <tr>\n",
       "      <th>4712</th>\n",
       "      <td>Hyundai Santro Xing XG</td>\n",
       "      <td>Pune</td>\n",
       "      <td>2003</td>\n",
       "      <td>80000</td>\n",
       "      <td>Petrol</td>\n",
       "      <td>Manual</td>\n",
       "      <td>Second</td>\n",
       "      <td>17.00</td>\n",
       "      <td>NaN</td>\n",
       "      <td>NaN</td>\n",
       "      <td>NaN</td>\n",
       "      <td>0.90</td>\n",
       "    </tr>\n",
       "    <tr>\n",
       "      <th>4952</th>\n",
       "      <td>Fiat Punto 1.4 Emotion</td>\n",
       "      <td>Kolkata</td>\n",
       "      <td>2010</td>\n",
       "      <td>47000</td>\n",
       "      <td>Petrol</td>\n",
       "      <td>Manual</td>\n",
       "      <td>First</td>\n",
       "      <td>14.60</td>\n",
       "      <td>NaN</td>\n",
       "      <td>NaN</td>\n",
       "      <td>NaN</td>\n",
       "      <td>1.49</td>\n",
       "    </tr>\n",
       "    <tr>\n",
       "      <th>5015</th>\n",
       "      <td>Maruti Swift 1.3 VXi</td>\n",
       "      <td>Delhi</td>\n",
       "      <td>2006</td>\n",
       "      <td>63000</td>\n",
       "      <td>Petrol</td>\n",
       "      <td>Manual</td>\n",
       "      <td>First</td>\n",
       "      <td>16.10</td>\n",
       "      <td>NaN</td>\n",
       "      <td>NaN</td>\n",
       "      <td>NaN</td>\n",
       "      <td>1.60</td>\n",
       "    </tr>\n",
       "    <tr>\n",
       "      <th>5185</th>\n",
       "      <td>Maruti Swift 1.3 LXI</td>\n",
       "      <td>Delhi</td>\n",
       "      <td>2012</td>\n",
       "      <td>52000</td>\n",
       "      <td>Petrol</td>\n",
       "      <td>Manual</td>\n",
       "      <td>First</td>\n",
       "      <td>16.10</td>\n",
       "      <td>NaN</td>\n",
       "      <td>NaN</td>\n",
       "      <td>NaN</td>\n",
       "      <td>3.65</td>\n",
       "    </tr>\n",
       "    <tr>\n",
       "      <th>5270</th>\n",
       "      <td>Honda City 1.5 GXI</td>\n",
       "      <td>Bangalore</td>\n",
       "      <td>2002</td>\n",
       "      <td>53000</td>\n",
       "      <td>Petrol</td>\n",
       "      <td>Manual</td>\n",
       "      <td>Second</td>\n",
       "      <td>0.00</td>\n",
       "      <td>NaN</td>\n",
       "      <td>NaN</td>\n",
       "      <td>NaN</td>\n",
       "      <td>1.85</td>\n",
       "    </tr>\n",
       "  </tbody>\n",
       "</table>\n",
       "</div>"
      ],
      "text/plain": [
       "                                              Name    Location  Year  \\\n",
       "194                             Honda City 1.5 GXI   Ahmedabad  2007   \n",
       "208                           Maruti Swift 1.3 VXi     Kolkata  2010   \n",
       "733                           Maruti Swift 1.3 VXi     Chennai  2006   \n",
       "749                   Land Rover Range Rover 3.0 D      Mumbai  2008   \n",
       "1294                             Honda City 1.3 DX       Delhi  2009   \n",
       "1327                          Maruti Swift 1.3 ZXI   Hyderabad  2015   \n",
       "1385                            Honda City 1.5 GXI        Pune  2004   \n",
       "1460  Land Rover Range Rover Sport 2005 2012 Sport  Coimbatore  2008   \n",
       "2074                          Maruti Swift 1.3 LXI        Pune  2011   \n",
       "2096                     Hyundai Santro LP zipPlus  Coimbatore  2004   \n",
       "2264                           Toyota Etios Liva V        Pune  2012   \n",
       "2325                      Maruti Swift 1.3 VXI ABS        Pune  2015   \n",
       "2335                          Maruti Swift 1.3 VXi      Mumbai  2007   \n",
       "2530                       BMW 5 Series 520d Sedan       Kochi  2014   \n",
       "2542               Hyundai Santro GLS II - Euro II   Bangalore  2011   \n",
       "2623                       BMW 5 Series 520d Sedan        Pune  2012   \n",
       "2668                          Maruti Swift 1.3 VXi     Kolkata  2014   \n",
       "2737                             Maruti Wagon R Vx      Jaipur  2001   \n",
       "2780               Hyundai Santro GLS II - Euro II        Pune  2009   \n",
       "2842               Hyundai Santro GLS II - Euro II   Bangalore  2012   \n",
       "3272                       BMW 5 Series 520d Sedan      Mumbai  2008   \n",
       "3404                          Maruti Swift 1.3 VXi      Jaipur  2006   \n",
       "3520                       BMW 5 Series 520d Sedan       Delhi  2012   \n",
       "3522               Hyundai Santro GLS II - Euro II       Kochi  2012   \n",
       "3810                   Honda CR-V AT With Sun Roof     Kolkata  2013   \n",
       "4011                        Fiat Punto 1.3 Emotion        Pune  2011   \n",
       "4152                  Land Rover Range Rover 3.0 D      Mumbai  2003   \n",
       "4229                        Hyundai Santro Xing XG   Bangalore  2005   \n",
       "4577                       BMW 5 Series 520d Sedan       Delhi  2012   \n",
       "4604                     Honda Jazz Select Edition        Pune  2011   \n",
       "4697                        Fiat Punto 1.2 Dynamic       Kochi  2017   \n",
       "4712                        Hyundai Santro Xing XG        Pune  2003   \n",
       "4952                        Fiat Punto 1.4 Emotion     Kolkata  2010   \n",
       "5015                          Maruti Swift 1.3 VXi       Delhi  2006   \n",
       "5185                          Maruti Swift 1.3 LXI       Delhi  2012   \n",
       "5270                            Honda City 1.5 GXI   Bangalore  2002   \n",
       "\n",
       "      Kilometers_Driven Fuel_Type Transmission      Owner_Type  Mileage  \\\n",
       "194               60006    Petrol       Manual           First     0.00   \n",
       "208               42001    Petrol       Manual           First    16.10   \n",
       "733               97800    Petrol       Manual           Third    16.10   \n",
       "749               55001    Diesel    Automatic          Second     0.00   \n",
       "1294              55005    Petrol       Manual           First    12.80   \n",
       "1327              50295    Petrol       Manual           First    16.10   \n",
       "1385             115000    Petrol       Manual          Second     0.00   \n",
       "1460              69078    Petrol       Manual           First     0.00   \n",
       "2074              24255    Petrol       Manual           First    16.10   \n",
       "2096              52146    Petrol       Manual           First     0.00   \n",
       "2264              24500    Petrol       Manual          Second    18.30   \n",
       "2325              67000    Petrol       Manual           First    16.10   \n",
       "2335              55000    Petrol       Manual          Second    16.10   \n",
       "2530              64158    Diesel    Automatic           First    18.48   \n",
       "2542              65000    Petrol       Manual          Second     0.00   \n",
       "2623              95000    Diesel    Automatic          Second    18.48   \n",
       "2668              32986    Petrol       Manual           First    16.10   \n",
       "2737             200000    Petrol       Manual           First    12.00   \n",
       "2780             100000    Petrol       Manual           First     0.00   \n",
       "2842              43000    Petrol       Manual           First     0.00   \n",
       "3272              81000    Diesel    Automatic          Second    18.48   \n",
       "3404             125000    Petrol       Manual  Fourth & Above    16.10   \n",
       "3520              90000    Diesel    Automatic           First    18.48   \n",
       "3522              66400    Petrol       Manual           First     0.00   \n",
       "3810              27000    Petrol    Automatic           First    14.00   \n",
       "4011              45271    Diesel       Manual           First    20.30   \n",
       "4152              75000    Diesel    Automatic          Second     0.00   \n",
       "4229              79000    Petrol       Manual          Second    17.00   \n",
       "4577              72000    Diesel    Automatic           Third    18.48   \n",
       "4604              98000    Petrol       Manual           First    16.70   \n",
       "4697              17941    Petrol       Manual           First    15.70   \n",
       "4712              80000    Petrol       Manual          Second    17.00   \n",
       "4952              47000    Petrol       Manual           First    14.60   \n",
       "5015              63000    Petrol       Manual           First    16.10   \n",
       "5185              52000    Petrol       Manual           First    16.10   \n",
       "5270              53000    Petrol       Manual          Second     0.00   \n",
       "\n",
       "      Engine  Power  Seats  Price  \n",
       "194      NaN    NaN    NaN   2.95  \n",
       "208      NaN    NaN    NaN   2.11  \n",
       "733      NaN    NaN    NaN   1.75  \n",
       "749      NaN    NaN    NaN  26.50  \n",
       "1294     NaN    NaN    NaN   3.20  \n",
       "1327     NaN    NaN    NaN   5.80  \n",
       "1385     NaN    NaN    NaN   1.50  \n",
       "1460     NaN    NaN    NaN  40.88  \n",
       "2074     NaN    NaN    NaN   3.15  \n",
       "2096     NaN    NaN    NaN   1.93  \n",
       "2264     NaN    NaN    NaN   2.95  \n",
       "2325     NaN    NaN    NaN   4.70  \n",
       "2335     NaN    NaN    NaN   1.75  \n",
       "2530     NaN    NaN    NaN  17.89  \n",
       "2542     NaN    NaN    NaN   3.15  \n",
       "2623     NaN    NaN    NaN  18.00  \n",
       "2668     NaN    NaN    NaN   4.24  \n",
       "2737     NaN    NaN    NaN   0.70  \n",
       "2780     NaN    NaN    NaN   1.60  \n",
       "2842     NaN    NaN    NaN   3.25  \n",
       "3272     NaN    NaN    NaN  10.50  \n",
       "3404     NaN    NaN    NaN   2.35  \n",
       "3520     NaN    NaN    NaN  14.50  \n",
       "3522     NaN    NaN    NaN   2.66  \n",
       "3810     NaN    NaN    NaN  11.99  \n",
       "4011     NaN    NaN    NaN   2.60  \n",
       "4152     NaN    NaN    NaN  16.11  \n",
       "4229     NaN    NaN    NaN   1.65  \n",
       "4577     NaN    NaN    NaN  13.85  \n",
       "4604     NaN    NaN    NaN   3.15  \n",
       "4697     NaN    NaN    NaN   3.93  \n",
       "4712     NaN    NaN    NaN   0.90  \n",
       "4952     NaN    NaN    NaN   1.49  \n",
       "5015     NaN    NaN    NaN   1.60  \n",
       "5185     NaN    NaN    NaN   3.65  \n",
       "5270     NaN    NaN    NaN   1.85  "
      ]
     },
     "execution_count": 24,
     "metadata": {},
     "output_type": "execute_result"
    }
   ],
   "source": [
    "# Lets have a closer look on column wise\n",
    "df_train[df_train.Engine.isnull()]"
   ]
  },
  {
   "cell_type": "code",
   "execution_count": 25,
   "metadata": {
    "id": "HhpXm_yAG0UA",
    "outputId": "9eccdfee-7266-4344-dd55-9042227fd719"
   },
   "outputs": [
    {
     "data": {
      "text/html": [
       "<div>\n",
       "<style scoped>\n",
       "    .dataframe tbody tr th:only-of-type {\n",
       "        vertical-align: middle;\n",
       "    }\n",
       "\n",
       "    .dataframe tbody tr th {\n",
       "        vertical-align: top;\n",
       "    }\n",
       "\n",
       "    .dataframe thead th {\n",
       "        text-align: right;\n",
       "    }\n",
       "</style>\n",
       "<table border=\"1\" class=\"dataframe\">\n",
       "  <thead>\n",
       "    <tr style=\"text-align: right;\">\n",
       "      <th></th>\n",
       "      <th>Name</th>\n",
       "      <th>Location</th>\n",
       "      <th>Year</th>\n",
       "      <th>Kilometers_Driven</th>\n",
       "      <th>Fuel_Type</th>\n",
       "      <th>Transmission</th>\n",
       "      <th>Owner_Type</th>\n",
       "      <th>Mileage</th>\n",
       "      <th>Engine</th>\n",
       "      <th>Power</th>\n",
       "      <th>Seats</th>\n",
       "    </tr>\n",
       "  </thead>\n",
       "  <tbody>\n",
       "    <tr>\n",
       "      <th>23</th>\n",
       "      <td>Skoda Laura 1.8 TSI Ambition</td>\n",
       "      <td>Bangalore</td>\n",
       "      <td>2009</td>\n",
       "      <td>72000</td>\n",
       "      <td>Petrol</td>\n",
       "      <td>Manual</td>\n",
       "      <td>Second</td>\n",
       "      <td>17.50</td>\n",
       "      <td>NaN</td>\n",
       "      <td>NaN</td>\n",
       "      <td>NaN</td>\n",
       "    </tr>\n",
       "    <tr>\n",
       "      <th>522</th>\n",
       "      <td>Toyota Etios Liva Diesel TRD Sportivo</td>\n",
       "      <td>Bangalore</td>\n",
       "      <td>2012</td>\n",
       "      <td>56600</td>\n",
       "      <td>Diesel</td>\n",
       "      <td>Manual</td>\n",
       "      <td>First</td>\n",
       "      <td>23.59</td>\n",
       "      <td>NaN</td>\n",
       "      <td>NaN</td>\n",
       "      <td>NaN</td>\n",
       "    </tr>\n",
       "    <tr>\n",
       "      <th>525</th>\n",
       "      <td>Hyundai i20 new Sportz AT 1.4</td>\n",
       "      <td>Bangalore</td>\n",
       "      <td>2012</td>\n",
       "      <td>58000</td>\n",
       "      <td>Petrol</td>\n",
       "      <td>Automatic</td>\n",
       "      <td>Second</td>\n",
       "      <td>15.00</td>\n",
       "      <td>NaN</td>\n",
       "      <td>NaN</td>\n",
       "      <td>NaN</td>\n",
       "    </tr>\n",
       "    <tr>\n",
       "      <th>614</th>\n",
       "      <td>Mahindra TUV 300 P4</td>\n",
       "      <td>Kolkata</td>\n",
       "      <td>2016</td>\n",
       "      <td>27000</td>\n",
       "      <td>Diesel</td>\n",
       "      <td>Manual</td>\n",
       "      <td>First</td>\n",
       "      <td>0.00</td>\n",
       "      <td>NaN</td>\n",
       "      <td>NaN</td>\n",
       "      <td>NaN</td>\n",
       "    </tr>\n",
       "    <tr>\n",
       "      <th>624</th>\n",
       "      <td>BMW 5 Series 520d Sedan</td>\n",
       "      <td>Bangalore</td>\n",
       "      <td>2009</td>\n",
       "      <td>150000</td>\n",
       "      <td>Diesel</td>\n",
       "      <td>Automatic</td>\n",
       "      <td>Second</td>\n",
       "      <td>18.48</td>\n",
       "      <td>NaN</td>\n",
       "      <td>NaN</td>\n",
       "      <td>NaN</td>\n",
       "    </tr>\n",
       "    <tr>\n",
       "      <th>632</th>\n",
       "      <td>Maruti Swift 1.3 VXi</td>\n",
       "      <td>Kolkata</td>\n",
       "      <td>2015</td>\n",
       "      <td>36009</td>\n",
       "      <td>Petrol</td>\n",
       "      <td>Manual</td>\n",
       "      <td>First</td>\n",
       "      <td>16.10</td>\n",
       "      <td>NaN</td>\n",
       "      <td>NaN</td>\n",
       "      <td>NaN</td>\n",
       "    </tr>\n",
       "    <tr>\n",
       "      <th>658</th>\n",
       "      <td>Fiat Punto 1.4 Emotion</td>\n",
       "      <td>Jaipur</td>\n",
       "      <td>2010</td>\n",
       "      <td>65000</td>\n",
       "      <td>Petrol</td>\n",
       "      <td>Manual</td>\n",
       "      <td>Third</td>\n",
       "      <td>14.60</td>\n",
       "      <td>NaN</td>\n",
       "      <td>NaN</td>\n",
       "      <td>NaN</td>\n",
       "    </tr>\n",
       "    <tr>\n",
       "      <th>666</th>\n",
       "      <td>Maruti Swift 1.3 VXi</td>\n",
       "      <td>Pune</td>\n",
       "      <td>2010</td>\n",
       "      <td>115000</td>\n",
       "      <td>Petrol</td>\n",
       "      <td>Manual</td>\n",
       "      <td>Second</td>\n",
       "      <td>16.10</td>\n",
       "      <td>NaN</td>\n",
       "      <td>NaN</td>\n",
       "      <td>NaN</td>\n",
       "    </tr>\n",
       "    <tr>\n",
       "      <th>861</th>\n",
       "      <td>BMW 5 Series 520d Sedan</td>\n",
       "      <td>Chennai</td>\n",
       "      <td>2009</td>\n",
       "      <td>95000</td>\n",
       "      <td>Diesel</td>\n",
       "      <td>Automatic</td>\n",
       "      <td>Second</td>\n",
       "      <td>18.48</td>\n",
       "      <td>NaN</td>\n",
       "      <td>NaN</td>\n",
       "      <td>NaN</td>\n",
       "    </tr>\n",
       "    <tr>\n",
       "      <th>883</th>\n",
       "      <td>Toyota Etios Liva V</td>\n",
       "      <td>Kochi</td>\n",
       "      <td>2012</td>\n",
       "      <td>59311</td>\n",
       "      <td>Petrol</td>\n",
       "      <td>Manual</td>\n",
       "      <td>First</td>\n",
       "      <td>18.30</td>\n",
       "      <td>NaN</td>\n",
       "      <td>NaN</td>\n",
       "      <td>NaN</td>\n",
       "    </tr>\n",
       "  </tbody>\n",
       "</table>\n",
       "</div>"
      ],
      "text/plain": [
       "                                      Name   Location  Year  \\\n",
       "23            Skoda Laura 1.8 TSI Ambition  Bangalore  2009   \n",
       "522  Toyota Etios Liva Diesel TRD Sportivo  Bangalore  2012   \n",
       "525          Hyundai i20 new Sportz AT 1.4  Bangalore  2012   \n",
       "614                    Mahindra TUV 300 P4    Kolkata  2016   \n",
       "624                BMW 5 Series 520d Sedan  Bangalore  2009   \n",
       "632                   Maruti Swift 1.3 VXi    Kolkata  2015   \n",
       "658                 Fiat Punto 1.4 Emotion     Jaipur  2010   \n",
       "666                   Maruti Swift 1.3 VXi       Pune  2010   \n",
       "861                BMW 5 Series 520d Sedan    Chennai  2009   \n",
       "883                    Toyota Etios Liva V      Kochi  2012   \n",
       "\n",
       "     Kilometers_Driven Fuel_Type Transmission Owner_Type  Mileage  Engine  \\\n",
       "23               72000    Petrol       Manual     Second    17.50     NaN   \n",
       "522              56600    Diesel       Manual      First    23.59     NaN   \n",
       "525              58000    Petrol    Automatic     Second    15.00     NaN   \n",
       "614              27000    Diesel       Manual      First     0.00     NaN   \n",
       "624             150000    Diesel    Automatic     Second    18.48     NaN   \n",
       "632              36009    Petrol       Manual      First    16.10     NaN   \n",
       "658              65000    Petrol       Manual      Third    14.60     NaN   \n",
       "666             115000    Petrol       Manual     Second    16.10     NaN   \n",
       "861              95000    Diesel    Automatic     Second    18.48     NaN   \n",
       "883              59311    Petrol       Manual      First    18.30     NaN   \n",
       "\n",
       "     Power  Seats  \n",
       "23     NaN    NaN  \n",
       "522    NaN    NaN  \n",
       "525    NaN    NaN  \n",
       "614    NaN    NaN  \n",
       "624    NaN    NaN  \n",
       "632    NaN    NaN  \n",
       "658    NaN    NaN  \n",
       "666    NaN    NaN  \n",
       "861    NaN    NaN  \n",
       "883    NaN    NaN  "
      ]
     },
     "execution_count": 25,
     "metadata": {},
     "output_type": "execute_result"
    }
   ],
   "source": [
    "df_test[df_test.Engine.isnull()]"
   ]
  },
  {
   "cell_type": "markdown",
   "metadata": {
    "id": "TKkj24L4G0UH"
   },
   "source": [
    "#### so lets impute Null values of Engine first by analysing the model column"
   ]
  },
  {
   "cell_type": "code",
   "execution_count": 26,
   "metadata": {
    "id": "u9BaFk_zG0UI"
   },
   "outputs": [],
   "source": [
    "tr_en_na = df_train.Engine.isnull()\n",
    "tes_en_na = df_test.Engine.isnull()"
   ]
  },
  {
   "cell_type": "code",
   "execution_count": 27,
   "metadata": {
    "id": "7kMH6h4OG0UP"
   },
   "outputs": [],
   "source": [
    "lst = pd.to_numeric(df_train[tr_en_na]['Name'].replace('[^\\d.]','',regex=True),errors='coerce')\n"
   ]
  },
  {
   "cell_type": "code",
   "execution_count": 28,
   "metadata": {
    "id": "rPZeZKSYG0UU"
   },
   "outputs": [],
   "source": [
    "df_train['NameENg'] = pd.to_numeric(df_train['Name'].replace('[^\\d.]','',regex=True),errors='coerce')"
   ]
  },
  {
   "cell_type": "code",
   "execution_count": 29,
   "metadata": {
    "id": "RWP8FTseG0Ua"
   },
   "outputs": [],
   "source": [
    "lst1 = pd.to_numeric(df_test[tes_en_na]['Name'].replace('[^\\d.]','',regex=True),errors='coerce')\n"
   ]
  },
  {
   "cell_type": "code",
   "execution_count": 30,
   "metadata": {
    "id": "UoqOglSQG0Ui",
    "outputId": "1708874d-fd2b-4b47-fb36-d396796ca508"
   },
   "outputs": [
    {
     "data": {
      "text/plain": [
       "1.3           12\n",
       "5520.0         5\n",
       "1.5            3\n",
       "3.0            2\n",
       "20052012.0     1\n",
       "1.2            1\n",
       "1.4            1\n",
       "Name: Name, dtype: int64"
      ]
     },
     "execution_count": 30,
     "metadata": {},
     "output_type": "execute_result"
    }
   ],
   "source": [
    "lst.value_counts()"
   ]
  },
  {
   "cell_type": "code",
   "execution_count": 31,
   "metadata": {
    "id": "Wu-PnxCWG0Un"
   },
   "outputs": [],
   "source": [
    "def impute_engine(cols):\n",
    "    Engine = cols[0]\n",
    "    NameENg = cols[1]\n",
    "    if pd.isnull(Engine):\n",
    "        if NameENg == 1.5:\n",
    "            return 1500\n",
    "        elif NameENg == 1.3:\n",
    "            return 1300\n",
    "        elif NameENg == 1.4:\n",
    "            return 1400\n",
    "        elif NameENg == 5520:\n",
    "            return 2800\n",
    "        elif NameENg == 3.0:\n",
    "            return 3000\n",
    "        elif NameENg == 1.2:\n",
    "            return 1200\n",
    "        else:\n",
    "            return 1100\n",
    "    else:\n",
    "        return Engine"
   ]
  },
  {
   "cell_type": "code",
   "execution_count": 32,
   "metadata": {
    "id": "mVL7E3sZG0Uu"
   },
   "outputs": [],
   "source": [
    "df_train['Engine'] = df_train[['Engine','NameENg']].apply(impute_engine,axis = 1)"
   ]
  },
  {
   "cell_type": "code",
   "execution_count": 33,
   "metadata": {
    "id": "lRF8RoFNG0Uz"
   },
   "outputs": [],
   "source": [
    "df_train.drop('NameENg',axis=1,inplace=True)"
   ]
  },
  {
   "cell_type": "code",
   "execution_count": 34,
   "metadata": {
    "id": "6YCmjoGGG0U8",
    "outputId": "5c53d74b-aae5-4962-e4e2-edc68d2d942e"
   },
   "outputs": [
    {
     "data": {
      "text/html": [
       "<div>\n",
       "<style scoped>\n",
       "    .dataframe tbody tr th:only-of-type {\n",
       "        vertical-align: middle;\n",
       "    }\n",
       "\n",
       "    .dataframe tbody tr th {\n",
       "        vertical-align: top;\n",
       "    }\n",
       "\n",
       "    .dataframe thead th {\n",
       "        text-align: right;\n",
       "    }\n",
       "</style>\n",
       "<table border=\"1\" class=\"dataframe\">\n",
       "  <thead>\n",
       "    <tr style=\"text-align: right;\">\n",
       "      <th></th>\n",
       "      <th>Name</th>\n",
       "      <th>Location</th>\n",
       "      <th>Year</th>\n",
       "      <th>Kilometers_Driven</th>\n",
       "      <th>Fuel_Type</th>\n",
       "      <th>Transmission</th>\n",
       "      <th>Owner_Type</th>\n",
       "      <th>Mileage</th>\n",
       "      <th>Engine</th>\n",
       "      <th>Power</th>\n",
       "      <th>Seats</th>\n",
       "      <th>Price</th>\n",
       "    </tr>\n",
       "  </thead>\n",
       "  <tbody>\n",
       "    <tr>\n",
       "      <th>3957</th>\n",
       "      <td>Renault KWID RXT</td>\n",
       "      <td>Kochi</td>\n",
       "      <td>2016</td>\n",
       "      <td>53886</td>\n",
       "      <td>Petrol</td>\n",
       "      <td>Manual</td>\n",
       "      <td>First</td>\n",
       "      <td>25.17</td>\n",
       "      <td>799.0</td>\n",
       "      <td>53.3</td>\n",
       "      <td>5.0</td>\n",
       "      <td>3.07</td>\n",
       "    </tr>\n",
       "    <tr>\n",
       "      <th>4346</th>\n",
       "      <td>Maruti Swift ZXI Plus</td>\n",
       "      <td>Ahmedabad</td>\n",
       "      <td>2018</td>\n",
       "      <td>2000</td>\n",
       "      <td>Petrol</td>\n",
       "      <td>Manual</td>\n",
       "      <td>First</td>\n",
       "      <td>22.00</td>\n",
       "      <td>1197.0</td>\n",
       "      <td>81.8</td>\n",
       "      <td>5.0</td>\n",
       "      <td>7.75</td>\n",
       "    </tr>\n",
       "    <tr>\n",
       "      <th>4360</th>\n",
       "      <td>BMW 6 Series Gran Coupe</td>\n",
       "      <td>Kochi</td>\n",
       "      <td>2018</td>\n",
       "      <td>20004</td>\n",
       "      <td>Diesel</td>\n",
       "      <td>Automatic</td>\n",
       "      <td>First</td>\n",
       "      <td>17.54</td>\n",
       "      <td>2993.0</td>\n",
       "      <td>313.0</td>\n",
       "      <td>4.0</td>\n",
       "      <td>68.94</td>\n",
       "    </tr>\n",
       "    <tr>\n",
       "      <th>3908</th>\n",
       "      <td>Hyundai i10 Magna</td>\n",
       "      <td>Coimbatore</td>\n",
       "      <td>2011</td>\n",
       "      <td>50436</td>\n",
       "      <td>Petrol</td>\n",
       "      <td>Manual</td>\n",
       "      <td>First</td>\n",
       "      <td>20.36</td>\n",
       "      <td>1197.0</td>\n",
       "      <td>78.9</td>\n",
       "      <td>5.0</td>\n",
       "      <td>3.65</td>\n",
       "    </tr>\n",
       "  </tbody>\n",
       "</table>\n",
       "</div>"
      ],
      "text/plain": [
       "                         Name    Location  Year  Kilometers_Driven Fuel_Type  \\\n",
       "3957         Renault KWID RXT       Kochi  2016              53886    Petrol   \n",
       "4346    Maruti Swift ZXI Plus   Ahmedabad  2018               2000    Petrol   \n",
       "4360  BMW 6 Series Gran Coupe       Kochi  2018              20004    Diesel   \n",
       "3908        Hyundai i10 Magna  Coimbatore  2011              50436    Petrol   \n",
       "\n",
       "     Transmission Owner_Type  Mileage  Engine  Power  Seats  Price  \n",
       "3957       Manual      First    25.17   799.0   53.3    5.0   3.07  \n",
       "4346       Manual      First    22.00  1197.0   81.8    5.0   7.75  \n",
       "4360    Automatic      First    17.54  2993.0  313.0    4.0  68.94  \n",
       "3908       Manual      First    20.36  1197.0   78.9    5.0   3.65  "
      ]
     },
     "execution_count": 34,
     "metadata": {},
     "output_type": "execute_result"
    }
   ],
   "source": [
    "df_train.sample(4)"
   ]
  },
  {
   "cell_type": "code",
   "execution_count": 35,
   "metadata": {
    "id": "bIvGtnxhG0VE"
   },
   "outputs": [],
   "source": [
    "### for test data\n",
    "df_test['NameENg'] = pd.to_numeric(df_test['Name'].replace('[^\\d.]','',regex=True),errors='coerce')"
   ]
  },
  {
   "cell_type": "code",
   "execution_count": 36,
   "metadata": {
    "id": "mokGM74cG0VP",
    "outputId": "e7fb297d-535a-4320-cd73-b95706b46a55"
   },
   "outputs": [
    {
     "data": {
      "text/plain": [
       "1.3       2\n",
       "5520.0    2\n",
       "1.4       1\n",
       "1.8       1\n",
       "201.4     1\n",
       "3004.0    1\n",
       "Name: Name, dtype: int64"
      ]
     },
     "execution_count": 36,
     "metadata": {},
     "output_type": "execute_result"
    }
   ],
   "source": [
    "lst1.value_counts()"
   ]
  },
  {
   "cell_type": "code",
   "execution_count": 37,
   "metadata": {
    "id": "08lzw8u-G0VX"
   },
   "outputs": [],
   "source": [
    "def impute_engine_test(cols):\n",
    "    Engine = cols[0]\n",
    "    NameENg = cols[1]\n",
    "    if pd.isnull(Engine):\n",
    "        if NameENg == 1.8:\n",
    "            return 1800\n",
    "        elif NameENg == 1.3:\n",
    "            return 1300\n",
    "        elif NameENg == 1.4:\n",
    "            return 1400\n",
    "        elif NameENg == 201.4:\n",
    "            return 1400\n",
    "        elif NameENg == 3004.0:\n",
    "            return 1200\n",
    "        elif NameENg == 5520:\n",
    "            return 2800\n",
    "        elif NameENg == 1.2:\n",
    "            return 1200\n",
    "        else:\n",
    "            return 1100\n",
    "    else:\n",
    "        return Engine"
   ]
  },
  {
   "cell_type": "code",
   "execution_count": 38,
   "metadata": {
    "id": "ztF8_vJ2G0Ve"
   },
   "outputs": [],
   "source": [
    "df_test['Engine'] = df_test[['Engine','NameENg']].apply(impute_engine_test,axis = 1)\n",
    "df_test.drop('NameENg',axis=1,inplace=True)"
   ]
  },
  {
   "cell_type": "markdown",
   "metadata": {
    "id": "WE7B_omLG0Vk"
   },
   "source": [
    "#### Next Filling up seat column it doesnt much affect the sales price of car.But we can retain this feature as no.of seats  has some sort of importance in Indian car Market"
   ]
  },
  {
   "cell_type": "markdown",
   "metadata": {
    "id": "ORh129zwG0Vl"
   },
   "source": [
    "## why Median?! ..Outliers..."
   ]
  },
  {
   "cell_type": "code",
   "execution_count": 39,
   "metadata": {
    "id": "k6VBrplcG0Vm"
   },
   "outputs": [],
   "source": [
    "#so here we can fill seats column with the median values based on the Engine capacity\n",
    "#We can use of pandas \"groupby\" for that\n",
    "df_train['Seats'].fillna(df_train.groupby('Engine').Seats.transform(\"median\"),inplace=True)\n",
    "df_test['Seats'].fillna(df_test.groupby('Engine').Seats.transform(\"median\"),inplace=True)"
   ]
  },
  {
   "cell_type": "code",
   "execution_count": 40,
   "metadata": {
    "id": "Sbxr2DnxG0Vw"
   },
   "outputs": [],
   "source": [
    "df_train['Seats'].fillna(df_train.groupby('Price')['Seats'].transform(\"median\"),inplace=True)"
   ]
  },
  {
   "cell_type": "code",
   "execution_count": 41,
   "metadata": {
    "id": "-4tqdTz5G0V5"
   },
   "outputs": [],
   "source": [
    "def med_fill(data):\n",
    "    data = data.fillna(data.median())\n",
    "    return data"
   ]
  },
  {
   "cell_type": "code",
   "execution_count": 42,
   "metadata": {
    "id": "Ek1545FnG0WA"
   },
   "outputs": [],
   "source": [
    "df_train['Seats'] = med_fill(df_train['Seats'])\n",
    "df_test.Seats = med_fill(df_test.Seats)"
   ]
  },
  {
   "cell_type": "markdown",
   "metadata": {
    "id": "wjN3qkepG0WK"
   },
   "source": [
    "### Hopefully this sort of method can prevent filling up or matching up with outliers further more.   Anyway we will do the outlier detection and treatment in the later stages. We can now move on to further missing value treatment"
   ]
  },
  {
   "cell_type": "code",
   "execution_count": 43,
   "metadata": {
    "id": "gqq1KyAYG0WL"
   },
   "outputs": [],
   "source": [
    "## As train data frame Mileage has some null values we can also fillit with median.\n",
    "df_train.Mileage = med_fill(df_train.Mileage)"
   ]
  },
  {
   "cell_type": "code",
   "execution_count": 44,
   "metadata": {
    "id": "wSuNBuobG0WT"
   },
   "outputs": [],
   "source": [
    "df_train['Power'].fillna(df_train.groupby('Engine').Power.transform(\"median\"),inplace=True)\n",
    "df_test['Power'].fillna(df_test.groupby('Engine').Power.transform(\"median\"),inplace=True)"
   ]
  },
  {
   "cell_type": "code",
   "execution_count": 45,
   "metadata": {
    "id": "Nj9rxXRCG0Wa"
   },
   "outputs": [],
   "source": [
    "#Also Power figures depend on Fuel consumption and transmission.\n",
    "df_train['Power'].fillna(df_train.groupby('Mileage')['Power'].transform(\"median\"),inplace=True)\n",
    "df_test['Power'].fillna(df_test.groupby('Mileage').Power.transform(\"median\"),inplace=True)"
   ]
  },
  {
   "cell_type": "code",
   "execution_count": 46,
   "metadata": {
    "id": "rvHy07-kG0Wg"
   },
   "outputs": [],
   "source": [
    "df_train['Power'] = med_fill(df_train['Power'])\n",
    "df_test.Power = med_fill(df_test.Power)"
   ]
  },
  {
   "cell_type": "code",
   "execution_count": 47,
   "metadata": {
    "id": "8eBP66HEG0Wl",
    "outputId": "7209b473-3ea8-4271-e144-1bd61b834423"
   },
   "outputs": [
    {
     "data": {
      "text/plain": [
       "Name                 0\n",
       "Location             0\n",
       "Year                 0\n",
       "Kilometers_Driven    0\n",
       "Fuel_Type            0\n",
       "Transmission         0\n",
       "Owner_Type           0\n",
       "Mileage              0\n",
       "Engine               0\n",
       "Power                0\n",
       "Seats                0\n",
       "Price                0\n",
       "dtype: int64"
      ]
     },
     "metadata": {},
     "output_type": "display_data"
    },
    {
     "name": "stdout",
     "output_type": "stream",
     "text": [
      "\n",
      "\n"
     ]
    },
    {
     "data": {
      "text/plain": [
       "Name                 0\n",
       "Location             0\n",
       "Year                 0\n",
       "Kilometers_Driven    0\n",
       "Fuel_Type            0\n",
       "Transmission         0\n",
       "Owner_Type           0\n",
       "Mileage              0\n",
       "Engine               0\n",
       "Power                0\n",
       "Seats                0\n",
       "dtype: int64"
      ]
     },
     "metadata": {},
     "output_type": "display_data"
    }
   ],
   "source": [
    "display(df_train.isnull().sum())\n",
    "print('\\n')\n",
    "display(df_test.isnull().sum())"
   ]
  },
  {
   "cell_type": "markdown",
   "metadata": {
    "id": "4R26qYbsG0Wp"
   },
   "source": [
    "### As Null values got filled we can futher move on to Oulier detection and its treatment"
   ]
  },
  {
   "cell_type": "code",
   "execution_count": 48,
   "metadata": {
    "id": "7ZR80_nMG0Wr",
    "outputId": "40fe89a3-a601-4ac8-ca2a-abcbdd7a2974"
   },
   "outputs": [
    {
     "data": {
      "text/html": [
       "<div>\n",
       "<style scoped>\n",
       "    .dataframe tbody tr th:only-of-type {\n",
       "        vertical-align: middle;\n",
       "    }\n",
       "\n",
       "    .dataframe tbody tr th {\n",
       "        vertical-align: top;\n",
       "    }\n",
       "\n",
       "    .dataframe thead th {\n",
       "        text-align: right;\n",
       "    }\n",
       "</style>\n",
       "<table border=\"1\" class=\"dataframe\">\n",
       "  <thead>\n",
       "    <tr style=\"text-align: right;\">\n",
       "      <th></th>\n",
       "      <th>Year</th>\n",
       "      <th>Kilometers_Driven</th>\n",
       "      <th>Mileage</th>\n",
       "      <th>Engine</th>\n",
       "      <th>Power</th>\n",
       "      <th>Seats</th>\n",
       "      <th>Price</th>\n",
       "    </tr>\n",
       "  </thead>\n",
       "  <tbody>\n",
       "    <tr>\n",
       "      <th>count</th>\n",
       "      <td>6019.000000</td>\n",
       "      <td>6.019000e+03</td>\n",
       "      <td>6019.000000</td>\n",
       "      <td>6019.000000</td>\n",
       "      <td>6019.000000</td>\n",
       "      <td>6019.000000</td>\n",
       "      <td>6019.000000</td>\n",
       "    </tr>\n",
       "    <tr>\n",
       "      <th>mean</th>\n",
       "      <td>2013.358199</td>\n",
       "      <td>5.873838e+04</td>\n",
       "      <td>18.134966</td>\n",
       "      <td>1620.866755</td>\n",
       "      <td>112.602603</td>\n",
       "      <td>5.278119</td>\n",
       "      <td>9.479468</td>\n",
       "    </tr>\n",
       "    <tr>\n",
       "      <th>std</th>\n",
       "      <td>3.269742</td>\n",
       "      <td>9.126884e+04</td>\n",
       "      <td>4.581528</td>\n",
       "      <td>601.700401</td>\n",
       "      <td>53.643821</td>\n",
       "      <td>0.807536</td>\n",
       "      <td>11.187917</td>\n",
       "    </tr>\n",
       "    <tr>\n",
       "      <th>min</th>\n",
       "      <td>1998.000000</td>\n",
       "      <td>1.710000e+02</td>\n",
       "      <td>0.000000</td>\n",
       "      <td>72.000000</td>\n",
       "      <td>34.200000</td>\n",
       "      <td>0.000000</td>\n",
       "      <td>0.440000</td>\n",
       "    </tr>\n",
       "    <tr>\n",
       "      <th>25%</th>\n",
       "      <td>2011.000000</td>\n",
       "      <td>3.400000e+04</td>\n",
       "      <td>15.170000</td>\n",
       "      <td>1198.000000</td>\n",
       "      <td>74.000000</td>\n",
       "      <td>5.000000</td>\n",
       "      <td>3.500000</td>\n",
       "    </tr>\n",
       "    <tr>\n",
       "      <th>50%</th>\n",
       "      <td>2014.000000</td>\n",
       "      <td>5.300000e+04</td>\n",
       "      <td>18.150000</td>\n",
       "      <td>1493.000000</td>\n",
       "      <td>93.700000</td>\n",
       "      <td>5.000000</td>\n",
       "      <td>5.640000</td>\n",
       "    </tr>\n",
       "    <tr>\n",
       "      <th>75%</th>\n",
       "      <td>2016.000000</td>\n",
       "      <td>7.300000e+04</td>\n",
       "      <td>21.100000</td>\n",
       "      <td>1984.000000</td>\n",
       "      <td>138.100000</td>\n",
       "      <td>5.000000</td>\n",
       "      <td>9.950000</td>\n",
       "    </tr>\n",
       "    <tr>\n",
       "      <th>max</th>\n",
       "      <td>2019.000000</td>\n",
       "      <td>6.500000e+06</td>\n",
       "      <td>33.540000</td>\n",
       "      <td>5998.000000</td>\n",
       "      <td>560.000000</td>\n",
       "      <td>10.000000</td>\n",
       "      <td>160.000000</td>\n",
       "    </tr>\n",
       "  </tbody>\n",
       "</table>\n",
       "</div>"
      ],
      "text/plain": [
       "              Year  Kilometers_Driven      Mileage       Engine        Power  \\\n",
       "count  6019.000000       6.019000e+03  6019.000000  6019.000000  6019.000000   \n",
       "mean   2013.358199       5.873838e+04    18.134966  1620.866755   112.602603   \n",
       "std       3.269742       9.126884e+04     4.581528   601.700401    53.643821   \n",
       "min    1998.000000       1.710000e+02     0.000000    72.000000    34.200000   \n",
       "25%    2011.000000       3.400000e+04    15.170000  1198.000000    74.000000   \n",
       "50%    2014.000000       5.300000e+04    18.150000  1493.000000    93.700000   \n",
       "75%    2016.000000       7.300000e+04    21.100000  1984.000000   138.100000   \n",
       "max    2019.000000       6.500000e+06    33.540000  5998.000000   560.000000   \n",
       "\n",
       "             Seats        Price  \n",
       "count  6019.000000  6019.000000  \n",
       "mean      5.278119     9.479468  \n",
       "std       0.807536    11.187917  \n",
       "min       0.000000     0.440000  \n",
       "25%       5.000000     3.500000  \n",
       "50%       5.000000     5.640000  \n",
       "75%       5.000000     9.950000  \n",
       "max      10.000000   160.000000  "
      ]
     },
     "execution_count": 48,
     "metadata": {},
     "output_type": "execute_result"
    }
   ],
   "source": [
    "df_train.describe()"
   ]
  },
  {
   "cell_type": "markdown",
   "metadata": {
    "id": "VGhvIEUVG0Wz"
   },
   "source": [
    "#### looks like 0.000 values in Mileage and seats which is not possible in any given cases for a used car so lets treat those outliers initially."
   ]
  },
  {
   "cell_type": "code",
   "execution_count": 49,
   "metadata": {
    "id": "fhrmfcIFG0W0",
    "outputId": "4915d68d-5337-46b9-d919-53690c3b3b18"
   },
   "outputs": [
    {
     "data": {
      "text/html": [
       "<div>\n",
       "<style scoped>\n",
       "    .dataframe tbody tr th:only-of-type {\n",
       "        vertical-align: middle;\n",
       "    }\n",
       "\n",
       "    .dataframe tbody tr th {\n",
       "        vertical-align: top;\n",
       "    }\n",
       "\n",
       "    .dataframe thead th {\n",
       "        text-align: right;\n",
       "    }\n",
       "</style>\n",
       "<table border=\"1\" class=\"dataframe\">\n",
       "  <thead>\n",
       "    <tr style=\"text-align: right;\">\n",
       "      <th></th>\n",
       "      <th>Year</th>\n",
       "      <th>Kilometers_Driven</th>\n",
       "      <th>Mileage</th>\n",
       "      <th>Engine</th>\n",
       "      <th>Power</th>\n",
       "      <th>Seats</th>\n",
       "    </tr>\n",
       "  </thead>\n",
       "  <tbody>\n",
       "    <tr>\n",
       "      <th>count</th>\n",
       "      <td>1234.000000</td>\n",
       "      <td>1234.000000</td>\n",
       "      <td>1234.000000</td>\n",
       "      <td>1234.000000</td>\n",
       "      <td>1234.000000</td>\n",
       "      <td>1234.000000</td>\n",
       "    </tr>\n",
       "    <tr>\n",
       "      <th>mean</th>\n",
       "      <td>2013.400324</td>\n",
       "      <td>58507.288493</td>\n",
       "      <td>18.173857</td>\n",
       "      <td>1593.799028</td>\n",
       "      <td>109.790865</td>\n",
       "      <td>5.282010</td>\n",
       "    </tr>\n",
       "    <tr>\n",
       "      <th>std</th>\n",
       "      <td>3.179700</td>\n",
       "      <td>35598.702098</td>\n",
       "      <td>4.464615</td>\n",
       "      <td>564.820361</td>\n",
       "      <td>51.309854</td>\n",
       "      <td>0.822366</td>\n",
       "    </tr>\n",
       "    <tr>\n",
       "      <th>min</th>\n",
       "      <td>1996.000000</td>\n",
       "      <td>1000.000000</td>\n",
       "      <td>0.000000</td>\n",
       "      <td>624.000000</td>\n",
       "      <td>34.200000</td>\n",
       "      <td>2.000000</td>\n",
       "    </tr>\n",
       "    <tr>\n",
       "      <th>25%</th>\n",
       "      <td>2011.000000</td>\n",
       "      <td>34000.000000</td>\n",
       "      <td>15.215000</td>\n",
       "      <td>1198.000000</td>\n",
       "      <td>74.925000</td>\n",
       "      <td>5.000000</td>\n",
       "    </tr>\n",
       "    <tr>\n",
       "      <th>50%</th>\n",
       "      <td>2014.000000</td>\n",
       "      <td>54572.500000</td>\n",
       "      <td>18.250000</td>\n",
       "      <td>1461.000000</td>\n",
       "      <td>91.100000</td>\n",
       "      <td>5.000000</td>\n",
       "    </tr>\n",
       "    <tr>\n",
       "      <th>75%</th>\n",
       "      <td>2016.000000</td>\n",
       "      <td>75000.000000</td>\n",
       "      <td>21.100000</td>\n",
       "      <td>1968.000000</td>\n",
       "      <td>126.315000</td>\n",
       "      <td>5.000000</td>\n",
       "    </tr>\n",
       "    <tr>\n",
       "      <th>max</th>\n",
       "      <td>2019.000000</td>\n",
       "      <td>350000.000000</td>\n",
       "      <td>32.260000</td>\n",
       "      <td>5998.000000</td>\n",
       "      <td>616.000000</td>\n",
       "      <td>10.000000</td>\n",
       "    </tr>\n",
       "  </tbody>\n",
       "</table>\n",
       "</div>"
      ],
      "text/plain": [
       "              Year  Kilometers_Driven      Mileage       Engine        Power  \\\n",
       "count  1234.000000        1234.000000  1234.000000  1234.000000  1234.000000   \n",
       "mean   2013.400324       58507.288493    18.173857  1593.799028   109.790865   \n",
       "std       3.179700       35598.702098     4.464615   564.820361    51.309854   \n",
       "min    1996.000000        1000.000000     0.000000   624.000000    34.200000   \n",
       "25%    2011.000000       34000.000000    15.215000  1198.000000    74.925000   \n",
       "50%    2014.000000       54572.500000    18.250000  1461.000000    91.100000   \n",
       "75%    2016.000000       75000.000000    21.100000  1968.000000   126.315000   \n",
       "max    2019.000000      350000.000000    32.260000  5998.000000   616.000000   \n",
       "\n",
       "             Seats  \n",
       "count  1234.000000  \n",
       "mean      5.282010  \n",
       "std       0.822366  \n",
       "min       2.000000  \n",
       "25%       5.000000  \n",
       "50%       5.000000  \n",
       "75%       5.000000  \n",
       "max      10.000000  "
      ]
     },
     "execution_count": 49,
     "metadata": {},
     "output_type": "execute_result"
    }
   ],
   "source": [
    "df_test.describe()"
   ]
  },
  {
   "cell_type": "code",
   "execution_count": 50,
   "metadata": {
    "id": "ja9TWcWIG0W6",
    "outputId": "7a81d121-e05c-4fac-e170-546a9eb267d6"
   },
   "outputs": [
    {
     "data": {
      "text/plain": [
       "<matplotlib.axes._subplots.AxesSubplot at 0xcee9f810d0>"
      ]
     },
     "execution_count": 50,
     "metadata": {},
     "output_type": "execute_result"
    },
    {
     "data": {
      "image/png": "[encoded data removed]",
      "text/plain": [
       "<Figure size 432x288 with 1 Axes>"
      ]
     },
     "metadata": {
      "needs_background": "light"
     },
     "output_type": "display_data"
    }
   ],
   "source": [
    "sns.distplot(df_train.Mileage)"
   ]
  },
  {
   "cell_type": "markdown",
   "metadata": {
    "id": "sho8NUPTG0XF"
   },
   "source": [
    "###### As Mileage is connected to Engine capacity for general case in Modern cars we  can replace the value according to that"
   ]
  },
  {
   "cell_type": "code",
   "execution_count": 51,
   "metadata": {
    "id": "1O7S0_VXG0XG"
   },
   "outputs": [],
   "source": [
    "df_train[df_train.Mileage==0] = df_train[df_train.Mileage==0].replace({'Mileage':0},df_train.groupby('Engine')['Mileage'].median().median())"
   ]
  },
  {
   "cell_type": "code",
   "execution_count": 52,
   "metadata": {
    "id": "F1STVlgiG0XM",
    "outputId": "31b385eb-24fb-408b-d6de-07d7d29c1fc3"
   },
   "outputs": [
    {
     "data": {
      "text/html": [
       "<div>\n",
       "<style scoped>\n",
       "    .dataframe tbody tr th:only-of-type {\n",
       "        vertical-align: middle;\n",
       "    }\n",
       "\n",
       "    .dataframe tbody tr th {\n",
       "        vertical-align: top;\n",
       "    }\n",
       "\n",
       "    .dataframe thead th {\n",
       "        text-align: right;\n",
       "    }\n",
       "</style>\n",
       "<table border=\"1\" class=\"dataframe\">\n",
       "  <thead>\n",
       "    <tr style=\"text-align: right;\">\n",
       "      <th></th>\n",
       "      <th>Year</th>\n",
       "      <th>Kilometers_Driven</th>\n",
       "      <th>Mileage</th>\n",
       "      <th>Engine</th>\n",
       "      <th>Power</th>\n",
       "      <th>Seats</th>\n",
       "      <th>Price</th>\n",
       "    </tr>\n",
       "  </thead>\n",
       "  <tbody>\n",
       "    <tr>\n",
       "      <th>count</th>\n",
       "      <td>6019.000000</td>\n",
       "      <td>6.019000e+03</td>\n",
       "      <td>6019.000000</td>\n",
       "      <td>6019.000000</td>\n",
       "      <td>6019.000000</td>\n",
       "      <td>6019.000000</td>\n",
       "      <td>6019.000000</td>\n",
       "    </tr>\n",
       "    <tr>\n",
       "      <th>mean</th>\n",
       "      <td>2013.358199</td>\n",
       "      <td>5.873838e+04</td>\n",
       "      <td>18.301492</td>\n",
       "      <td>1620.866755</td>\n",
       "      <td>112.602603</td>\n",
       "      <td>5.278119</td>\n",
       "      <td>9.479468</td>\n",
       "    </tr>\n",
       "    <tr>\n",
       "      <th>std</th>\n",
       "      <td>3.269742</td>\n",
       "      <td>9.126884e+04</td>\n",
       "      <td>4.168545</td>\n",
       "      <td>601.700401</td>\n",
       "      <td>53.643821</td>\n",
       "      <td>0.807536</td>\n",
       "      <td>11.187917</td>\n",
       "    </tr>\n",
       "    <tr>\n",
       "      <th>min</th>\n",
       "      <td>1998.000000</td>\n",
       "      <td>1.710000e+02</td>\n",
       "      <td>6.400000</td>\n",
       "      <td>72.000000</td>\n",
       "      <td>34.200000</td>\n",
       "      <td>0.000000</td>\n",
       "      <td>0.440000</td>\n",
       "    </tr>\n",
       "    <tr>\n",
       "      <th>25%</th>\n",
       "      <td>2011.000000</td>\n",
       "      <td>3.400000e+04</td>\n",
       "      <td>15.170000</td>\n",
       "      <td>1198.000000</td>\n",
       "      <td>74.000000</td>\n",
       "      <td>5.000000</td>\n",
       "      <td>3.500000</td>\n",
       "    </tr>\n",
       "    <tr>\n",
       "      <th>50%</th>\n",
       "      <td>2014.000000</td>\n",
       "      <td>5.300000e+04</td>\n",
       "      <td>18.150000</td>\n",
       "      <td>1493.000000</td>\n",
       "      <td>93.700000</td>\n",
       "      <td>5.000000</td>\n",
       "      <td>5.640000</td>\n",
       "    </tr>\n",
       "    <tr>\n",
       "      <th>75%</th>\n",
       "      <td>2016.000000</td>\n",
       "      <td>7.300000e+04</td>\n",
       "      <td>21.100000</td>\n",
       "      <td>1984.000000</td>\n",
       "      <td>138.100000</td>\n",
       "      <td>5.000000</td>\n",
       "      <td>9.950000</td>\n",
       "    </tr>\n",
       "    <tr>\n",
       "      <th>max</th>\n",
       "      <td>2019.000000</td>\n",
       "      <td>6.500000e+06</td>\n",
       "      <td>33.540000</td>\n",
       "      <td>5998.000000</td>\n",
       "      <td>560.000000</td>\n",
       "      <td>10.000000</td>\n",
       "      <td>160.000000</td>\n",
       "    </tr>\n",
       "  </tbody>\n",
       "</table>\n",
       "</div>"
      ],
      "text/plain": [
       "              Year  Kilometers_Driven      Mileage       Engine        Power  \\\n",
       "count  6019.000000       6.019000e+03  6019.000000  6019.000000  6019.000000   \n",
       "mean   2013.358199       5.873838e+04    18.301492  1620.866755   112.602603   \n",
       "std       3.269742       9.126884e+04     4.168545   601.700401    53.643821   \n",
       "min    1998.000000       1.710000e+02     6.400000    72.000000    34.200000   \n",
       "25%    2011.000000       3.400000e+04    15.170000  1198.000000    74.000000   \n",
       "50%    2014.000000       5.300000e+04    18.150000  1493.000000    93.700000   \n",
       "75%    2016.000000       7.300000e+04    21.100000  1984.000000   138.100000   \n",
       "max    2019.000000       6.500000e+06    33.540000  5998.000000   560.000000   \n",
       "\n",
       "             Seats        Price  \n",
       "count  6019.000000  6019.000000  \n",
       "mean      5.278119     9.479468  \n",
       "std       0.807536    11.187917  \n",
       "min       0.000000     0.440000  \n",
       "25%       5.000000     3.500000  \n",
       "50%       5.000000     5.640000  \n",
       "75%       5.000000     9.950000  \n",
       "max      10.000000   160.000000  "
      ]
     },
     "execution_count": 52,
     "metadata": {},
     "output_type": "execute_result"
    }
   ],
   "source": [
    "df_train.describe()"
   ]
  },
  {
   "cell_type": "code",
   "execution_count": 53,
   "metadata": {
    "id": "eDoVkFZQG0XS",
    "outputId": "692da314-fa07-4f18-f85c-a101ba45d206"
   },
   "outputs": [
    {
     "data": {
      "text/plain": [
       "<matplotlib.axes._subplots.AxesSubplot at 0xceea04f610>"
      ]
     },
     "execution_count": 53,
     "metadata": {},
     "output_type": "execute_result"
    },
    {
     "data": {
      "image/png": "[encoded data removed]",
      "text/plain": [
       "<Figure size 432x288 with 1 Axes>"
      ]
     },
     "metadata": {
      "needs_background": "light"
     },
     "output_type": "display_data"
    }
   ],
   "source": [
    "sns.distplot(df_train.Mileage)"
   ]
  },
  {
   "cell_type": "code",
   "execution_count": 54,
   "metadata": {
    "id": "cDH_iesbG0XZ"
   },
   "outputs": [],
   "source": [
    "df_test[df_test.Mileage==0] = df_test[df_test.Mileage==0].replace({'Mileage':0},df_test.groupby('Engine')['Mileage'].median().median())"
   ]
  },
  {
   "cell_type": "code",
   "execution_count": 55,
   "metadata": {
    "id": "UlYaZ304G0Xf",
    "outputId": "b2fac89a-ddd6-4216-97d9-4e387e85042a"
   },
   "outputs": [
    {
     "data": {
      "text/plain": [
       "count    1234.000000\n",
       "mean       18.333829\n",
       "std         4.064357\n",
       "min         7.940000\n",
       "25%        15.215000\n",
       "50%        18.250000\n",
       "75%        21.100000\n",
       "max        32.260000\n",
       "Name: Mileage, dtype: float64"
      ]
     },
     "execution_count": 55,
     "metadata": {},
     "output_type": "execute_result"
    }
   ],
   "source": [
    "df_test.Mileage.describe()"
   ]
  },
  {
   "cell_type": "code",
   "execution_count": 56,
   "metadata": {
    "id": "a4VWOHz7G0Xk",
    "outputId": "cabed966-07e3-459f-f05c-8c501837b897"
   },
   "outputs": [
    {
     "data": {
      "text/html": [
       "<div>\n",
       "<style scoped>\n",
       "    .dataframe tbody tr th:only-of-type {\n",
       "        vertical-align: middle;\n",
       "    }\n",
       "\n",
       "    .dataframe tbody tr th {\n",
       "        vertical-align: top;\n",
       "    }\n",
       "\n",
       "    .dataframe thead th {\n",
       "        text-align: right;\n",
       "    }\n",
       "</style>\n",
       "<table border=\"1\" class=\"dataframe\">\n",
       "  <thead>\n",
       "    <tr style=\"text-align: right;\">\n",
       "      <th></th>\n",
       "      <th>Name</th>\n",
       "      <th>Location</th>\n",
       "      <th>Year</th>\n",
       "      <th>Kilometers_Driven</th>\n",
       "      <th>Fuel_Type</th>\n",
       "      <th>Transmission</th>\n",
       "      <th>Owner_Type</th>\n",
       "      <th>Mileage</th>\n",
       "      <th>Engine</th>\n",
       "      <th>Power</th>\n",
       "      <th>Seats</th>\n",
       "      <th>Price</th>\n",
       "    </tr>\n",
       "  </thead>\n",
       "  <tbody>\n",
       "    <tr>\n",
       "      <th>3999</th>\n",
       "      <td>Audi A4 3.2 FSI Tiptronic Quattro</td>\n",
       "      <td>Hyderabad</td>\n",
       "      <td>2012</td>\n",
       "      <td>125000</td>\n",
       "      <td>Petrol</td>\n",
       "      <td>Automatic</td>\n",
       "      <td>First</td>\n",
       "      <td>10.5</td>\n",
       "      <td>3197.0</td>\n",
       "      <td>120.0</td>\n",
       "      <td>0.0</td>\n",
       "      <td>18.0</td>\n",
       "    </tr>\n",
       "  </tbody>\n",
       "</table>\n",
       "</div>"
      ],
      "text/plain": [
       "                                   Name   Location  Year  Kilometers_Driven  \\\n",
       "3999  Audi A4 3.2 FSI Tiptronic Quattro  Hyderabad  2012             125000   \n",
       "\n",
       "     Fuel_Type Transmission Owner_Type  Mileage  Engine  Power  Seats  Price  \n",
       "3999    Petrol    Automatic      First     10.5  3197.0  120.0    0.0   18.0  "
      ]
     },
     "execution_count": 56,
     "metadata": {},
     "output_type": "execute_result"
    }
   ],
   "source": [
    "df_train[df_train.Seats==0]\n"
   ]
  },
  {
   "cell_type": "code",
   "execution_count": 57,
   "metadata": {
    "id": "N4YyVepSG0Xq"
   },
   "outputs": [],
   "source": [
    "def impute_seat(data):\n",
    "    if data == 0:\n",
    "        return 5\n",
    "    else:\n",
    "        return data\n",
    "seat_set = lambda x: impute_seat(x)"
   ]
  },
  {
   "cell_type": "code",
   "execution_count": 58,
   "metadata": {
    "id": "Mrd371RnG0Xw"
   },
   "outputs": [],
   "source": [
    "df_train.Seats = df_train.Seats.apply(seat_set)"
   ]
  },
  {
   "cell_type": "markdown",
   "metadata": {
    "id": "C5tRiSzzG0X1"
   },
   "source": [
    "#### zero value ouliers has cleared ,now we need more specific oulier treatment and category feature handling"
   ]
  },
  {
   "cell_type": "code",
   "execution_count": 59,
   "metadata": {
    "id": "8WZoay_LG0X2",
    "outputId": "af67a755-7359-4073-d41a-bb761b020337"
   },
   "outputs": [
    {
     "data": {
      "text/html": [
       "<div>\n",
       "<style scoped>\n",
       "    .dataframe tbody tr th:only-of-type {\n",
       "        vertical-align: middle;\n",
       "    }\n",
       "\n",
       "    .dataframe tbody tr th {\n",
       "        vertical-align: top;\n",
       "    }\n",
       "\n",
       "    .dataframe thead th {\n",
       "        text-align: right;\n",
       "    }\n",
       "</style>\n",
       "<table border=\"1\" class=\"dataframe\">\n",
       "  <thead>\n",
       "    <tr style=\"text-align: right;\">\n",
       "      <th></th>\n",
       "      <th>Name</th>\n",
       "      <th>Location</th>\n",
       "      <th>Year</th>\n",
       "      <th>Kilometers_Driven</th>\n",
       "      <th>Fuel_Type</th>\n",
       "      <th>Transmission</th>\n",
       "      <th>Owner_Type</th>\n",
       "      <th>Mileage</th>\n",
       "      <th>Engine</th>\n",
       "      <th>Power</th>\n",
       "      <th>Seats</th>\n",
       "      <th>Price</th>\n",
       "    </tr>\n",
       "  </thead>\n",
       "  <tbody>\n",
       "    <tr>\n",
       "      <th>1269</th>\n",
       "      <td>Maruti Alto 800 2016-2019 CNG LXI</td>\n",
       "      <td>Mumbai</td>\n",
       "      <td>2018</td>\n",
       "      <td>10600</td>\n",
       "      <td>CNG</td>\n",
       "      <td>Manual</td>\n",
       "      <td>First</td>\n",
       "      <td>33.44</td>\n",
       "      <td>796.0</td>\n",
       "      <td>40.30</td>\n",
       "      <td>4.0</td>\n",
       "      <td>3.50</td>\n",
       "    </tr>\n",
       "    <tr>\n",
       "      <th>1332</th>\n",
       "      <td>Maruti Wagon R CNG LXI</td>\n",
       "      <td>Pune</td>\n",
       "      <td>2013</td>\n",
       "      <td>79494</td>\n",
       "      <td>CNG</td>\n",
       "      <td>Manual</td>\n",
       "      <td>First</td>\n",
       "      <td>33.54</td>\n",
       "      <td>998.0</td>\n",
       "      <td>67.04</td>\n",
       "      <td>5.0</td>\n",
       "      <td>2.96</td>\n",
       "    </tr>\n",
       "    <tr>\n",
       "      <th>2059</th>\n",
       "      <td>Maruti Wagon R CNG LXI</td>\n",
       "      <td>Mumbai</td>\n",
       "      <td>2013</td>\n",
       "      <td>54000</td>\n",
       "      <td>CNG</td>\n",
       "      <td>Manual</td>\n",
       "      <td>First</td>\n",
       "      <td>33.54</td>\n",
       "      <td>998.0</td>\n",
       "      <td>67.04</td>\n",
       "      <td>5.0</td>\n",
       "      <td>3.05</td>\n",
       "    </tr>\n",
       "    <tr>\n",
       "      <th>2371</th>\n",
       "      <td>Maruti Wagon R CNG LXI</td>\n",
       "      <td>Pune</td>\n",
       "      <td>2014</td>\n",
       "      <td>29202</td>\n",
       "      <td>CNG</td>\n",
       "      <td>Manual</td>\n",
       "      <td>First</td>\n",
       "      <td>33.54</td>\n",
       "      <td>998.0</td>\n",
       "      <td>67.04</td>\n",
       "      <td>5.0</td>\n",
       "      <td>3.90</td>\n",
       "    </tr>\n",
       "    <tr>\n",
       "      <th>2701</th>\n",
       "      <td>Maruti Celerio CNG VXI MT</td>\n",
       "      <td>Kochi</td>\n",
       "      <td>2016</td>\n",
       "      <td>70536</td>\n",
       "      <td>CNG</td>\n",
       "      <td>Manual</td>\n",
       "      <td>First</td>\n",
       "      <td>31.79</td>\n",
       "      <td>998.0</td>\n",
       "      <td>58.33</td>\n",
       "      <td>5.0</td>\n",
       "      <td>4.58</td>\n",
       "    </tr>\n",
       "    <tr>\n",
       "      <th>3119</th>\n",
       "      <td>Maruti Alto K10 LXI CNG Optional</td>\n",
       "      <td>Kochi</td>\n",
       "      <td>2018</td>\n",
       "      <td>44202</td>\n",
       "      <td>CNG</td>\n",
       "      <td>Manual</td>\n",
       "      <td>First</td>\n",
       "      <td>32.26</td>\n",
       "      <td>998.0</td>\n",
       "      <td>58.20</td>\n",
       "      <td>4.0</td>\n",
       "      <td>4.00</td>\n",
       "    </tr>\n",
       "    <tr>\n",
       "      <th>3129</th>\n",
       "      <td>Maruti Wagon R CNG LXI</td>\n",
       "      <td>Delhi</td>\n",
       "      <td>2014</td>\n",
       "      <td>74663</td>\n",
       "      <td>CNG</td>\n",
       "      <td>Manual</td>\n",
       "      <td>First</td>\n",
       "      <td>33.54</td>\n",
       "      <td>998.0</td>\n",
       "      <td>67.04</td>\n",
       "      <td>5.0</td>\n",
       "      <td>3.25</td>\n",
       "    </tr>\n",
       "    <tr>\n",
       "      <th>3553</th>\n",
       "      <td>Maruti Alto 800 2016-2019 CNG LXI</td>\n",
       "      <td>Pune</td>\n",
       "      <td>2015</td>\n",
       "      <td>18000</td>\n",
       "      <td>CNG</td>\n",
       "      <td>Manual</td>\n",
       "      <td>First</td>\n",
       "      <td>33.44</td>\n",
       "      <td>796.0</td>\n",
       "      <td>40.30</td>\n",
       "      <td>4.0</td>\n",
       "      <td>3.00</td>\n",
       "    </tr>\n",
       "    <tr>\n",
       "      <th>3869</th>\n",
       "      <td>Maruti Alto 800 2016-2019 CNG LXI</td>\n",
       "      <td>Delhi</td>\n",
       "      <td>2012</td>\n",
       "      <td>65537</td>\n",
       "      <td>CNG</td>\n",
       "      <td>Manual</td>\n",
       "      <td>Second</td>\n",
       "      <td>33.44</td>\n",
       "      <td>796.0</td>\n",
       "      <td>40.30</td>\n",
       "      <td>4.0</td>\n",
       "      <td>2.10</td>\n",
       "    </tr>\n",
       "    <tr>\n",
       "      <th>4141</th>\n",
       "      <td>Maruti Wagon R CNG LXI</td>\n",
       "      <td>Mumbai</td>\n",
       "      <td>2014</td>\n",
       "      <td>47200</td>\n",
       "      <td>CNG</td>\n",
       "      <td>Manual</td>\n",
       "      <td>First</td>\n",
       "      <td>33.54</td>\n",
       "      <td>998.0</td>\n",
       "      <td>67.04</td>\n",
       "      <td>5.0</td>\n",
       "      <td>2.85</td>\n",
       "    </tr>\n",
       "    <tr>\n",
       "      <th>4769</th>\n",
       "      <td>Maruti Alto 800 2016-2019 CNG LXI</td>\n",
       "      <td>Kochi</td>\n",
       "      <td>2017</td>\n",
       "      <td>24310</td>\n",
       "      <td>CNG</td>\n",
       "      <td>Manual</td>\n",
       "      <td>First</td>\n",
       "      <td>33.44</td>\n",
       "      <td>796.0</td>\n",
       "      <td>40.30</td>\n",
       "      <td>4.0</td>\n",
       "      <td>3.70</td>\n",
       "    </tr>\n",
       "    <tr>\n",
       "      <th>5178</th>\n",
       "      <td>Maruti Celerio CNG VXI MT</td>\n",
       "      <td>Delhi</td>\n",
       "      <td>2015</td>\n",
       "      <td>64687</td>\n",
       "      <td>CNG</td>\n",
       "      <td>Manual</td>\n",
       "      <td>First</td>\n",
       "      <td>31.79</td>\n",
       "      <td>998.0</td>\n",
       "      <td>58.33</td>\n",
       "      <td>5.0</td>\n",
       "      <td>3.80</td>\n",
       "    </tr>\n",
       "    <tr>\n",
       "      <th>5710</th>\n",
       "      <td>Maruti Alto 800 CNG LXI</td>\n",
       "      <td>Mumbai</td>\n",
       "      <td>2013</td>\n",
       "      <td>26200</td>\n",
       "      <td>CNG</td>\n",
       "      <td>Manual</td>\n",
       "      <td>First</td>\n",
       "      <td>30.46</td>\n",
       "      <td>796.0</td>\n",
       "      <td>47.30</td>\n",
       "      <td>5.0</td>\n",
       "      <td>2.15</td>\n",
       "    </tr>\n",
       "    <tr>\n",
       "      <th>5935</th>\n",
       "      <td>Maruti Alto K10 LXI CNG</td>\n",
       "      <td>Pune</td>\n",
       "      <td>2015</td>\n",
       "      <td>59525</td>\n",
       "      <td>CNG</td>\n",
       "      <td>Manual</td>\n",
       "      <td>Second</td>\n",
       "      <td>32.26</td>\n",
       "      <td>998.0</td>\n",
       "      <td>58.20</td>\n",
       "      <td>4.0</td>\n",
       "      <td>3.10</td>\n",
       "    </tr>\n",
       "  </tbody>\n",
       "</table>\n",
       "</div>"
      ],
      "text/plain": [
       "                                   Name Location  Year  Kilometers_Driven  \\\n",
       "1269  Maruti Alto 800 2016-2019 CNG LXI   Mumbai  2018              10600   \n",
       "1332             Maruti Wagon R CNG LXI     Pune  2013              79494   \n",
       "2059             Maruti Wagon R CNG LXI   Mumbai  2013              54000   \n",
       "2371             Maruti Wagon R CNG LXI     Pune  2014              29202   \n",
       "2701          Maruti Celerio CNG VXI MT    Kochi  2016              70536   \n",
       "3119   Maruti Alto K10 LXI CNG Optional    Kochi  2018              44202   \n",
       "3129             Maruti Wagon R CNG LXI    Delhi  2014              74663   \n",
       "3553  Maruti Alto 800 2016-2019 CNG LXI     Pune  2015              18000   \n",
       "3869  Maruti Alto 800 2016-2019 CNG LXI    Delhi  2012              65537   \n",
       "4141             Maruti Wagon R CNG LXI   Mumbai  2014              47200   \n",
       "4769  Maruti Alto 800 2016-2019 CNG LXI    Kochi  2017              24310   \n",
       "5178          Maruti Celerio CNG VXI MT    Delhi  2015              64687   \n",
       "5710            Maruti Alto 800 CNG LXI   Mumbai  2013              26200   \n",
       "5935            Maruti Alto K10 LXI CNG     Pune  2015              59525   \n",
       "\n",
       "     Fuel_Type Transmission Owner_Type  Mileage  Engine  Power  Seats  Price  \n",
       "1269       CNG       Manual      First    33.44   796.0  40.30    4.0   3.50  \n",
       "1332       CNG       Manual      First    33.54   998.0  67.04    5.0   2.96  \n",
       "2059       CNG       Manual      First    33.54   998.0  67.04    5.0   3.05  \n",
       "2371       CNG       Manual      First    33.54   998.0  67.04    5.0   3.90  \n",
       "2701       CNG       Manual      First    31.79   998.0  58.33    5.0   4.58  \n",
       "3119       CNG       Manual      First    32.26   998.0  58.20    4.0   4.00  \n",
       "3129       CNG       Manual      First    33.54   998.0  67.04    5.0   3.25  \n",
       "3553       CNG       Manual      First    33.44   796.0  40.30    4.0   3.00  \n",
       "3869       CNG       Manual     Second    33.44   796.0  40.30    4.0   2.10  \n",
       "4141       CNG       Manual      First    33.54   998.0  67.04    5.0   2.85  \n",
       "4769       CNG       Manual      First    33.44   796.0  40.30    4.0   3.70  \n",
       "5178       CNG       Manual      First    31.79   998.0  58.33    5.0   3.80  \n",
       "5710       CNG       Manual      First    30.46   796.0  47.30    5.0   2.15  \n",
       "5935       CNG       Manual     Second    32.26   998.0  58.20    4.0   3.10  "
      ]
     },
     "execution_count": 59,
     "metadata": {},
     "output_type": "execute_result"
    }
   ],
   "source": [
    "df_train[(df_train.Engine<1000) & (df_train.Mileage>30)]"
   ]
  },
  {
   "cell_type": "markdown",
   "metadata": {
    "id": "onLATziPG0X7"
   },
   "source": [
    "##### Here we can see most CNG vehicles which are having an engine capacity less than 1000cc shows mileage figures more than avg 0f 30. For the better performance of the model we need to readjusat those values\n"
   ]
  },
  {
   "cell_type": "code",
   "execution_count": 60,
   "metadata": {
    "id": "Se4FYc2KG0X8",
    "outputId": "319a49a2-b0f5-4b97-d372-80f9b71b7c4c"
   },
   "outputs": [
    {
     "data": {
      "text/html": [
       "<div>\n",
       "<style scoped>\n",
       "    .dataframe tbody tr th:only-of-type {\n",
       "        vertical-align: middle;\n",
       "    }\n",
       "\n",
       "    .dataframe tbody tr th {\n",
       "        vertical-align: top;\n",
       "    }\n",
       "\n",
       "    .dataframe thead th {\n",
       "        text-align: right;\n",
       "    }\n",
       "</style>\n",
       "<table border=\"1\" class=\"dataframe\">\n",
       "  <thead>\n",
       "    <tr style=\"text-align: right;\">\n",
       "      <th></th>\n",
       "      <th>Name</th>\n",
       "      <th>Location</th>\n",
       "      <th>Year</th>\n",
       "      <th>Kilometers_Driven</th>\n",
       "      <th>Fuel_Type</th>\n",
       "      <th>Transmission</th>\n",
       "      <th>Owner_Type</th>\n",
       "      <th>Mileage</th>\n",
       "      <th>Engine</th>\n",
       "      <th>Power</th>\n",
       "      <th>Seats</th>\n",
       "    </tr>\n",
       "  </thead>\n",
       "  <tbody>\n",
       "    <tr>\n",
       "      <th>0</th>\n",
       "      <td>Maruti Alto K10 LXI CNG</td>\n",
       "      <td>Delhi</td>\n",
       "      <td>2014</td>\n",
       "      <td>40929</td>\n",
       "      <td>CNG</td>\n",
       "      <td>Manual</td>\n",
       "      <td>First</td>\n",
       "      <td>32.26</td>\n",
       "      <td>998.0</td>\n",
       "      <td>58.2</td>\n",
       "      <td>4.0</td>\n",
       "    </tr>\n",
       "    <tr>\n",
       "      <th>519</th>\n",
       "      <td>Maruti Alto K10 LXI CNG</td>\n",
       "      <td>Kochi</td>\n",
       "      <td>2015</td>\n",
       "      <td>47490</td>\n",
       "      <td>CNG</td>\n",
       "      <td>Manual</td>\n",
       "      <td>First</td>\n",
       "      <td>32.26</td>\n",
       "      <td>998.0</td>\n",
       "      <td>58.2</td>\n",
       "      <td>4.0</td>\n",
       "    </tr>\n",
       "    <tr>\n",
       "      <th>769</th>\n",
       "      <td>Maruti Alto K10 LXI CNG Optional</td>\n",
       "      <td>Delhi</td>\n",
       "      <td>2017</td>\n",
       "      <td>33000</td>\n",
       "      <td>CNG</td>\n",
       "      <td>Manual</td>\n",
       "      <td>First</td>\n",
       "      <td>32.26</td>\n",
       "      <td>998.0</td>\n",
       "      <td>58.2</td>\n",
       "      <td>4.0</td>\n",
       "    </tr>\n",
       "    <tr>\n",
       "      <th>939</th>\n",
       "      <td>Maruti Alto 800 CNG LXI</td>\n",
       "      <td>Kolkata</td>\n",
       "      <td>2013</td>\n",
       "      <td>14311</td>\n",
       "      <td>CNG</td>\n",
       "      <td>Manual</td>\n",
       "      <td>First</td>\n",
       "      <td>30.46</td>\n",
       "      <td>796.0</td>\n",
       "      <td>47.3</td>\n",
       "      <td>5.0</td>\n",
       "    </tr>\n",
       "  </tbody>\n",
       "</table>\n",
       "</div>"
      ],
      "text/plain": [
       "                                 Name Location  Year  Kilometers_Driven  \\\n",
       "0             Maruti Alto K10 LXI CNG    Delhi  2014              40929   \n",
       "519           Maruti Alto K10 LXI CNG    Kochi  2015              47490   \n",
       "769  Maruti Alto K10 LXI CNG Optional    Delhi  2017              33000   \n",
       "939           Maruti Alto 800 CNG LXI  Kolkata  2013              14311   \n",
       "\n",
       "    Fuel_Type Transmission Owner_Type  Mileage  Engine  Power  Seats  \n",
       "0         CNG       Manual      First    32.26   998.0   58.2    4.0  \n",
       "519       CNG       Manual      First    32.26   998.0   58.2    4.0  \n",
       "769       CNG       Manual      First    32.26   998.0   58.2    4.0  \n",
       "939       CNG       Manual      First    30.46   796.0   47.3    5.0  "
      ]
     },
     "execution_count": 60,
     "metadata": {},
     "output_type": "execute_result"
    }
   ],
   "source": [
    "df_test[(df_test.Engine<1000) & (df_test.Mileage>30)]"
   ]
  },
  {
   "cell_type": "code",
   "execution_count": 61,
   "metadata": {
    "id": "gVEvtTLGG0YD",
    "outputId": "169af0e6-5c0f-4141-dacc-a16a90f904ad"
   },
   "outputs": [
    {
     "data": {
      "text/plain": [
       "<matplotlib.axes._subplots.AxesSubplot at 0xceea117a60>"
      ]
     },
     "execution_count": 61,
     "metadata": {},
     "output_type": "execute_result"
    },
    {
     "data": {
      "image/png": "[encoded data removed]",
      "text/plain": [
       "<Figure size 432x288 with 1 Axes>"
      ]
     },
     "metadata": {
      "needs_background": "light"
     },
     "output_type": "display_data"
    }
   ],
   "source": [
    "sns.violinplot(df_train.Mileage)"
   ]
  },
  {
   "cell_type": "code",
   "execution_count": 62,
   "metadata": {
    "id": "_VGxJJ3GG0YI",
    "outputId": "41b74531-c09f-4cdb-e1a6-b7b9f8cc0863"
   },
   "outputs": [
    {
     "data": {
      "text/plain": [
       "count    6019.000000\n",
       "mean       18.301492\n",
       "std         4.168545\n",
       "min         6.400000\n",
       "25%        15.170000\n",
       "50%        18.150000\n",
       "75%        21.100000\n",
       "max        33.540000\n",
       "Name: Mileage, dtype: float64"
      ]
     },
     "execution_count": 62,
     "metadata": {},
     "output_type": "execute_result"
    }
   ],
   "source": [
    "df_train.Mileage.describe()"
   ]
  },
  {
   "cell_type": "markdown",
   "metadata": {
    "id": "icyO-QsRG0YR"
   },
   "source": [
    "#### conditionally we can assert that any value in Mileage which is more than 3rd std normal value will be squished towards that 3rd normal dist. range"
   ]
  },
  {
   "cell_type": "code",
   "execution_count": 63,
   "metadata": {
    "id": "EX9IF6HcG0YS",
    "outputId": "2e6dfb4b-db07-45a6-e902-d78d1723c968"
   },
   "outputs": [
    {
     "data": {
      "text/plain": [
       "30.807128167156396"
      ]
     },
     "execution_count": 63,
     "metadata": {},
     "output_type": "execute_result"
    }
   ],
   "source": [
    "\n",
    "mil_outlr_adj = df_train.Mileage.mean() + 3 * df_train.Mileage.std()\n",
    "mil_outlr_adj"
   ]
  },
  {
   "cell_type": "code",
   "execution_count": 64,
   "metadata": {
    "id": "xSIlZYS4G0YW"
   },
   "outputs": [],
   "source": [
    "df_train['Mileage'] = np.where(df_train.Mileage > mil_outlr_adj ,30,df_train.Mileage)"
   ]
  },
  {
   "cell_type": "code",
   "execution_count": 65,
   "metadata": {
    "id": "9N_pa-WFG0Ya",
    "outputId": "679f85da-96f5-40f3-a13c-93c8fe4057b5"
   },
   "outputs": [
    {
     "data": {
      "text/plain": [
       "count    6019.000000\n",
       "mean       18.294919\n",
       "std         4.147516\n",
       "min         6.400000\n",
       "25%        15.170000\n",
       "50%        18.150000\n",
       "75%        21.100000\n",
       "max        30.460000\n",
       "Name: Mileage, dtype: float64"
      ]
     },
     "execution_count": 65,
     "metadata": {},
     "output_type": "execute_result"
    }
   ],
   "source": [
    "df_train.Mileage.describe()"
   ]
  },
  {
   "cell_type": "code",
   "execution_count": 66,
   "metadata": {
    "id": "Dk2ZwybwG0Ye",
    "outputId": "4fad8630-7c33-4eae-9c48-efa08244d069"
   },
   "outputs": [
    {
     "data": {
      "text/plain": [
       "<matplotlib.axes._subplots.AxesSubplot at 0xceea110460>"
      ]
     },
     "execution_count": 66,
     "metadata": {},
     "output_type": "execute_result"
    },
    {
     "data": {
      "image/png": "[encoded data removed]",
      "text/plain": [
       "<Figure size 432x288 with 1 Axes>"
      ]
     },
     "metadata": {
      "needs_background": "light"
     },
     "output_type": "display_data"
    }
   ],
   "source": [
    "sns.violinplot(df_train.Mileage)"
   ]
  },
  {
   "cell_type": "code",
   "execution_count": 67,
   "metadata": {
    "id": "iwRZHA4CG0Yj",
    "outputId": "d55d3af2-8ebd-4e5d-ba28-ece82f7b009f"
   },
   "outputs": [
    {
     "data": {
      "text/plain": [
       "30.52689875917077"
      ]
     },
     "execution_count": 67,
     "metadata": {},
     "output_type": "execute_result"
    }
   ],
   "source": [
    "miltes_outlr_adj = df_test.Mileage.mean() + 3 * df_test.Mileage.std()\n",
    "miltes_outlr_adj"
   ]
  },
  {
   "cell_type": "code",
   "execution_count": 68,
   "metadata": {
    "id": "JoXrtsZuG0Ys"
   },
   "outputs": [],
   "source": [
    "df_test['Mileage'] = np.where(df_test.Mileage > miltes_outlr_adj ,30,df_test.Mileage)"
   ]
  },
  {
   "cell_type": "code",
   "execution_count": 69,
   "metadata": {
    "id": "FxhMTl5-G0Yx",
    "outputId": "a930b5a4-9c21-40ce-8f0d-2234b21fdfe9"
   },
   "outputs": [
    {
     "name": "stdout",
     "output_type": "stream",
     "text": [
      "count    1234.000000\n",
      "mean       18.328335\n",
      "std         4.047004\n",
      "min         7.940000\n",
      "25%        15.215000\n",
      "50%        18.250000\n",
      "75%        21.100000\n",
      "max        30.460000\n",
      "Name: Mileage, dtype: float64\n"
     ]
    },
    {
     "data": {
      "text/plain": [
       "<matplotlib.axes._subplots.AxesSubplot at 0xceea1be610>"
      ]
     },
     "execution_count": 69,
     "metadata": {},
     "output_type": "execute_result"
    },
    {
     "data": {
      "image/png": "[encoded data removed]",
      "text/plain": [
       "<Figure size 432x288 with 1 Axes>"
      ]
     },
     "metadata": {
      "needs_background": "light"
     },
     "output_type": "display_data"
    }
   ],
   "source": [
    "print(df_test.Mileage.describe())\n",
    "sns.boxplot(df_test.Mileage)"
   ]
  },
  {
   "cell_type": "code",
   "execution_count": 70,
   "metadata": {
    "id": "uc7RSh-sG0Y1",
    "outputId": "302845f1-28d2-40da-a66c-8a02ae65e398"
   },
   "outputs": [
    {
     "name": "stdout",
     "output_type": "stream",
     "text": [
      "['Year', 'Kilometers_Driven', 'Mileage', 'Engine', 'Power', 'Seats', 'Price']\n",
      "['Year', 'Kilometers_Driven', 'Mileage', 'Engine', 'Power', 'Seats']\n"
     ]
    }
   ],
   "source": [
    "num_feat_tr = df_train.select_dtypes(include=[np.int64,np.float64]).columns.to_list() #[:-1]\n",
    "num_feat_tes = df_test.select_dtypes(include=[np.int64,np.float64]).columns.to_list()\n",
    "print(num_feat_tr),print(num_feat_tes)\n",
    "num_feat_tes.remove(\"Year\")\n",
    "num_feat_tes.remove('Seats') ## for now we can skip one feature Seats for model building."
   ]
  },
  {
   "cell_type": "code",
   "execution_count": 71,
   "metadata": {
    "id": "nNbLa1J_G0Y6",
    "outputId": "26e1e1b6-f463-47e0-eafb-7d4f83f59e4b"
   },
   "outputs": [
    {
     "data": {
      "text/plain": [
       "['Name', 'Location', 'Fuel_Type', 'Transmission', 'Owner_Type']"
      ]
     },
     "execution_count": 71,
     "metadata": {},
     "output_type": "execute_result"
    }
   ],
   "source": [
    "cat_cols = [feat for feat in df_train.columns if df_train[feat].dtypes=='O']\n",
    "cat_cols\n",
    "# cat_cols.remove('Name')"
   ]
  },
  {
   "cell_type": "code",
   "execution_count": 72,
   "metadata": {
    "id": "XxuZKgq4G0Y-",
    "outputId": "98666e5e-ffc4-45b3-d2db-db071d811652"
   },
   "outputs": [
    {
     "name": "stdout",
     "output_type": "stream",
     "text": [
      "['Name', 'Location', 'Fuel_Type', 'Transmission', 'Owner_Type']\n",
      "['Kilometers_Driven', 'Mileage', 'Engine', 'Power']\n"
     ]
    }
   ],
   "source": [
    "print(cat_cols)\n",
    "print(num_feat_tes)"
   ]
  },
  {
   "cell_type": "markdown",
   "metadata": {
    "id": "hWdHPbcBG0ZC"
   },
   "source": [
    "#### seperating data into dependant and independant variables"
   ]
  },
  {
   "cell_type": "code",
   "execution_count": 73,
   "metadata": {
    "id": "ljIzkB1OG0ZD"
   },
   "outputs": [],
   "source": [
    "df_train_fin = df_train.drop(['Seats','Price'],axis=1)\n",
    "target = df_train.Price\n",
    "df_test_fin = df_test.drop('Seats', axis=1)"
   ]
  },
  {
   "cell_type": "code",
   "execution_count": 74,
   "metadata": {
    "id": "XSSw4k4_26JE"
   },
   "outputs": [],
   "source": [
    "X = df_train_fin.copy()\n",
    "y = target.copy()\n",
    "X_test = df_test_fin.copy()"
   ]
  },
  {
   "cell_type": "markdown",
   "metadata": {
    "id": "uIF9FCaSG0ZN"
   },
   "source": [
    "### Implementing some of the preprocessing techniques like scaling ,LabelBinarizing through column_transformer and pipeline and finally applying cross_val_score and Model creation through a combined Pipeline ."
   ]
  },
  {
   "cell_type": "code",
   "execution_count": 99,
   "metadata": {
    "id": "ayh8DZYlG0ZP"
   },
   "outputs": [],
   "source": [
    "from sklearn .preprocessing import LabelBinarizer\n",
    "from sklearn.preprocessing import OneHotEncoder\n",
    "from sklearn.compose import make_column_transformer,ColumnTransformer\n",
    "from sklearn.pipeline import make_pipeline,Pipeline \n",
    "from sklearn.preprocessing import StandardScaler\n",
    "from sklearn.model_selection import cross_val_score,train_test_split\n",
    "from sklearn.model_selection import KFold\n",
    "from sklearn.model_selection import GridSearchCV,RandomizedSearchCV\n",
    "from sklearn.metrics import accuracy_score,mean_absolute_error,mean_squared_error,r2_score\n",
    "import pickle as pck\n",
    "lbl_bin = LabelBinarizer()\n",
    "ohe = OneHotEncoder(sparse=False)\n",
    "std_scl = StandardScaler()\n"
   ]
  },
  {
   "cell_type": "markdown",
   "metadata": {
    "id": "D4y6zyH1G0ZT"
   },
   "source": [
    "#### Regular ML Models. "
   ]
  },
  {
   "cell_type": "code",
   "execution_count": 76,
   "metadata": {
    "id": "MOgXh84kG0ZU"
   },
   "outputs": [],
   "source": [
    "from sklearn.ensemble import RandomForestRegressor\n",
    "from xgboost import XGBRegressor\n",
    "from sklearn.svm import SVR"
   ]
  },
  {
   "cell_type": "code",
   "execution_count": 77,
   "metadata": {
    "id": "wuUZ_9rHG0Zb"
   },
   "outputs": [],
   "source": [
    "# Instantiating models.\n",
    "ran_for = RandomForestRegressor(n_estimators=1500,max_leaf_nodes=400,n_jobs=-1)\n",
    "xgb_reg = XGBRegressor(n_estimators=2000,learning_rate=5e-2, n_jobs=-1)\n",
    "svr_reg = SVR()"
   ]
  },
  {
   "cell_type": "code",
   "execution_count": 78,
   "metadata": {
    "id": "YgJo62pHG0Z4"
   },
   "outputs": [],
   "source": [
    "cat_transformer = Pipeline(steps=[\n",
    "                  ('onehot', OneHotEncoder(handle_unknown='ignore'))\n",
    "                 ])\n",
    "num_transformer = Pipeline(steps=[\n",
    "                      ('std.scale',StandardScaler())\n",
    "                 ])"
   ]
  },
  {
   "cell_type": "code",
   "execution_count": 79,
   "metadata": {
    "id": "vT_yDnlbUbe5"
   },
   "outputs": [],
   "source": [
    "column_transformer = ColumnTransformer(transformers=[\n",
    "                    (\"numerical\",num_transformer,num_feat_tes),\n",
    "                    ('categorical',cat_transformer,cat_cols)                                 \n",
    "                    ],remainder='passthrough')"
   ]
  },
  {
   "cell_type": "code",
   "execution_count": 80,
   "metadata": {
    "id": "GEJbkDPxV2c2"
   },
   "outputs": [],
   "source": [
    "pipe_ranfor = make_pipeline(column_transformer,ran_for)\n",
    "                          "
   ]
  },
  {
   "cell_type": "code",
   "execution_count": 81,
   "metadata": {
    "id": "cJOFLj4c1swd"
   },
   "outputs": [],
   "source": [
    "X_train,X_val,y_train,y_val = train_test_split(X,y,test_size = 0.22,random_state=42)"
   ]
  },
  {
   "cell_type": "code",
   "execution_count": 82,
   "metadata": {
    "id": "tH2M6oOj2hfp",
    "outputId": "a8d07319-c67d-4b12-c981-dbde9a18155f"
   },
   "outputs": [
    {
     "data": {
      "text/plain": [
       "Pipeline(steps=[('columntransformer',\n",
       "                 ColumnTransformer(remainder='passthrough',\n",
       "                                   transformers=[('numerical',\n",
       "                                                  Pipeline(steps=[('std.scale',\n",
       "                                                                   StandardScaler())]),\n",
       "                                                  ['Kilometers_Driven',\n",
       "                                                   'Mileage', 'Engine',\n",
       "                                                   'Power']),\n",
       "                                                 ('categorical',\n",
       "                                                  Pipeline(steps=[('onehot',\n",
       "                                                                   OneHotEncoder(handle_unknown='ignore'))]),\n",
       "                                                  ['Name', 'Location',\n",
       "                                                   'Fuel_Type', 'Transmission',\n",
       "                                                   'Owner_Type'])])),\n",
       "                ('randomforestregressor',\n",
       "                 RandomForestRegressor(max_leaf_nodes=400, n_estimators=1500,\n",
       "                                       n_jobs=-1))])"
      ]
     },
     "execution_count": 82,
     "metadata": {},
     "output_type": "execute_result"
    }
   ],
   "source": [
    "pipe_ranfor.fit(X_train, y_train)"
   ]
  },
  {
   "cell_type": "code",
   "execution_count": 83,
   "metadata": {
    "id": "IqNESDzR4aj2"
   },
   "outputs": [],
   "source": [
    "preds = pipe_ranfor.predict(X_val)"
   ]
  },
  {
   "cell_type": "code",
   "execution_count": 84,
   "metadata": {
    "id": "10KDCO2T5P1o",
    "outputId": "3afd592a-c67c-4128-8ec3-01a4d3c8750a"
   },
   "outputs": [
    {
     "name": "stdout",
     "output_type": "stream",
     "text": [
      "MAE: 1.6444740836045644\n"
     ]
    }
   ],
   "source": [
    "score = mean_absolute_error(y_val, preds)\n",
    "print('MAE:', score)"
   ]
  },
  {
   "cell_type": "code",
   "execution_count": 85,
   "metadata": {
    "id": "TGj5xM6p5v6G",
    "outputId": "9c2da403-7cc4-48b3-c590-47da58ac910c"
   },
   "outputs": [
    {
     "data": {
      "text/plain": [
       "88.37675603063157"
      ]
     },
     "execution_count": 85,
     "metadata": {},
     "output_type": "execute_result"
    }
   ],
   "source": [
    "pipe_ranfor.score(X_val,y_val)*100"
   ]
  },
  {
   "cell_type": "code",
   "execution_count": 86,
   "metadata": {
    "id": "6wjypHtC5-yZ"
   },
   "outputs": [],
   "source": [
    "### XGBoost\n",
    "pipe_xgb = make_pipeline(column_transformer,xgb_reg)\n",
    "                          "
   ]
  },
  {
   "cell_type": "code",
   "execution_count": 87,
   "metadata": {
    "id": "w-fyhwe_7Ajv",
    "outputId": "ef660496-4c0d-4aa9-85c5-f725b2a1ebed"
   },
   "outputs": [
    {
     "data": {
      "text/plain": [
       "90.60727414551972"
      ]
     },
     "execution_count": 87,
     "metadata": {},
     "output_type": "execute_result"
    }
   ],
   "source": [
    "pipe_xgb.fit(X_train, y_train)\n",
    "pipe_xgb.score(X_val,y_val)*100"
   ]
  },
  {
   "cell_type": "code",
   "execution_count": 88,
   "metadata": {
    "id": "xI7_9Q4P7NcA",
    "outputId": "e5282967-c9fc-4ca8-ec4e-bcab037172f5"
   },
   "outputs": [
    {
     "data": {
      "text/plain": [
       "1.3888798562730287"
      ]
     },
     "execution_count": 88,
     "metadata": {},
     "output_type": "execute_result"
    }
   ],
   "source": [
    "scores = cross_val_score(pipe_xgb, X, y,\n",
    "                             scoring=\"neg_mean_absolute_error\", cv=6)\n",
    "abs(scores).mean()"
   ]
  },
  {
   "cell_type": "code",
   "execution_count": 89,
   "metadata": {},
   "outputs": [
    {
     "data": {
      "text/plain": [
       "0.8900586281083381"
      ]
     },
     "execution_count": 89,
     "metadata": {},
     "output_type": "execute_result"
    }
   ],
   "source": [
    "y_pred = pipe_xgb.predict(X_val)\n",
    "score = r2_score(y_pred,y_val)\n",
    "score"
   ]
  },
  {
   "cell_type": "markdown",
   "metadata": {
    "id": "sJ1AN358AioB"
   },
   "source": [
    "## Hyperparameter tuning."
   ]
  },
  {
   "cell_type": "markdown",
   "metadata": {
    "id": "sGysB3e6WlQ6"
   },
   "source": [
    "#### and testing tuned models"
   ]
  },
  {
   "cell_type": "code",
   "execution_count": 90,
   "metadata": {
    "id": "eY07LpkuWocP"
   },
   "outputs": [],
   "source": [
    "# Use transformed X_train and X_val for gridsearch >\n",
    "X_train_trans = column_transformer.fit_transform(X_train)\n",
    "X_val_trans = column_transformer.transform(X_val)"
   ]
  },
  {
   "cell_type": "code",
   "execution_count": 91,
   "metadata": {
    "id": "arthvnOPAmmJ"
   },
   "outputs": [],
   "source": [
    "pipe_model = Pipeline(steps=[('regressor',RandomForestRegressor())])\n",
    "grid_params = [\n",
    "               \n",
    "                 {\n",
    "                        \n",
    "                    'regressor':[RandomForestRegressor(n_jobs=-1)],\n",
    "                    'regressor__n_estimators': [int(x) for x in np.linspace(start = 200,stop = 2000,num = 10)],  \n",
    "                    'regressor__criterion': ['mse','mae'],\n",
    "                    'regressor__max_depth': [10,20,30,40,50,75,80,100,110,200,None],\n",
    "                    'regressor__min_samples_split':[1e-2,2e-2,3,4,5,10],\n",
    "                    'regressor__max_leaf_nodes':[10,20,30,40,50,75,80,100,110,200,None],\n",
    "                    'regressor__bootstrap': [True,False]\n",
    "                      \n",
    "                 },\n",
    "               \n",
    "                  {\n",
    "                          \n",
    "                    'regressor':[XGBRegressor(n_jobs=-1)],\n",
    "                    'regressor__n_estimators':[i for i in range(100,2100,100)],\n",
    "                    'regressor__learning_rate': [1e-2,1e-3,2e-3,5e-1,5e-2],\n",
    "                    'regressor__booster': ['gblinear','gbtree'],  \n",
    "                    'regressor__base_score': [0.5,0.6,0.7,0.8],\n",
    "                    'regressor__min_child_weight': [i for i in range(0,50,5)]\n",
    "                   \n",
    "                      \n",
    "                      \n",
    "                  }\n",
    "\n",
    "\n",
    "              ]"
   ]
  },
  {
   "cell_type": "code",
   "execution_count": 92,
   "metadata": {
    "id": "A_HDXyS8H8gc"
   },
   "outputs": [],
   "source": [
    "\n",
    "random_search = RandomizedSearchCV(pipe_model,grid_params,cv=3,verbose=0,n_jobs=-1)\n",
    "# bestmodel = random_search.fit(X_train_trans,y_train)\n",
    "# bestmodel.score(X_val_trans,y_val)"
   ]
  },
  {
   "cell_type": "code",
   "execution_count": 93,
   "metadata": {
    "id": "mD1mRQM5H-B1"
   },
   "outputs": [],
   "source": [
    "# best_clf = bestmodel.best_estimator_\n",
    "# best_clf"
   ]
  },
  {
   "cell_type": "code",
   "execution_count": 94,
   "metadata": {},
   "outputs": [],
   "source": [
    "# Above gridsearch step and assesment can also implemented as below.\n",
    "# grid_pipe = make_pipeline(column_transformer,gridsearch)\n",
    "# grid_pipe.fit(X_train,y_train)\n",
    "# grid_pipe.score(X_val,y_val)"
   ]
  },
  {
   "cell_type": "code",
   "execution_count": 95,
   "metadata": {
    "id": "Q0MwDXRqV1bZ"
   },
   "outputs": [],
   "source": [
    "# Manually saving an image of best_model\n",
    "# tuned_model = "
   ]
  },
  {
   "cell_type": "code",
   "execution_count": 98,
   "metadata": {},
   "outputs": [
    {
     "data": {
      "text/plain": [
       "{'memory': None,\n",
       " 'steps': [('columntransformer',\n",
       "   ColumnTransformer(remainder='passthrough',\n",
       "                     transformers=[('numerical',\n",
       "                                    Pipeline(steps=[('std.scale',\n",
       "                                                     StandardScaler())]),\n",
       "                                    ['Kilometers_Driven', 'Mileage', 'Engine',\n",
       "                                     'Power']),\n",
       "                                   ('categorical',\n",
       "                                    Pipeline(steps=[('onehot',\n",
       "                                                     OneHotEncoder(handle_unknown='ignore'))]),\n",
       "                                    ['Name', 'Location', 'Fuel_Type',\n",
       "                                     'Transmission', 'Owner_Type'])])),\n",
       "  ('xgbregressor',\n",
       "   XGBRegressor(base_score=0.5, booster='gbtree', colsample_bylevel=1,\n",
       "                colsample_bynode=1, colsample_bytree=1, gamma=0, gpu_id=-1,\n",
       "                importance_type='gain', interaction_constraints='',\n",
       "                learning_rate=0.05, max_delta_step=0, max_depth=6,\n",
       "                min_child_weight=1, missing=nan, monotone_constraints='()',\n",
       "                n_estimators=2000, n_jobs=-1, num_parallel_tree=1, random_state=0,\n",
       "                reg_alpha=0, reg_lambda=1, scale_pos_weight=1, subsample=1,\n",
       "                tree_method='exact', validate_parameters=1, verbosity=None))],\n",
       " 'verbose': False,\n",
       " 'columntransformer': ColumnTransformer(remainder='passthrough',\n",
       "                   transformers=[('numerical',\n",
       "                                  Pipeline(steps=[('std.scale',\n",
       "                                                   StandardScaler())]),\n",
       "                                  ['Kilometers_Driven', 'Mileage', 'Engine',\n",
       "                                   'Power']),\n",
       "                                 ('categorical',\n",
       "                                  Pipeline(steps=[('onehot',\n",
       "                                                   OneHotEncoder(handle_unknown='ignore'))]),\n",
       "                                  ['Name', 'Location', 'Fuel_Type',\n",
       "                                   'Transmission', 'Owner_Type'])]),\n",
       " 'xgbregressor': XGBRegressor(base_score=0.5, booster='gbtree', colsample_bylevel=1,\n",
       "              colsample_bynode=1, colsample_bytree=1, gamma=0, gpu_id=-1,\n",
       "              importance_type='gain', interaction_constraints='',\n",
       "              learning_rate=0.05, max_delta_step=0, max_depth=6,\n",
       "              min_child_weight=1, missing=nan, monotone_constraints='()',\n",
       "              n_estimators=2000, n_jobs=-1, num_parallel_tree=1, random_state=0,\n",
       "              reg_alpha=0, reg_lambda=1, scale_pos_weight=1, subsample=1,\n",
       "              tree_method='exact', validate_parameters=1, verbosity=None),\n",
       " 'columntransformer__n_jobs': None,\n",
       " 'columntransformer__remainder': 'passthrough',\n",
       " 'columntransformer__sparse_threshold': 0.3,\n",
       " 'columntransformer__transformer_weights': None,\n",
       " 'columntransformer__transformers': [('numerical',\n",
       "   Pipeline(steps=[('std.scale', StandardScaler())]),\n",
       "   ['Kilometers_Driven', 'Mileage', 'Engine', 'Power']),\n",
       "  ('categorical',\n",
       "   Pipeline(steps=[('onehot', OneHotEncoder(handle_unknown='ignore'))]),\n",
       "   ['Name', 'Location', 'Fuel_Type', 'Transmission', 'Owner_Type'])],\n",
       " 'columntransformer__verbose': False,\n",
       " 'columntransformer__numerical': Pipeline(steps=[('std.scale', StandardScaler())]),\n",
       " 'columntransformer__categorical': Pipeline(steps=[('onehot', OneHotEncoder(handle_unknown='ignore'))]),\n",
       " 'columntransformer__numerical__memory': None,\n",
       " 'columntransformer__numerical__steps': [('std.scale', StandardScaler())],\n",
       " 'columntransformer__numerical__verbose': False,\n",
       " 'columntransformer__numerical__std.scale': StandardScaler(),\n",
       " 'columntransformer__numerical__std.scale__copy': True,\n",
       " 'columntransformer__numerical__std.scale__with_mean': True,\n",
       " 'columntransformer__numerical__std.scale__with_std': True,\n",
       " 'columntransformer__categorical__memory': None,\n",
       " 'columntransformer__categorical__steps': [('onehot',\n",
       "   OneHotEncoder(handle_unknown='ignore'))],\n",
       " 'columntransformer__categorical__verbose': False,\n",
       " 'columntransformer__categorical__onehot': OneHotEncoder(handle_unknown='ignore'),\n",
       " 'columntransformer__categorical__onehot__categories': 'auto',\n",
       " 'columntransformer__categorical__onehot__drop': None,\n",
       " 'columntransformer__categorical__onehot__dtype': numpy.float64,\n",
       " 'columntransformer__categorical__onehot__handle_unknown': 'ignore',\n",
       " 'columntransformer__categorical__onehot__sparse': True,\n",
       " 'xgbregressor__objective': 'reg:squarederror',\n",
       " 'xgbregressor__base_score': 0.5,\n",
       " 'xgbregressor__booster': 'gbtree',\n",
       " 'xgbregressor__colsample_bylevel': 1,\n",
       " 'xgbregressor__colsample_bynode': 1,\n",
       " 'xgbregressor__colsample_bytree': 1,\n",
       " 'xgbregressor__gamma': 0,\n",
       " 'xgbregressor__gpu_id': -1,\n",
       " 'xgbregressor__importance_type': 'gain',\n",
       " 'xgbregressor__interaction_constraints': '',\n",
       " 'xgbregressor__learning_rate': 0.05,\n",
       " 'xgbregressor__max_delta_step': 0,\n",
       " 'xgbregressor__max_depth': 6,\n",
       " 'xgbregressor__min_child_weight': 1,\n",
       " 'xgbregressor__missing': nan,\n",
       " 'xgbregressor__monotone_constraints': '()',\n",
       " 'xgbregressor__n_estimators': 2000,\n",
       " 'xgbregressor__n_jobs': -1,\n",
       " 'xgbregressor__num_parallel_tree': 1,\n",
       " 'xgbregressor__random_state': 0,\n",
       " 'xgbregressor__reg_alpha': 0,\n",
       " 'xgbregressor__reg_lambda': 1,\n",
       " 'xgbregressor__scale_pos_weight': 1,\n",
       " 'xgbregressor__subsample': 1,\n",
       " 'xgbregressor__tree_method': 'exact',\n",
       " 'xgbregressor__validate_parameters': 1,\n",
       " 'xgbregressor__verbosity': None}"
      ]
     },
     "execution_count": 98,
     "metadata": {},
     "output_type": "execute_result"
    }
   ],
   "source": [
    "pipe_xgb.get_params()"
   ]
  },
  {
   "cell_type": "code",
   "execution_count": 100,
   "metadata": {},
   "outputs": [],
   "source": [
    "with open ('xgbmodel.pickle','wb') as f:\n",
    "    pck.dump(pipe_xgb,f)\n"
   ]
  },
  {
   "cell_type": "code",
   "execution_count": 101,
   "metadata": {},
   "outputs": [
    {
     "data": {
      "text/plain": [
       "Pipeline(steps=[('columntransformer',\n",
       "                 ColumnTransformer(remainder='passthrough',\n",
       "                                   transformers=[('numerical',\n",
       "                                                  Pipeline(steps=[('std.scale',\n",
       "                                                                   StandardScaler())]),\n",
       "                                                  ['Kilometers_Driven',\n",
       "                                                   'Mileage', 'Engine',\n",
       "                                                   'Power']),\n",
       "                                                 ('categorical',\n",
       "                                                  Pipeline(steps=[('onehot',\n",
       "                                                                   OneHotEncoder(handle_unknown='ignore'))]),\n",
       "                                                  ['Name', 'Location',\n",
       "                                                   'Fuel_Type', 'Transmission',\n",
       "                                                   'Owner_Type'])])...\n",
       "                              colsample_bytree=1, gamma=0, gpu_id=-1,\n",
       "                              importance_type='gain',\n",
       "                              interaction_constraints='', learning_rate=0.05,\n",
       "                              max_delta_step=0, max_depth=6, min_child_weight=1,\n",
       "                              missing=nan, monotone_constraints='()',\n",
       "                              n_estimators=2000, n_jobs=-1, num_parallel_tree=1,\n",
       "                              random_state=0, reg_alpha=0, reg_lambda=1,\n",
       "                              scale_pos_weight=1, subsample=1,\n",
       "                              tree_method='exact', validate_parameters=1,\n",
       "                              verbosity=None))])"
      ]
     },
     "execution_count": 101,
     "metadata": {},
     "output_type": "execute_result"
    }
   ],
   "source": [
    "xgbmodel = pck.load(open(\"xgbmodel.pickle\",'rb'))\n",
    "xgbmodel"
   ]
  },
  {
   "cell_type": "code",
   "execution_count": null,
   "metadata": {},
   "outputs": [],
   "source": []
  }
 ],
 "metadata": {
  "kernelspec": {
   "display_name": "Python 3",
   "language": "python",
   "name": "python3"
  },
  "language_info": {
   "codemirror_mode": {
    "name": "ipython",
    "version": 3
   },
   "file_extension": ".py",
   "mimetype": "text/x-python",
   "name": "python",
   "nbconvert_exporter": "python",
   "pygments_lexer": "ipython3",
   "version": "3.8.4"
  }
 },
 "nbformat": 4,
 "nbformat_minor": 4
}
