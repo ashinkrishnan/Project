{
  "nbformat": 4,
  "nbformat_minor": 0,
  "metadata": {
    "kernelspec": {
      "display_name": "Python 3",
      "language": "python",
      "name": "python3"
    },
    "language_info": {
      "codemirror_mode": {
        "name": "ipython",
        "version": 3
      },
      "file_extension": ".py",
      "mimetype": "text/x-python",
      "name": "python",
      "nbconvert_exporter": "python",
      "pygments_lexer": "ipython3",
      "version": "3.8.4"
    },
    "colab": {
      "name": "car.ipynb",
      "provenance": []
    }
  },
  "cells": [
    {
      "cell_type": "markdown",
      "metadata": {
        "id": "LH31tzOFG0Qy"
      },
      "source": [
        "## Exploratory Data Analysis and Feature Engineering"
      ]
    },
    {
      "cell_type": "code",
      "metadata": {
        "id": "N5FGmuQwG0Q1"
      },
      "source": [
        "import pandas as pd \n",
        "import matplotlib.pyplot as plt\n",
        "import numpy as np\n",
        "import seaborn as sns\n",
        "import warnings\n",
        "from scipy import stats \n",
        "from scipy.stats import norm\n",
        "import re\n",
        "warnings.filterwarnings(\"ignore\")"
      ],
      "execution_count": 8,
      "outputs": []
    },
    {
      "cell_type": "code",
      "metadata": {
        "id": "2U2t1BcpG0RJ"
      },
      "source": [
        "df_train = pd.read_csv(\"train_data.csv\")\n",
        "df_test = pd.read_csv(\"test_data.csv\")"
      ],
      "execution_count": 9,
      "outputs": []
    },
    {
      "cell_type": "code",
      "metadata": {
        "id": "Upy1kokNG0RT",
        "outputId": "b5c40e6d-9dfb-4bdb-cd45-eac11c41470d",
        "colab": {
          "base_uri": "https://localhost:8080/",
          "height": 476
        }
      },
      "source": [
        "df_train.head(6)"
      ],
      "execution_count": 10,
      "outputs": [
        {
          "output_type": "execute_result",
          "data": {
            "text/html": [
              "<div>\n",
              "<style scoped>\n",
              "    .dataframe tbody tr th:only-of-type {\n",
              "        vertical-align: middle;\n",
              "    }\n",
              "\n",
              "    .dataframe tbody tr th {\n",
              "        vertical-align: top;\n",
              "    }\n",
              "\n",
              "    .dataframe thead th {\n",
              "        text-align: right;\n",
              "    }\n",
              "</style>\n",
              "<table border=\"1\" class=\"dataframe\">\n",
              "  <thead>\n",
              "    <tr style=\"text-align: right;\">\n",
              "      <th></th>\n",
              "      <th>Unnamed: 0</th>\n",
              "      <th>Name</th>\n",
              "      <th>Location</th>\n",
              "      <th>Year</th>\n",
              "      <th>Kilometers_Driven</th>\n",
              "      <th>Fuel_Type</th>\n",
              "      <th>Transmission</th>\n",
              "      <th>Owner_Type</th>\n",
              "      <th>Mileage</th>\n",
              "      <th>Engine</th>\n",
              "      <th>Power</th>\n",
              "      <th>Seats</th>\n",
              "      <th>New_Price</th>\n",
              "      <th>Price</th>\n",
              "    </tr>\n",
              "  </thead>\n",
              "  <tbody>\n",
              "    <tr>\n",
              "      <th>0</th>\n",
              "      <td>0</td>\n",
              "      <td>Maruti Wagon R LXI CNG</td>\n",
              "      <td>Mumbai</td>\n",
              "      <td>2010</td>\n",
              "      <td>72000</td>\n",
              "      <td>CNG</td>\n",
              "      <td>Manual</td>\n",
              "      <td>First</td>\n",
              "      <td>26.6 km/kg</td>\n",
              "      <td>998 CC</td>\n",
              "      <td>58.16 bhp</td>\n",
              "      <td>5.0</td>\n",
              "      <td>NaN</td>\n",
              "      <td>1.75</td>\n",
              "    </tr>\n",
              "    <tr>\n",
              "      <th>1</th>\n",
              "      <td>1</td>\n",
              "      <td>Hyundai Creta 1.6 CRDi SX Option</td>\n",
              "      <td>Pune</td>\n",
              "      <td>2015</td>\n",
              "      <td>41000</td>\n",
              "      <td>Diesel</td>\n",
              "      <td>Manual</td>\n",
              "      <td>First</td>\n",
              "      <td>19.67 kmpl</td>\n",
              "      <td>1582 CC</td>\n",
              "      <td>126.2 bhp</td>\n",
              "      <td>5.0</td>\n",
              "      <td>NaN</td>\n",
              "      <td>12.50</td>\n",
              "    </tr>\n",
              "    <tr>\n",
              "      <th>2</th>\n",
              "      <td>2</td>\n",
              "      <td>Honda Jazz V</td>\n",
              "      <td>Chennai</td>\n",
              "      <td>2011</td>\n",
              "      <td>46000</td>\n",
              "      <td>Petrol</td>\n",
              "      <td>Manual</td>\n",
              "      <td>First</td>\n",
              "      <td>18.2 kmpl</td>\n",
              "      <td>1199 CC</td>\n",
              "      <td>88.7 bhp</td>\n",
              "      <td>5.0</td>\n",
              "      <td>8.61 Lakh</td>\n",
              "      <td>4.50</td>\n",
              "    </tr>\n",
              "    <tr>\n",
              "      <th>3</th>\n",
              "      <td>3</td>\n",
              "      <td>Maruti Ertiga VDI</td>\n",
              "      <td>Chennai</td>\n",
              "      <td>2012</td>\n",
              "      <td>87000</td>\n",
              "      <td>Diesel</td>\n",
              "      <td>Manual</td>\n",
              "      <td>First</td>\n",
              "      <td>20.77 kmpl</td>\n",
              "      <td>1248 CC</td>\n",
              "      <td>88.76 bhp</td>\n",
              "      <td>7.0</td>\n",
              "      <td>NaN</td>\n",
              "      <td>6.00</td>\n",
              "    </tr>\n",
              "    <tr>\n",
              "      <th>4</th>\n",
              "      <td>4</td>\n",
              "      <td>Audi A4 New 2.0 TDI Multitronic</td>\n",
              "      <td>Coimbatore</td>\n",
              "      <td>2013</td>\n",
              "      <td>40670</td>\n",
              "      <td>Diesel</td>\n",
              "      <td>Automatic</td>\n",
              "      <td>Second</td>\n",
              "      <td>15.2 kmpl</td>\n",
              "      <td>1968 CC</td>\n",
              "      <td>140.8 bhp</td>\n",
              "      <td>5.0</td>\n",
              "      <td>NaN</td>\n",
              "      <td>17.74</td>\n",
              "    </tr>\n",
              "    <tr>\n",
              "      <th>5</th>\n",
              "      <td>5</td>\n",
              "      <td>Hyundai EON LPG Era Plus Option</td>\n",
              "      <td>Hyderabad</td>\n",
              "      <td>2012</td>\n",
              "      <td>75000</td>\n",
              "      <td>LPG</td>\n",
              "      <td>Manual</td>\n",
              "      <td>First</td>\n",
              "      <td>21.1 km/kg</td>\n",
              "      <td>814 CC</td>\n",
              "      <td>55.2 bhp</td>\n",
              "      <td>5.0</td>\n",
              "      <td>NaN</td>\n",
              "      <td>2.35</td>\n",
              "    </tr>\n",
              "  </tbody>\n",
              "</table>\n",
              "</div>"
            ],
            "text/plain": [
              "   Unnamed: 0                              Name  ...  New_Price  Price\n",
              "0           0            Maruti Wagon R LXI CNG  ...        NaN   1.75\n",
              "1           1  Hyundai Creta 1.6 CRDi SX Option  ...        NaN  12.50\n",
              "2           2                      Honda Jazz V  ...  8.61 Lakh   4.50\n",
              "3           3                 Maruti Ertiga VDI  ...        NaN   6.00\n",
              "4           4   Audi A4 New 2.0 TDI Multitronic  ...        NaN  17.74\n",
              "5           5   Hyundai EON LPG Era Plus Option  ...        NaN   2.35\n",
              "\n",
              "[6 rows x 14 columns]"
            ]
          },
          "metadata": {
            "tags": []
          },
          "execution_count": 10
        }
      ]
    },
    {
      "cell_type": "code",
      "metadata": {
        "id": "vNFM04WhG0Rf",
        "outputId": "da7cabfe-87a7-438c-b9b6-e32fa449c225",
        "colab": {
          "base_uri": "https://localhost:8080/",
          "height": 484
        }
      },
      "source": [
        "df_test.head(4)"
      ],
      "execution_count": 11,
      "outputs": [
        {
          "output_type": "execute_result",
          "data": {
            "text/html": [
              "<div>\n",
              "<style scoped>\n",
              "    .dataframe tbody tr th:only-of-type {\n",
              "        vertical-align: middle;\n",
              "    }\n",
              "\n",
              "    .dataframe tbody tr th {\n",
              "        vertical-align: top;\n",
              "    }\n",
              "\n",
              "    .dataframe thead th {\n",
              "        text-align: right;\n",
              "    }\n",
              "</style>\n",
              "<table border=\"1\" class=\"dataframe\">\n",
              "  <thead>\n",
              "    <tr style=\"text-align: right;\">\n",
              "      <th></th>\n",
              "      <th>Unnamed: 0</th>\n",
              "      <th>Name</th>\n",
              "      <th>Location</th>\n",
              "      <th>Year</th>\n",
              "      <th>Kilometers_Driven</th>\n",
              "      <th>Fuel_Type</th>\n",
              "      <th>Transmission</th>\n",
              "      <th>Owner_Type</th>\n",
              "      <th>Mileage</th>\n",
              "      <th>Engine</th>\n",
              "      <th>Power</th>\n",
              "      <th>Seats</th>\n",
              "      <th>New_Price</th>\n",
              "    </tr>\n",
              "  </thead>\n",
              "  <tbody>\n",
              "    <tr>\n",
              "      <th>0</th>\n",
              "      <td>0</td>\n",
              "      <td>Maruti Alto K10 LXI CNG</td>\n",
              "      <td>Delhi</td>\n",
              "      <td>2014</td>\n",
              "      <td>40929</td>\n",
              "      <td>CNG</td>\n",
              "      <td>Manual</td>\n",
              "      <td>First</td>\n",
              "      <td>32.26 km/kg</td>\n",
              "      <td>998 CC</td>\n",
              "      <td>58.2 bhp</td>\n",
              "      <td>4.0</td>\n",
              "      <td>NaN</td>\n",
              "    </tr>\n",
              "    <tr>\n",
              "      <th>1</th>\n",
              "      <td>1</td>\n",
              "      <td>Maruti Alto 800 2016-2019 LXI</td>\n",
              "      <td>Coimbatore</td>\n",
              "      <td>2013</td>\n",
              "      <td>54493</td>\n",
              "      <td>Petrol</td>\n",
              "      <td>Manual</td>\n",
              "      <td>Second</td>\n",
              "      <td>24.7 kmpl</td>\n",
              "      <td>796 CC</td>\n",
              "      <td>47.3 bhp</td>\n",
              "      <td>5.0</td>\n",
              "      <td>NaN</td>\n",
              "    </tr>\n",
              "    <tr>\n",
              "      <th>2</th>\n",
              "      <td>2</td>\n",
              "      <td>Toyota Innova Crysta Touring Sport 2.4 MT</td>\n",
              "      <td>Mumbai</td>\n",
              "      <td>2017</td>\n",
              "      <td>34000</td>\n",
              "      <td>Diesel</td>\n",
              "      <td>Manual</td>\n",
              "      <td>First</td>\n",
              "      <td>13.68 kmpl</td>\n",
              "      <td>2393 CC</td>\n",
              "      <td>147.8 bhp</td>\n",
              "      <td>7.0</td>\n",
              "      <td>25.27 Lakh</td>\n",
              "    </tr>\n",
              "    <tr>\n",
              "      <th>3</th>\n",
              "      <td>3</td>\n",
              "      <td>Toyota Etios Liva GD</td>\n",
              "      <td>Hyderabad</td>\n",
              "      <td>2012</td>\n",
              "      <td>139000</td>\n",
              "      <td>Diesel</td>\n",
              "      <td>Manual</td>\n",
              "      <td>First</td>\n",
              "      <td>23.59 kmpl</td>\n",
              "      <td>1364 CC</td>\n",
              "      <td>null bhp</td>\n",
              "      <td>5.0</td>\n",
              "      <td>NaN</td>\n",
              "    </tr>\n",
              "  </tbody>\n",
              "</table>\n",
              "</div>"
            ],
            "text/plain": [
              "   Unnamed: 0                                       Name  ... Seats   New_Price\n",
              "0           0                    Maruti Alto K10 LXI CNG  ...   4.0         NaN\n",
              "1           1              Maruti Alto 800 2016-2019 LXI  ...   5.0         NaN\n",
              "2           2  Toyota Innova Crysta Touring Sport 2.4 MT  ...   7.0  25.27 Lakh\n",
              "3           3                       Toyota Etios Liva GD  ...   5.0         NaN\n",
              "\n",
              "[4 rows x 13 columns]"
            ]
          },
          "metadata": {
            "tags": []
          },
          "execution_count": 11
        }
      ]
    },
    {
      "cell_type": "code",
      "metadata": {
        "id": "0LbxdovTG0Rr",
        "outputId": "e0596c8c-9d44-4a76-e4f5-7b2f3fc4f325",
        "colab": {
          "base_uri": "https://localhost:8080/"
        }
      },
      "source": [
        "df_train.isnull().sum()"
      ],
      "execution_count": 12,
      "outputs": [
        {
          "output_type": "execute_result",
          "data": {
            "text/plain": [
              "Unnamed: 0              0\n",
              "Name                    0\n",
              "Location                0\n",
              "Year                    0\n",
              "Kilometers_Driven       0\n",
              "Fuel_Type               0\n",
              "Transmission            0\n",
              "Owner_Type              0\n",
              "Mileage                 2\n",
              "Engine                 36\n",
              "Power                  36\n",
              "Seats                  42\n",
              "New_Price            5195\n",
              "Price                   0\n",
              "dtype: int64"
            ]
          },
          "metadata": {
            "tags": []
          },
          "execution_count": 12
        }
      ]
    },
    {
      "cell_type": "code",
      "metadata": {
        "id": "dy4lje8kG0Rz",
        "outputId": "d67555b2-1ed1-419e-84f4-7da2e9e6c86b",
        "colab": {
          "base_uri": "https://localhost:8080/"
        }
      },
      "source": [
        "df_test.isnull().sum()"
      ],
      "execution_count": 13,
      "outputs": [
        {
          "output_type": "execute_result",
          "data": {
            "text/plain": [
              "Unnamed: 0              0\n",
              "Name                    0\n",
              "Location                0\n",
              "Year                    0\n",
              "Kilometers_Driven       0\n",
              "Fuel_Type               0\n",
              "Transmission            0\n",
              "Owner_Type              0\n",
              "Mileage                 0\n",
              "Engine                 10\n",
              "Power                  10\n",
              "Seats                  11\n",
              "New_Price            1052\n",
              "dtype: int64"
            ]
          },
          "metadata": {
            "tags": []
          },
          "execution_count": 13
        }
      ]
    },
    {
      "cell_type": "markdown",
      "metadata": {
        "id": "HlLQRlZ-G0R7"
      },
      "source": [
        "##### Analysing sale price "
      ]
    },
    {
      "cell_type": "code",
      "metadata": {
        "id": "WqYckhlsG0R9",
        "outputId": "2d9c93ea-49cb-4575-9f31-04f99f3e73fb",
        "colab": {
          "base_uri": "https://localhost:8080/",
          "height": 242
        }
      },
      "source": [
        "# Histogram\n",
        "plt.figure(figsize=(5,3))\n",
        "sns.distplot(df_train.Price)\n",
        "# deviation from normal distribution and chances of outliers"
      ],
      "execution_count": 14,
      "outputs": [
        {
          "output_type": "execute_result",
          "data": {
            "text/plain": [
              "<matplotlib.axes._subplots.AxesSubplot at 0x7ffaa4c3bc88>"
            ]
          },
          "metadata": {
            "tags": []
          },
          "execution_count": 14
        },
        {
          "output_type": "display_data",
          "data": {
            "image/png": "[encoded data removed]",
            "text/plain": [
              "<Figure size 360x216 with 1 Axes>"
            ]
          },
          "metadata": {
            "tags": [],
            "needs_background": "light"
          }
        }
      ]
    },
    {
      "cell_type": "code",
      "metadata": {
        "id": "nNJ-3jJqG0SH",
        "outputId": "ecd4ffad-5fcb-403c-f790-2887a0b67e81",
        "colab": {
          "base_uri": "https://localhost:8080/",
          "height": 351
        }
      },
      "source": [
        "plt.figure(figsize=(8,5))\n",
        "sns.boxplot(df_train.Price )"
      ],
      "execution_count": 15,
      "outputs": [
        {
          "output_type": "execute_result",
          "data": {
            "text/plain": [
              "<matplotlib.axes._subplots.AxesSubplot at 0x7ffaa3891ef0>"
            ]
          },
          "metadata": {
            "tags": []
          },
          "execution_count": 15
        },
        {
          "output_type": "display_data",
          "data": {
            "image/png": "[encoded data removed]",
            "text/plain": [
              "<Figure size 576x360 with 1 Axes>"
            ]
          },
          "metadata": {
            "tags": [],
            "needs_background": "light"
          }
        }
      ]
    },
    {
      "cell_type": "code",
      "metadata": {
        "id": "93yaT3BhG0SO",
        "outputId": "ef3b7914-ef9f-4924-9a45-19e3365cda26",
        "colab": {
          "base_uri": "https://localhost:8080/"
        }
      },
      "source": [
        "#skewness and kurtosis\n",
        "print(\"Skewness: %f\" % df_train['Price'].skew())\n",
        "print(\"Kurtosis: %f\" % df_train['Price'].kurt())\n",
        "# We are expecting a heavily tailed data with lot of outliers."
      ],
      "execution_count": 16,
      "outputs": [
        {
          "output_type": "stream",
          "text": [
            "Skewness: 3.335232\n",
            "Kurtosis: 17.092202\n"
          ],
          "name": "stdout"
        }
      ]
    },
    {
      "cell_type": "code",
      "metadata": {
        "id": "Ot_nRYKHG0SU",
        "outputId": "b327e544-67ad-408b-c5c0-3a85d4de03d1",
        "colab": {
          "base_uri": "https://localhost:8080/",
          "height": 919
        }
      },
      "source": [
        "sns.pairplot(df_train)"
      ],
      "execution_count": 17,
      "outputs": [
        {
          "output_type": "execute_result",
          "data": {
            "text/plain": [
              "<seaborn.axisgrid.PairGrid at 0x7ffaa3891390>"
            ]
          },
          "metadata": {
            "tags": []
          },
          "execution_count": 17
        },
        {
          "output_type": "display_data",
          "data": {
            "image/png": "[encoded data removed]",
            "text/plain": [
              "<Figure size 900x900 with 30 Axes>"
            ]
          },
          "metadata": {
            "tags": [],
            "needs_background": "light"
          }
        }
      ]
    },
    {
      "cell_type": "markdown",
      "metadata": {
        "id": "GC7gCH8iG0Sc"
      },
      "source": [
        "##### What we have to do is a lot of groupby and specifically column wise related , \n",
        "### Feature Engineering"
      ]
    },
    {
      "cell_type": "markdown",
      "metadata": {
        "id": "unzbGJtfG0Sd"
      },
      "source": [
        "###### Lets treat numeric and Categorical columns seperately also some columns contain numeric values mixed up with object we need to carefully extract those features too."
      ]
    },
    {
      "cell_type": "code",
      "metadata": {
        "id": "hW3PO2OrG0Se"
      },
      "source": [
        "# dropping unnamed column from both dataset\n",
        "df_train = df_train.drop(['Unnamed: 0','New_Price'],axis=1)\n",
        "df_test = df_test.drop(['Unnamed: 0','New_Price'],axis=1)"
      ],
      "execution_count": 18,
      "outputs": []
    },
    {
      "cell_type": "code",
      "metadata": {
        "id": "Vg-T8DgWG0Sk",
        "outputId": "1bb12b14-92da-4f2a-c6c6-97785549bf81",
        "colab": {
          "base_uri": "https://localhost:8080/",
          "height": 347
        }
      },
      "source": [
        "df_train.sample(4)"
      ],
      "execution_count": 19,
      "outputs": [
        {
          "output_type": "execute_result",
          "data": {
            "text/html": [
              "<div>\n",
              "<style scoped>\n",
              "    .dataframe tbody tr th:only-of-type {\n",
              "        vertical-align: middle;\n",
              "    }\n",
              "\n",
              "    .dataframe tbody tr th {\n",
              "        vertical-align: top;\n",
              "    }\n",
              "\n",
              "    .dataframe thead th {\n",
              "        text-align: right;\n",
              "    }\n",
              "</style>\n",
              "<table border=\"1\" class=\"dataframe\">\n",
              "  <thead>\n",
              "    <tr style=\"text-align: right;\">\n",
              "      <th></th>\n",
              "      <th>Name</th>\n",
              "      <th>Location</th>\n",
              "      <th>Year</th>\n",
              "      <th>Kilometers_Driven</th>\n",
              "      <th>Fuel_Type</th>\n",
              "      <th>Transmission</th>\n",
              "      <th>Owner_Type</th>\n",
              "      <th>Mileage</th>\n",
              "      <th>Engine</th>\n",
              "      <th>Power</th>\n",
              "      <th>Seats</th>\n",
              "      <th>Price</th>\n",
              "    </tr>\n",
              "  </thead>\n",
              "  <tbody>\n",
              "    <tr>\n",
              "      <th>2022</th>\n",
              "      <td>Mahindra Scorpio VLX 2WD AIRBAG BSIV</td>\n",
              "      <td>Kolkata</td>\n",
              "      <td>2013</td>\n",
              "      <td>75000</td>\n",
              "      <td>Diesel</td>\n",
              "      <td>Manual</td>\n",
              "      <td>First</td>\n",
              "      <td>12.05 kmpl</td>\n",
              "      <td>2179 CC</td>\n",
              "      <td>120 bhp</td>\n",
              "      <td>8.0</td>\n",
              "      <td>6.29</td>\n",
              "    </tr>\n",
              "    <tr>\n",
              "      <th>5768</th>\n",
              "      <td>Hyundai Creta 1.6 CRDi SX</td>\n",
              "      <td>Kochi</td>\n",
              "      <td>2017</td>\n",
              "      <td>30519</td>\n",
              "      <td>Diesel</td>\n",
              "      <td>Manual</td>\n",
              "      <td>First</td>\n",
              "      <td>19.67 kmpl</td>\n",
              "      <td>1582 CC</td>\n",
              "      <td>126.2 bhp</td>\n",
              "      <td>5.0</td>\n",
              "      <td>12.81</td>\n",
              "    </tr>\n",
              "    <tr>\n",
              "      <th>5688</th>\n",
              "      <td>Chevrolet Beat Diesel LT</td>\n",
              "      <td>Chennai</td>\n",
              "      <td>2012</td>\n",
              "      <td>75300</td>\n",
              "      <td>Diesel</td>\n",
              "      <td>Manual</td>\n",
              "      <td>Second</td>\n",
              "      <td>25.44 kmpl</td>\n",
              "      <td>936 CC</td>\n",
              "      <td>57.6 bhp</td>\n",
              "      <td>5.0</td>\n",
              "      <td>2.25</td>\n",
              "    </tr>\n",
              "    <tr>\n",
              "      <th>465</th>\n",
              "      <td>Hyundai Grand i10 CRDi Magna</td>\n",
              "      <td>Kolkata</td>\n",
              "      <td>2017</td>\n",
              "      <td>14000</td>\n",
              "      <td>Diesel</td>\n",
              "      <td>Manual</td>\n",
              "      <td>First</td>\n",
              "      <td>24.0 kmpl</td>\n",
              "      <td>1120 CC</td>\n",
              "      <td>70 bhp</td>\n",
              "      <td>5.0</td>\n",
              "      <td>4.60</td>\n",
              "    </tr>\n",
              "  </tbody>\n",
              "</table>\n",
              "</div>"
            ],
            "text/plain": [
              "                                      Name Location  ...  Seats  Price\n",
              "2022  Mahindra Scorpio VLX 2WD AIRBAG BSIV  Kolkata  ...    8.0   6.29\n",
              "5768             Hyundai Creta 1.6 CRDi SX    Kochi  ...    5.0  12.81\n",
              "5688              Chevrolet Beat Diesel LT  Chennai  ...    5.0   2.25\n",
              "465           Hyundai Grand i10 CRDi Magna  Kolkata  ...    5.0   4.60\n",
              "\n",
              "[4 rows x 12 columns]"
            ]
          },
          "metadata": {
            "tags": []
          },
          "execution_count": 19
        }
      ]
    },
    {
      "cell_type": "code",
      "metadata": {
        "id": "ST3JcO4mG0St",
        "outputId": "1d548bd6-01b2-45e9-9b32-b5973f073a2f",
        "colab": {
          "base_uri": "https://localhost:8080/",
          "height": 360
        }
      },
      "source": [
        "df_test.sample(5)"
      ],
      "execution_count": 20,
      "outputs": [
        {
          "output_type": "execute_result",
          "data": {
            "text/html": [
              "<div>\n",
              "<style scoped>\n",
              "    .dataframe tbody tr th:only-of-type {\n",
              "        vertical-align: middle;\n",
              "    }\n",
              "\n",
              "    .dataframe tbody tr th {\n",
              "        vertical-align: top;\n",
              "    }\n",
              "\n",
              "    .dataframe thead th {\n",
              "        text-align: right;\n",
              "    }\n",
              "</style>\n",
              "<table border=\"1\" class=\"dataframe\">\n",
              "  <thead>\n",
              "    <tr style=\"text-align: right;\">\n",
              "      <th></th>\n",
              "      <th>Name</th>\n",
              "      <th>Location</th>\n",
              "      <th>Year</th>\n",
              "      <th>Kilometers_Driven</th>\n",
              "      <th>Fuel_Type</th>\n",
              "      <th>Transmission</th>\n",
              "      <th>Owner_Type</th>\n",
              "      <th>Mileage</th>\n",
              "      <th>Engine</th>\n",
              "      <th>Power</th>\n",
              "      <th>Seats</th>\n",
              "    </tr>\n",
              "  </thead>\n",
              "  <tbody>\n",
              "    <tr>\n",
              "      <th>527</th>\n",
              "      <td>Mahindra Scorpio SLX 2.6 Turbo 8 Str</td>\n",
              "      <td>Hyderabad</td>\n",
              "      <td>2007</td>\n",
              "      <td>51000</td>\n",
              "      <td>Diesel</td>\n",
              "      <td>Manual</td>\n",
              "      <td>First</td>\n",
              "      <td>10.5 kmpl</td>\n",
              "      <td>2179 CC</td>\n",
              "      <td>120 bhp</td>\n",
              "      <td>7.0</td>\n",
              "    </tr>\n",
              "    <tr>\n",
              "      <th>398</th>\n",
              "      <td>Audi Q3 2012-2015 2.0 TDI Quattro Premium Plus</td>\n",
              "      <td>Mumbai</td>\n",
              "      <td>2013</td>\n",
              "      <td>75000</td>\n",
              "      <td>Diesel</td>\n",
              "      <td>Automatic</td>\n",
              "      <td>Second</td>\n",
              "      <td>15.73 kmpl</td>\n",
              "      <td>1968 CC</td>\n",
              "      <td>174.33 bhp</td>\n",
              "      <td>5.0</td>\n",
              "    </tr>\n",
              "    <tr>\n",
              "      <th>154</th>\n",
              "      <td>Maruti Baleno Alpha 1.2</td>\n",
              "      <td>Delhi</td>\n",
              "      <td>2016</td>\n",
              "      <td>20185</td>\n",
              "      <td>Petrol</td>\n",
              "      <td>Manual</td>\n",
              "      <td>First</td>\n",
              "      <td>21.4 kmpl</td>\n",
              "      <td>1197 CC</td>\n",
              "      <td>83.1 bhp</td>\n",
              "      <td>5.0</td>\n",
              "    </tr>\n",
              "    <tr>\n",
              "      <th>853</th>\n",
              "      <td>Tata Indica Vista Aura 1.3 Quadrajet</td>\n",
              "      <td>Kolkata</td>\n",
              "      <td>2009</td>\n",
              "      <td>134000</td>\n",
              "      <td>Diesel</td>\n",
              "      <td>Manual</td>\n",
              "      <td>First</td>\n",
              "      <td>18.0 kmpl</td>\n",
              "      <td>1248 CC</td>\n",
              "      <td>75 bhp</td>\n",
              "      <td>5.0</td>\n",
              "    </tr>\n",
              "    <tr>\n",
              "      <th>594</th>\n",
              "      <td>Nissan Sunny 2011-2014 XL AT Special Edition</td>\n",
              "      <td>Pune</td>\n",
              "      <td>2013</td>\n",
              "      <td>66000</td>\n",
              "      <td>Petrol</td>\n",
              "      <td>Automatic</td>\n",
              "      <td>First</td>\n",
              "      <td>17.97 kmpl</td>\n",
              "      <td>1498 CC</td>\n",
              "      <td>99.6 bhp</td>\n",
              "      <td>5.0</td>\n",
              "    </tr>\n",
              "  </tbody>\n",
              "</table>\n",
              "</div>"
            ],
            "text/plain": [
              "                                               Name  ... Seats\n",
              "527            Mahindra Scorpio SLX 2.6 Turbo 8 Str  ...   7.0\n",
              "398  Audi Q3 2012-2015 2.0 TDI Quattro Premium Plus  ...   5.0\n",
              "154                         Maruti Baleno Alpha 1.2  ...   5.0\n",
              "853            Tata Indica Vista Aura 1.3 Quadrajet  ...   5.0\n",
              "594    Nissan Sunny 2011-2014 XL AT Special Edition  ...   5.0\n",
              "\n",
              "[5 rows x 11 columns]"
            ]
          },
          "metadata": {
            "tags": []
          },
          "execution_count": 20
        }
      ]
    },
    {
      "cell_type": "code",
      "metadata": {
        "id": "7uFRr2JsG0S0",
        "outputId": "c21187f2-cdf0-4244-b561-4f1d430a86b3",
        "colab": {
          "base_uri": "https://localhost:8080/"
        }
      },
      "source": [
        "df_train.info()"
      ],
      "execution_count": 21,
      "outputs": [
        {
          "output_type": "stream",
          "text": [
            "<class 'pandas.core.frame.DataFrame'>\n",
            "RangeIndex: 6019 entries, 0 to 6018\n",
            "Data columns (total 12 columns):\n",
            " #   Column             Non-Null Count  Dtype  \n",
            "---  ------             --------------  -----  \n",
            " 0   Name               6019 non-null   object \n",
            " 1   Location           6019 non-null   object \n",
            " 2   Year               6019 non-null   int64  \n",
            " 3   Kilometers_Driven  6019 non-null   int64  \n",
            " 4   Fuel_Type          6019 non-null   object \n",
            " 5   Transmission       6019 non-null   object \n",
            " 6   Owner_Type         6019 non-null   object \n",
            " 7   Mileage            6017 non-null   object \n",
            " 8   Engine             5983 non-null   object \n",
            " 9   Power              5983 non-null   object \n",
            " 10  Seats              5977 non-null   float64\n",
            " 11  Price              6019 non-null   float64\n",
            "dtypes: float64(2), int64(2), object(8)\n",
            "memory usage: 564.4+ KB\n"
          ],
          "name": "stdout"
        }
      ]
    },
    {
      "cell_type": "markdown",
      "metadata": {
        "id": "LRr2Rmt6G0S6"
      },
      "source": [
        "#### First of all We can change object columns into numeric that are actually supposed to be numeric"
      ]
    },
    {
      "cell_type": "code",
      "metadata": {
        "id": "wJgx9JF-G0S7"
      },
      "source": [
        "numset = ['Mileage','Engine','Power']\n",
        "dftrain_numset = df_train[numset]\n",
        "dftest_numset = df_test[numset]"
      ],
      "execution_count": 22,
      "outputs": []
    },
    {
      "cell_type": "code",
      "metadata": {
        "id": "i0sU905XG0TB",
        "outputId": "6f8076c0-c78e-480d-c7ba-88f90bcda7e7",
        "colab": {
          "base_uri": "https://localhost:8080/"
        }
      },
      "source": [
        "df_train[numset].columns"
      ],
      "execution_count": 23,
      "outputs": [
        {
          "output_type": "execute_result",
          "data": {
            "text/plain": [
              "Index(['Mileage', 'Engine', 'Power'], dtype='object')"
            ]
          },
          "metadata": {
            "tags": []
          },
          "execution_count": 23
        }
      ]
    },
    {
      "cell_type": "code",
      "metadata": {
        "id": "gIOC0SecG0TH"
      },
      "source": [
        "def trans_flt(df):\n",
        "    for c in df.columns:\n",
        "        df[c] = df[c].replace('[^\\d.]','',regex=True)\n",
        "        df[c] = pd.to_numeric(df[c],errors='coerce')\n",
        "    return df"
      ],
      "execution_count": 24,
      "outputs": []
    },
    {
      "cell_type": "code",
      "metadata": {
        "id": "EFvL0j51G0TN"
      },
      "source": [
        "df_test[numset] = trans_flt(df_test[numset])"
      ],
      "execution_count": 25,
      "outputs": []
    },
    {
      "cell_type": "code",
      "metadata": {
        "id": "L5uvxVykG0TT",
        "outputId": "034b08f9-8a8e-4dea-ce65-4492743dcf1b",
        "colab": {
          "base_uri": "https://localhost:8080/",
          "height": 0
        }
      },
      "source": [
        "df_test.sample(6)"
      ],
      "execution_count": 26,
      "outputs": [
        {
          "output_type": "execute_result",
          "data": {
            "text/html": [
              "<div>\n",
              "<style scoped>\n",
              "    .dataframe tbody tr th:only-of-type {\n",
              "        vertical-align: middle;\n",
              "    }\n",
              "\n",
              "    .dataframe tbody tr th {\n",
              "        vertical-align: top;\n",
              "    }\n",
              "\n",
              "    .dataframe thead th {\n",
              "        text-align: right;\n",
              "    }\n",
              "</style>\n",
              "<table border=\"1\" class=\"dataframe\">\n",
              "  <thead>\n",
              "    <tr style=\"text-align: right;\">\n",
              "      <th></th>\n",
              "      <th>Name</th>\n",
              "      <th>Location</th>\n",
              "      <th>Year</th>\n",
              "      <th>Kilometers_Driven</th>\n",
              "      <th>Fuel_Type</th>\n",
              "      <th>Transmission</th>\n",
              "      <th>Owner_Type</th>\n",
              "      <th>Mileage</th>\n",
              "      <th>Engine</th>\n",
              "      <th>Power</th>\n",
              "      <th>Seats</th>\n",
              "    </tr>\n",
              "  </thead>\n",
              "  <tbody>\n",
              "    <tr>\n",
              "      <th>1083</th>\n",
              "      <td>Maruti 800 AC</td>\n",
              "      <td>Kolkata</td>\n",
              "      <td>2009</td>\n",
              "      <td>9999</td>\n",
              "      <td>Petrol</td>\n",
              "      <td>Manual</td>\n",
              "      <td>First</td>\n",
              "      <td>16.10</td>\n",
              "      <td>796.0</td>\n",
              "      <td>37.0</td>\n",
              "      <td>4.0</td>\n",
              "    </tr>\n",
              "    <tr>\n",
              "      <th>525</th>\n",
              "      <td>Hyundai i20 new Sportz AT 1.4</td>\n",
              "      <td>Bangalore</td>\n",
              "      <td>2012</td>\n",
              "      <td>58000</td>\n",
              "      <td>Petrol</td>\n",
              "      <td>Automatic</td>\n",
              "      <td>Second</td>\n",
              "      <td>15.00</td>\n",
              "      <td>NaN</td>\n",
              "      <td>NaN</td>\n",
              "      <td>NaN</td>\n",
              "    </tr>\n",
              "    <tr>\n",
              "      <th>1086</th>\n",
              "      <td>Mahindra Thar CRDe</td>\n",
              "      <td>Delhi</td>\n",
              "      <td>2016</td>\n",
              "      <td>11000</td>\n",
              "      <td>Diesel</td>\n",
              "      <td>Manual</td>\n",
              "      <td>First</td>\n",
              "      <td>16.55</td>\n",
              "      <td>2498.0</td>\n",
              "      <td>105.0</td>\n",
              "      <td>6.0</td>\n",
              "    </tr>\n",
              "    <tr>\n",
              "      <th>359</th>\n",
              "      <td>BMW X1 xDrive 20d xLine</td>\n",
              "      <td>Coimbatore</td>\n",
              "      <td>2017</td>\n",
              "      <td>17273</td>\n",
              "      <td>Diesel</td>\n",
              "      <td>Automatic</td>\n",
              "      <td>First</td>\n",
              "      <td>20.68</td>\n",
              "      <td>1995.0</td>\n",
              "      <td>190.0</td>\n",
              "      <td>5.0</td>\n",
              "    </tr>\n",
              "    <tr>\n",
              "      <th>132</th>\n",
              "      <td>Maruti Ignis 1.2 Alpha</td>\n",
              "      <td>Kolkata</td>\n",
              "      <td>2017</td>\n",
              "      <td>10500</td>\n",
              "      <td>Petrol</td>\n",
              "      <td>Manual</td>\n",
              "      <td>First</td>\n",
              "      <td>20.89</td>\n",
              "      <td>1197.0</td>\n",
              "      <td>81.8</td>\n",
              "      <td>5.0</td>\n",
              "    </tr>\n",
              "    <tr>\n",
              "      <th>1110</th>\n",
              "      <td>Maruti Baleno Zeta 1.2</td>\n",
              "      <td>Kochi</td>\n",
              "      <td>2018</td>\n",
              "      <td>29562</td>\n",
              "      <td>Petrol</td>\n",
              "      <td>Manual</td>\n",
              "      <td>First</td>\n",
              "      <td>21.40</td>\n",
              "      <td>1197.0</td>\n",
              "      <td>83.1</td>\n",
              "      <td>5.0</td>\n",
              "    </tr>\n",
              "  </tbody>\n",
              "</table>\n",
              "</div>"
            ],
            "text/plain": [
              "                               Name    Location  Year  ...  Engine  Power Seats\n",
              "1083                  Maruti 800 AC     Kolkata  2009  ...   796.0   37.0   4.0\n",
              "525   Hyundai i20 new Sportz AT 1.4   Bangalore  2012  ...     NaN    NaN   NaN\n",
              "1086             Mahindra Thar CRDe       Delhi  2016  ...  2498.0  105.0   6.0\n",
              "359         BMW X1 xDrive 20d xLine  Coimbatore  2017  ...  1995.0  190.0   5.0\n",
              "132          Maruti Ignis 1.2 Alpha     Kolkata  2017  ...  1197.0   81.8   5.0\n",
              "1110         Maruti Baleno Zeta 1.2       Kochi  2018  ...  1197.0   83.1   5.0\n",
              "\n",
              "[6 rows x 11 columns]"
            ]
          },
          "metadata": {
            "tags": []
          },
          "execution_count": 26
        }
      ]
    },
    {
      "cell_type": "code",
      "metadata": {
        "id": "9MkEKZzOG0TZ"
      },
      "source": [
        "df_train[numset] = trans_flt(df_train[numset])"
      ],
      "execution_count": 27,
      "outputs": []
    },
    {
      "cell_type": "code",
      "metadata": {
        "id": "qYDm3gq_G0Tg",
        "outputId": "550d4c26-407f-48ee-a72e-00e73c4b1423",
        "colab": {
          "base_uri": "https://localhost:8080/",
          "height": 0
        }
      },
      "source": [
        "df_train.sample(4)"
      ],
      "execution_count": 28,
      "outputs": [
        {
          "output_type": "execute_result",
          "data": {
            "text/html": [
              "<div>\n",
              "<style scoped>\n",
              "    .dataframe tbody tr th:only-of-type {\n",
              "        vertical-align: middle;\n",
              "    }\n",
              "\n",
              "    .dataframe tbody tr th {\n",
              "        vertical-align: top;\n",
              "    }\n",
              "\n",
              "    .dataframe thead th {\n",
              "        text-align: right;\n",
              "    }\n",
              "</style>\n",
              "<table border=\"1\" class=\"dataframe\">\n",
              "  <thead>\n",
              "    <tr style=\"text-align: right;\">\n",
              "      <th></th>\n",
              "      <th>Name</th>\n",
              "      <th>Location</th>\n",
              "      <th>Year</th>\n",
              "      <th>Kilometers_Driven</th>\n",
              "      <th>Fuel_Type</th>\n",
              "      <th>Transmission</th>\n",
              "      <th>Owner_Type</th>\n",
              "      <th>Mileage</th>\n",
              "      <th>Engine</th>\n",
              "      <th>Power</th>\n",
              "      <th>Seats</th>\n",
              "      <th>Price</th>\n",
              "    </tr>\n",
              "  </thead>\n",
              "  <tbody>\n",
              "    <tr>\n",
              "      <th>506</th>\n",
              "      <td>Mercedes-Benz S Class 2005 2013 S 350 CDI</td>\n",
              "      <td>Pune</td>\n",
              "      <td>2010</td>\n",
              "      <td>137000</td>\n",
              "      <td>Diesel</td>\n",
              "      <td>Automatic</td>\n",
              "      <td>First</td>\n",
              "      <td>13.50</td>\n",
              "      <td>2987.0</td>\n",
              "      <td>282.00</td>\n",
              "      <td>5.0</td>\n",
              "      <td>18.50</td>\n",
              "    </tr>\n",
              "    <tr>\n",
              "      <th>1440</th>\n",
              "      <td>Renault Duster 85PS Diesel RxL Optional</td>\n",
              "      <td>Mumbai</td>\n",
              "      <td>2013</td>\n",
              "      <td>74000</td>\n",
              "      <td>Diesel</td>\n",
              "      <td>Manual</td>\n",
              "      <td>First</td>\n",
              "      <td>20.46</td>\n",
              "      <td>1461.0</td>\n",
              "      <td>83.80</td>\n",
              "      <td>5.0</td>\n",
              "      <td>5.50</td>\n",
              "    </tr>\n",
              "    <tr>\n",
              "      <th>2031</th>\n",
              "      <td>Toyota Innova 2.5 G (Diesel) 7 Seater</td>\n",
              "      <td>Pune</td>\n",
              "      <td>2015</td>\n",
              "      <td>100000</td>\n",
              "      <td>Diesel</td>\n",
              "      <td>Manual</td>\n",
              "      <td>Second</td>\n",
              "      <td>12.99</td>\n",
              "      <td>2494.0</td>\n",
              "      <td>100.60</td>\n",
              "      <td>7.0</td>\n",
              "      <td>10.25</td>\n",
              "    </tr>\n",
              "    <tr>\n",
              "      <th>5289</th>\n",
              "      <td>Renault Pulse Petrol RxL</td>\n",
              "      <td>Delhi</td>\n",
              "      <td>2016</td>\n",
              "      <td>40190</td>\n",
              "      <td>Petrol</td>\n",
              "      <td>Manual</td>\n",
              "      <td>First</td>\n",
              "      <td>18.06</td>\n",
              "      <td>1198.0</td>\n",
              "      <td>74.93</td>\n",
              "      <td>5.0</td>\n",
              "      <td>4.25</td>\n",
              "    </tr>\n",
              "  </tbody>\n",
              "</table>\n",
              "</div>"
            ],
            "text/plain": [
              "                                           Name Location  ...  Seats  Price\n",
              "506   Mercedes-Benz S Class 2005 2013 S 350 CDI     Pune  ...    5.0  18.50\n",
              "1440    Renault Duster 85PS Diesel RxL Optional   Mumbai  ...    5.0   5.50\n",
              "2031      Toyota Innova 2.5 G (Diesel) 7 Seater     Pune  ...    7.0  10.25\n",
              "5289                   Renault Pulse Petrol RxL    Delhi  ...    5.0   4.25\n",
              "\n",
              "[4 rows x 12 columns]"
            ]
          },
          "metadata": {
            "tags": []
          },
          "execution_count": 28
        }
      ]
    },
    {
      "cell_type": "markdown",
      "metadata": {
        "id": "p72UUMKoG0Tm"
      },
      "source": [
        "### Treating Missing values."
      ]
    },
    {
      "cell_type": "code",
      "metadata": {
        "id": "pd6Ah4thG0Tn",
        "outputId": "ca28c2a6-d9d6-4fca-a84b-929592ea68b7",
        "colab": {
          "base_uri": "https://localhost:8080/",
          "height": 363
        }
      },
      "source": [
        "sns.heatmap(df_train.isnull(),yticklabels=False,cbar=False,cmap='viridis')"
      ],
      "execution_count": 29,
      "outputs": [
        {
          "output_type": "execute_result",
          "data": {
            "text/plain": [
              "<matplotlib.axes._subplots.AxesSubplot at 0x7ffa9efb2e80>"
            ]
          },
          "metadata": {
            "tags": []
          },
          "execution_count": 29
        },
        {
          "output_type": "display_data",
          "data": {
            "image/png": "[encoded data removed]",
            "text/plain": [
              "<Figure size 432x288 with 1 Axes>"
            ]
          },
          "metadata": {
            "tags": [],
            "needs_background": "light"
          }
        }
      ]
    },
    {
      "cell_type": "code",
      "metadata": {
        "id": "HESkOgC5G0Tt",
        "outputId": "6f8fb038-01d7-4e5d-8796-47240564a688",
        "colab": {
          "base_uri": "https://localhost:8080/",
          "height": 363
        }
      },
      "source": [
        "sns.heatmap(df_test.isnull(),yticklabels=False,cbar=False,cmap='viridis')"
      ],
      "execution_count": 30,
      "outputs": [
        {
          "output_type": "execute_result",
          "data": {
            "text/plain": [
              "<matplotlib.axes._subplots.AxesSubplot at 0x7ffaa30ac860>"
            ]
          },
          "metadata": {
            "tags": []
          },
          "execution_count": 30
        },
        {
          "output_type": "display_data",
          "data": {
            "image/png": "[encoded data removed]",
            "text/plain": [
              "<Figure size 432x288 with 1 Axes>"
            ]
          },
          "metadata": {
            "tags": [],
            "needs_background": "light"
          }
        }
      ]
    },
    {
      "cell_type": "markdown",
      "metadata": {
        "id": "ZacqINUcG0T5"
      },
      "source": [
        "##### Looks like our power,Engine,seats columns have more no.of null values."
      ]
    },
    {
      "cell_type": "code",
      "metadata": {
        "id": "uXrVLKUsG0T6",
        "outputId": "e17437b1-192c-49d8-a695-ef25c934e2bd",
        "colab": {
          "base_uri": "https://localhost:8080/",
          "height": 1000
        }
      },
      "source": [
        "# Lets have a closer look on column wise\n",
        "df_train[df_train.Engine.isnull()]"
      ],
      "execution_count": 31,
      "outputs": [
        {
          "output_type": "execute_result",
          "data": {
            "text/html": [
              "<div>\n",
              "<style scoped>\n",
              "    .dataframe tbody tr th:only-of-type {\n",
              "        vertical-align: middle;\n",
              "    }\n",
              "\n",
              "    .dataframe tbody tr th {\n",
              "        vertical-align: top;\n",
              "    }\n",
              "\n",
              "    .dataframe thead th {\n",
              "        text-align: right;\n",
              "    }\n",
              "</style>\n",
              "<table border=\"1\" class=\"dataframe\">\n",
              "  <thead>\n",
              "    <tr style=\"text-align: right;\">\n",
              "      <th></th>\n",
              "      <th>Name</th>\n",
              "      <th>Location</th>\n",
              "      <th>Year</th>\n",
              "      <th>Kilometers_Driven</th>\n",
              "      <th>Fuel_Type</th>\n",
              "      <th>Transmission</th>\n",
              "      <th>Owner_Type</th>\n",
              "      <th>Mileage</th>\n",
              "      <th>Engine</th>\n",
              "      <th>Power</th>\n",
              "      <th>Seats</th>\n",
              "      <th>Price</th>\n",
              "    </tr>\n",
              "  </thead>\n",
              "  <tbody>\n",
              "    <tr>\n",
              "      <th>194</th>\n",
              "      <td>Honda City 1.5 GXI</td>\n",
              "      <td>Ahmedabad</td>\n",
              "      <td>2007</td>\n",
              "      <td>60006</td>\n",
              "      <td>Petrol</td>\n",
              "      <td>Manual</td>\n",
              "      <td>First</td>\n",
              "      <td>0.00</td>\n",
              "      <td>NaN</td>\n",
              "      <td>NaN</td>\n",
              "      <td>NaN</td>\n",
              "      <td>2.95</td>\n",
              "    </tr>\n",
              "    <tr>\n",
              "      <th>208</th>\n",
              "      <td>Maruti Swift 1.3 VXi</td>\n",
              "      <td>Kolkata</td>\n",
              "      <td>2010</td>\n",
              "      <td>42001</td>\n",
              "      <td>Petrol</td>\n",
              "      <td>Manual</td>\n",
              "      <td>First</td>\n",
              "      <td>16.10</td>\n",
              "      <td>NaN</td>\n",
              "      <td>NaN</td>\n",
              "      <td>NaN</td>\n",
              "      <td>2.11</td>\n",
              "    </tr>\n",
              "    <tr>\n",
              "      <th>733</th>\n",
              "      <td>Maruti Swift 1.3 VXi</td>\n",
              "      <td>Chennai</td>\n",
              "      <td>2006</td>\n",
              "      <td>97800</td>\n",
              "      <td>Petrol</td>\n",
              "      <td>Manual</td>\n",
              "      <td>Third</td>\n",
              "      <td>16.10</td>\n",
              "      <td>NaN</td>\n",
              "      <td>NaN</td>\n",
              "      <td>NaN</td>\n",
              "      <td>1.75</td>\n",
              "    </tr>\n",
              "    <tr>\n",
              "      <th>749</th>\n",
              "      <td>Land Rover Range Rover 3.0 D</td>\n",
              "      <td>Mumbai</td>\n",
              "      <td>2008</td>\n",
              "      <td>55001</td>\n",
              "      <td>Diesel</td>\n",
              "      <td>Automatic</td>\n",
              "      <td>Second</td>\n",
              "      <td>0.00</td>\n",
              "      <td>NaN</td>\n",
              "      <td>NaN</td>\n",
              "      <td>NaN</td>\n",
              "      <td>26.50</td>\n",
              "    </tr>\n",
              "    <tr>\n",
              "      <th>1294</th>\n",
              "      <td>Honda City 1.3 DX</td>\n",
              "      <td>Delhi</td>\n",
              "      <td>2009</td>\n",
              "      <td>55005</td>\n",
              "      <td>Petrol</td>\n",
              "      <td>Manual</td>\n",
              "      <td>First</td>\n",
              "      <td>12.80</td>\n",
              "      <td>NaN</td>\n",
              "      <td>NaN</td>\n",
              "      <td>NaN</td>\n",
              "      <td>3.20</td>\n",
              "    </tr>\n",
              "    <tr>\n",
              "      <th>1327</th>\n",
              "      <td>Maruti Swift 1.3 ZXI</td>\n",
              "      <td>Hyderabad</td>\n",
              "      <td>2015</td>\n",
              "      <td>50295</td>\n",
              "      <td>Petrol</td>\n",
              "      <td>Manual</td>\n",
              "      <td>First</td>\n",
              "      <td>16.10</td>\n",
              "      <td>NaN</td>\n",
              "      <td>NaN</td>\n",
              "      <td>NaN</td>\n",
              "      <td>5.80</td>\n",
              "    </tr>\n",
              "    <tr>\n",
              "      <th>1385</th>\n",
              "      <td>Honda City 1.5 GXI</td>\n",
              "      <td>Pune</td>\n",
              "      <td>2004</td>\n",
              "      <td>115000</td>\n",
              "      <td>Petrol</td>\n",
              "      <td>Manual</td>\n",
              "      <td>Second</td>\n",
              "      <td>0.00</td>\n",
              "      <td>NaN</td>\n",
              "      <td>NaN</td>\n",
              "      <td>NaN</td>\n",
              "      <td>1.50</td>\n",
              "    </tr>\n",
              "    <tr>\n",
              "      <th>1460</th>\n",
              "      <td>Land Rover Range Rover Sport 2005 2012 Sport</td>\n",
              "      <td>Coimbatore</td>\n",
              "      <td>2008</td>\n",
              "      <td>69078</td>\n",
              "      <td>Petrol</td>\n",
              "      <td>Manual</td>\n",
              "      <td>First</td>\n",
              "      <td>0.00</td>\n",
              "      <td>NaN</td>\n",
              "      <td>NaN</td>\n",
              "      <td>NaN</td>\n",
              "      <td>40.88</td>\n",
              "    </tr>\n",
              "    <tr>\n",
              "      <th>2074</th>\n",
              "      <td>Maruti Swift 1.3 LXI</td>\n",
              "      <td>Pune</td>\n",
              "      <td>2011</td>\n",
              "      <td>24255</td>\n",
              "      <td>Petrol</td>\n",
              "      <td>Manual</td>\n",
              "      <td>First</td>\n",
              "      <td>16.10</td>\n",
              "      <td>NaN</td>\n",
              "      <td>NaN</td>\n",
              "      <td>NaN</td>\n",
              "      <td>3.15</td>\n",
              "    </tr>\n",
              "    <tr>\n",
              "      <th>2096</th>\n",
              "      <td>Hyundai Santro LP zipPlus</td>\n",
              "      <td>Coimbatore</td>\n",
              "      <td>2004</td>\n",
              "      <td>52146</td>\n",
              "      <td>Petrol</td>\n",
              "      <td>Manual</td>\n",
              "      <td>First</td>\n",
              "      <td>0.00</td>\n",
              "      <td>NaN</td>\n",
              "      <td>NaN</td>\n",
              "      <td>NaN</td>\n",
              "      <td>1.93</td>\n",
              "    </tr>\n",
              "    <tr>\n",
              "      <th>2264</th>\n",
              "      <td>Toyota Etios Liva V</td>\n",
              "      <td>Pune</td>\n",
              "      <td>2012</td>\n",
              "      <td>24500</td>\n",
              "      <td>Petrol</td>\n",
              "      <td>Manual</td>\n",
              "      <td>Second</td>\n",
              "      <td>18.30</td>\n",
              "      <td>NaN</td>\n",
              "      <td>NaN</td>\n",
              "      <td>NaN</td>\n",
              "      <td>2.95</td>\n",
              "    </tr>\n",
              "    <tr>\n",
              "      <th>2325</th>\n",
              "      <td>Maruti Swift 1.3 VXI ABS</td>\n",
              "      <td>Pune</td>\n",
              "      <td>2015</td>\n",
              "      <td>67000</td>\n",
              "      <td>Petrol</td>\n",
              "      <td>Manual</td>\n",
              "      <td>First</td>\n",
              "      <td>16.10</td>\n",
              "      <td>NaN</td>\n",
              "      <td>NaN</td>\n",
              "      <td>NaN</td>\n",
              "      <td>4.70</td>\n",
              "    </tr>\n",
              "    <tr>\n",
              "      <th>2335</th>\n",
              "      <td>Maruti Swift 1.3 VXi</td>\n",
              "      <td>Mumbai</td>\n",
              "      <td>2007</td>\n",
              "      <td>55000</td>\n",
              "      <td>Petrol</td>\n",
              "      <td>Manual</td>\n",
              "      <td>Second</td>\n",
              "      <td>16.10</td>\n",
              "      <td>NaN</td>\n",
              "      <td>NaN</td>\n",
              "      <td>NaN</td>\n",
              "      <td>1.75</td>\n",
              "    </tr>\n",
              "    <tr>\n",
              "      <th>2530</th>\n",
              "      <td>BMW 5 Series 520d Sedan</td>\n",
              "      <td>Kochi</td>\n",
              "      <td>2014</td>\n",
              "      <td>64158</td>\n",
              "      <td>Diesel</td>\n",
              "      <td>Automatic</td>\n",
              "      <td>First</td>\n",
              "      <td>18.48</td>\n",
              "      <td>NaN</td>\n",
              "      <td>NaN</td>\n",
              "      <td>NaN</td>\n",
              "      <td>17.89</td>\n",
              "    </tr>\n",
              "    <tr>\n",
              "      <th>2542</th>\n",
              "      <td>Hyundai Santro GLS II - Euro II</td>\n",
              "      <td>Bangalore</td>\n",
              "      <td>2011</td>\n",
              "      <td>65000</td>\n",
              "      <td>Petrol</td>\n",
              "      <td>Manual</td>\n",
              "      <td>Second</td>\n",
              "      <td>0.00</td>\n",
              "      <td>NaN</td>\n",
              "      <td>NaN</td>\n",
              "      <td>NaN</td>\n",
              "      <td>3.15</td>\n",
              "    </tr>\n",
              "    <tr>\n",
              "      <th>2623</th>\n",
              "      <td>BMW 5 Series 520d Sedan</td>\n",
              "      <td>Pune</td>\n",
              "      <td>2012</td>\n",
              "      <td>95000</td>\n",
              "      <td>Diesel</td>\n",
              "      <td>Automatic</td>\n",
              "      <td>Second</td>\n",
              "      <td>18.48</td>\n",
              "      <td>NaN</td>\n",
              "      <td>NaN</td>\n",
              "      <td>NaN</td>\n",
              "      <td>18.00</td>\n",
              "    </tr>\n",
              "    <tr>\n",
              "      <th>2668</th>\n",
              "      <td>Maruti Swift 1.3 VXi</td>\n",
              "      <td>Kolkata</td>\n",
              "      <td>2014</td>\n",
              "      <td>32986</td>\n",
              "      <td>Petrol</td>\n",
              "      <td>Manual</td>\n",
              "      <td>First</td>\n",
              "      <td>16.10</td>\n",
              "      <td>NaN</td>\n",
              "      <td>NaN</td>\n",
              "      <td>NaN</td>\n",
              "      <td>4.24</td>\n",
              "    </tr>\n",
              "    <tr>\n",
              "      <th>2737</th>\n",
              "      <td>Maruti Wagon R Vx</td>\n",
              "      <td>Jaipur</td>\n",
              "      <td>2001</td>\n",
              "      <td>200000</td>\n",
              "      <td>Petrol</td>\n",
              "      <td>Manual</td>\n",
              "      <td>First</td>\n",
              "      <td>12.00</td>\n",
              "      <td>NaN</td>\n",
              "      <td>NaN</td>\n",
              "      <td>NaN</td>\n",
              "      <td>0.70</td>\n",
              "    </tr>\n",
              "    <tr>\n",
              "      <th>2780</th>\n",
              "      <td>Hyundai Santro GLS II - Euro II</td>\n",
              "      <td>Pune</td>\n",
              "      <td>2009</td>\n",
              "      <td>100000</td>\n",
              "      <td>Petrol</td>\n",
              "      <td>Manual</td>\n",
              "      <td>First</td>\n",
              "      <td>0.00</td>\n",
              "      <td>NaN</td>\n",
              "      <td>NaN</td>\n",
              "      <td>NaN</td>\n",
              "      <td>1.60</td>\n",
              "    </tr>\n",
              "    <tr>\n",
              "      <th>2842</th>\n",
              "      <td>Hyundai Santro GLS II - Euro II</td>\n",
              "      <td>Bangalore</td>\n",
              "      <td>2012</td>\n",
              "      <td>43000</td>\n",
              "      <td>Petrol</td>\n",
              "      <td>Manual</td>\n",
              "      <td>First</td>\n",
              "      <td>0.00</td>\n",
              "      <td>NaN</td>\n",
              "      <td>NaN</td>\n",
              "      <td>NaN</td>\n",
              "      <td>3.25</td>\n",
              "    </tr>\n",
              "    <tr>\n",
              "      <th>3272</th>\n",
              "      <td>BMW 5 Series 520d Sedan</td>\n",
              "      <td>Mumbai</td>\n",
              "      <td>2008</td>\n",
              "      <td>81000</td>\n",
              "      <td>Diesel</td>\n",
              "      <td>Automatic</td>\n",
              "      <td>Second</td>\n",
              "      <td>18.48</td>\n",
              "      <td>NaN</td>\n",
              "      <td>NaN</td>\n",
              "      <td>NaN</td>\n",
              "      <td>10.50</td>\n",
              "    </tr>\n",
              "    <tr>\n",
              "      <th>3404</th>\n",
              "      <td>Maruti Swift 1.3 VXi</td>\n",
              "      <td>Jaipur</td>\n",
              "      <td>2006</td>\n",
              "      <td>125000</td>\n",
              "      <td>Petrol</td>\n",
              "      <td>Manual</td>\n",
              "      <td>Fourth &amp; Above</td>\n",
              "      <td>16.10</td>\n",
              "      <td>NaN</td>\n",
              "      <td>NaN</td>\n",
              "      <td>NaN</td>\n",
              "      <td>2.35</td>\n",
              "    </tr>\n",
              "    <tr>\n",
              "      <th>3520</th>\n",
              "      <td>BMW 5 Series 520d Sedan</td>\n",
              "      <td>Delhi</td>\n",
              "      <td>2012</td>\n",
              "      <td>90000</td>\n",
              "      <td>Diesel</td>\n",
              "      <td>Automatic</td>\n",
              "      <td>First</td>\n",
              "      <td>18.48</td>\n",
              "      <td>NaN</td>\n",
              "      <td>NaN</td>\n",
              "      <td>NaN</td>\n",
              "      <td>14.50</td>\n",
              "    </tr>\n",
              "    <tr>\n",
              "      <th>3522</th>\n",
              "      <td>Hyundai Santro GLS II - Euro II</td>\n",
              "      <td>Kochi</td>\n",
              "      <td>2012</td>\n",
              "      <td>66400</td>\n",
              "      <td>Petrol</td>\n",
              "      <td>Manual</td>\n",
              "      <td>First</td>\n",
              "      <td>0.00</td>\n",
              "      <td>NaN</td>\n",
              "      <td>NaN</td>\n",
              "      <td>NaN</td>\n",
              "      <td>2.66</td>\n",
              "    </tr>\n",
              "    <tr>\n",
              "      <th>3810</th>\n",
              "      <td>Honda CR-V AT With Sun Roof</td>\n",
              "      <td>Kolkata</td>\n",
              "      <td>2013</td>\n",
              "      <td>27000</td>\n",
              "      <td>Petrol</td>\n",
              "      <td>Automatic</td>\n",
              "      <td>First</td>\n",
              "      <td>14.00</td>\n",
              "      <td>NaN</td>\n",
              "      <td>NaN</td>\n",
              "      <td>NaN</td>\n",
              "      <td>11.99</td>\n",
              "    </tr>\n",
              "    <tr>\n",
              "      <th>4011</th>\n",
              "      <td>Fiat Punto 1.3 Emotion</td>\n",
              "      <td>Pune</td>\n",
              "      <td>2011</td>\n",
              "      <td>45271</td>\n",
              "      <td>Diesel</td>\n",
              "      <td>Manual</td>\n",
              "      <td>First</td>\n",
              "      <td>20.30</td>\n",
              "      <td>NaN</td>\n",
              "      <td>NaN</td>\n",
              "      <td>NaN</td>\n",
              "      <td>2.60</td>\n",
              "    </tr>\n",
              "    <tr>\n",
              "      <th>4152</th>\n",
              "      <td>Land Rover Range Rover 3.0 D</td>\n",
              "      <td>Mumbai</td>\n",
              "      <td>2003</td>\n",
              "      <td>75000</td>\n",
              "      <td>Diesel</td>\n",
              "      <td>Automatic</td>\n",
              "      <td>Second</td>\n",
              "      <td>0.00</td>\n",
              "      <td>NaN</td>\n",
              "      <td>NaN</td>\n",
              "      <td>NaN</td>\n",
              "      <td>16.11</td>\n",
              "    </tr>\n",
              "    <tr>\n",
              "      <th>4229</th>\n",
              "      <td>Hyundai Santro Xing XG</td>\n",
              "      <td>Bangalore</td>\n",
              "      <td>2005</td>\n",
              "      <td>79000</td>\n",
              "      <td>Petrol</td>\n",
              "      <td>Manual</td>\n",
              "      <td>Second</td>\n",
              "      <td>17.00</td>\n",
              "      <td>NaN</td>\n",
              "      <td>NaN</td>\n",
              "      <td>NaN</td>\n",
              "      <td>1.65</td>\n",
              "    </tr>\n",
              "    <tr>\n",
              "      <th>4577</th>\n",
              "      <td>BMW 5 Series 520d Sedan</td>\n",
              "      <td>Delhi</td>\n",
              "      <td>2012</td>\n",
              "      <td>72000</td>\n",
              "      <td>Diesel</td>\n",
              "      <td>Automatic</td>\n",
              "      <td>Third</td>\n",
              "      <td>18.48</td>\n",
              "      <td>NaN</td>\n",
              "      <td>NaN</td>\n",
              "      <td>NaN</td>\n",
              "      <td>13.85</td>\n",
              "    </tr>\n",
              "    <tr>\n",
              "      <th>4604</th>\n",
              "      <td>Honda Jazz Select Edition</td>\n",
              "      <td>Pune</td>\n",
              "      <td>2011</td>\n",
              "      <td>98000</td>\n",
              "      <td>Petrol</td>\n",
              "      <td>Manual</td>\n",
              "      <td>First</td>\n",
              "      <td>16.70</td>\n",
              "      <td>NaN</td>\n",
              "      <td>NaN</td>\n",
              "      <td>NaN</td>\n",
              "      <td>3.15</td>\n",
              "    </tr>\n",
              "    <tr>\n",
              "      <th>4697</th>\n",
              "      <td>Fiat Punto 1.2 Dynamic</td>\n",
              "      <td>Kochi</td>\n",
              "      <td>2017</td>\n",
              "      <td>17941</td>\n",
              "      <td>Petrol</td>\n",
              "      <td>Manual</td>\n",
              "      <td>First</td>\n",
              "      <td>15.70</td>\n",
              "      <td>NaN</td>\n",
              "      <td>NaN</td>\n",
              "      <td>NaN</td>\n",
              "      <td>3.93</td>\n",
              "    </tr>\n",
              "    <tr>\n",
              "      <th>4712</th>\n",
              "      <td>Hyundai Santro Xing XG</td>\n",
              "      <td>Pune</td>\n",
              "      <td>2003</td>\n",
              "      <td>80000</td>\n",
              "      <td>Petrol</td>\n",
              "      <td>Manual</td>\n",
              "      <td>Second</td>\n",
              "      <td>17.00</td>\n",
              "      <td>NaN</td>\n",
              "      <td>NaN</td>\n",
              "      <td>NaN</td>\n",
              "      <td>0.90</td>\n",
              "    </tr>\n",
              "    <tr>\n",
              "      <th>4952</th>\n",
              "      <td>Fiat Punto 1.4 Emotion</td>\n",
              "      <td>Kolkata</td>\n",
              "      <td>2010</td>\n",
              "      <td>47000</td>\n",
              "      <td>Petrol</td>\n",
              "      <td>Manual</td>\n",
              "      <td>First</td>\n",
              "      <td>14.60</td>\n",
              "      <td>NaN</td>\n",
              "      <td>NaN</td>\n",
              "      <td>NaN</td>\n",
              "      <td>1.49</td>\n",
              "    </tr>\n",
              "    <tr>\n",
              "      <th>5015</th>\n",
              "      <td>Maruti Swift 1.3 VXi</td>\n",
              "      <td>Delhi</td>\n",
              "      <td>2006</td>\n",
              "      <td>63000</td>\n",
              "      <td>Petrol</td>\n",
              "      <td>Manual</td>\n",
              "      <td>First</td>\n",
              "      <td>16.10</td>\n",
              "      <td>NaN</td>\n",
              "      <td>NaN</td>\n",
              "      <td>NaN</td>\n",
              "      <td>1.60</td>\n",
              "    </tr>\n",
              "    <tr>\n",
              "      <th>5185</th>\n",
              "      <td>Maruti Swift 1.3 LXI</td>\n",
              "      <td>Delhi</td>\n",
              "      <td>2012</td>\n",
              "      <td>52000</td>\n",
              "      <td>Petrol</td>\n",
              "      <td>Manual</td>\n",
              "      <td>First</td>\n",
              "      <td>16.10</td>\n",
              "      <td>NaN</td>\n",
              "      <td>NaN</td>\n",
              "      <td>NaN</td>\n",
              "      <td>3.65</td>\n",
              "    </tr>\n",
              "    <tr>\n",
              "      <th>5270</th>\n",
              "      <td>Honda City 1.5 GXI</td>\n",
              "      <td>Bangalore</td>\n",
              "      <td>2002</td>\n",
              "      <td>53000</td>\n",
              "      <td>Petrol</td>\n",
              "      <td>Manual</td>\n",
              "      <td>Second</td>\n",
              "      <td>0.00</td>\n",
              "      <td>NaN</td>\n",
              "      <td>NaN</td>\n",
              "      <td>NaN</td>\n",
              "      <td>1.85</td>\n",
              "    </tr>\n",
              "  </tbody>\n",
              "</table>\n",
              "</div>"
            ],
            "text/plain": [
              "                                              Name    Location  ...  Seats  Price\n",
              "194                             Honda City 1.5 GXI   Ahmedabad  ...    NaN   2.95\n",
              "208                           Maruti Swift 1.3 VXi     Kolkata  ...    NaN   2.11\n",
              "733                           Maruti Swift 1.3 VXi     Chennai  ...    NaN   1.75\n",
              "749                   Land Rover Range Rover 3.0 D      Mumbai  ...    NaN  26.50\n",
              "1294                             Honda City 1.3 DX       Delhi  ...    NaN   3.20\n",
              "1327                          Maruti Swift 1.3 ZXI   Hyderabad  ...    NaN   5.80\n",
              "1385                            Honda City 1.5 GXI        Pune  ...    NaN   1.50\n",
              "1460  Land Rover Range Rover Sport 2005 2012 Sport  Coimbatore  ...    NaN  40.88\n",
              "2074                          Maruti Swift 1.3 LXI        Pune  ...    NaN   3.15\n",
              "2096                     Hyundai Santro LP zipPlus  Coimbatore  ...    NaN   1.93\n",
              "2264                           Toyota Etios Liva V        Pune  ...    NaN   2.95\n",
              "2325                      Maruti Swift 1.3 VXI ABS        Pune  ...    NaN   4.70\n",
              "2335                          Maruti Swift 1.3 VXi      Mumbai  ...    NaN   1.75\n",
              "2530                       BMW 5 Series 520d Sedan       Kochi  ...    NaN  17.89\n",
              "2542               Hyundai Santro GLS II - Euro II   Bangalore  ...    NaN   3.15\n",
              "2623                       BMW 5 Series 520d Sedan        Pune  ...    NaN  18.00\n",
              "2668                          Maruti Swift 1.3 VXi     Kolkata  ...    NaN   4.24\n",
              "2737                             Maruti Wagon R Vx      Jaipur  ...    NaN   0.70\n",
              "2780               Hyundai Santro GLS II - Euro II        Pune  ...    NaN   1.60\n",
              "2842               Hyundai Santro GLS II - Euro II   Bangalore  ...    NaN   3.25\n",
              "3272                       BMW 5 Series 520d Sedan      Mumbai  ...    NaN  10.50\n",
              "3404                          Maruti Swift 1.3 VXi      Jaipur  ...    NaN   2.35\n",
              "3520                       BMW 5 Series 520d Sedan       Delhi  ...    NaN  14.50\n",
              "3522               Hyundai Santro GLS II - Euro II       Kochi  ...    NaN   2.66\n",
              "3810                   Honda CR-V AT With Sun Roof     Kolkata  ...    NaN  11.99\n",
              "4011                        Fiat Punto 1.3 Emotion        Pune  ...    NaN   2.60\n",
              "4152                  Land Rover Range Rover 3.0 D      Mumbai  ...    NaN  16.11\n",
              "4229                        Hyundai Santro Xing XG   Bangalore  ...    NaN   1.65\n",
              "4577                       BMW 5 Series 520d Sedan       Delhi  ...    NaN  13.85\n",
              "4604                     Honda Jazz Select Edition        Pune  ...    NaN   3.15\n",
              "4697                        Fiat Punto 1.2 Dynamic       Kochi  ...    NaN   3.93\n",
              "4712                        Hyundai Santro Xing XG        Pune  ...    NaN   0.90\n",
              "4952                        Fiat Punto 1.4 Emotion     Kolkata  ...    NaN   1.49\n",
              "5015                          Maruti Swift 1.3 VXi       Delhi  ...    NaN   1.60\n",
              "5185                          Maruti Swift 1.3 LXI       Delhi  ...    NaN   3.65\n",
              "5270                            Honda City 1.5 GXI   Bangalore  ...    NaN   1.85\n",
              "\n",
              "[36 rows x 12 columns]"
            ]
          },
          "metadata": {
            "tags": []
          },
          "execution_count": 31
        }
      ]
    },
    {
      "cell_type": "code",
      "metadata": {
        "id": "HhpXm_yAG0UA",
        "outputId": "aaa18681-aff5-4f9b-851e-fde3df6bcfe4",
        "colab": {
          "base_uri": "https://localhost:8080/",
          "height": 507
        }
      },
      "source": [
        "df_test[df_test.Engine.isnull()]"
      ],
      "execution_count": 32,
      "outputs": [
        {
          "output_type": "execute_result",
          "data": {
            "text/html": [
              "<div>\n",
              "<style scoped>\n",
              "    .dataframe tbody tr th:only-of-type {\n",
              "        vertical-align: middle;\n",
              "    }\n",
              "\n",
              "    .dataframe tbody tr th {\n",
              "        vertical-align: top;\n",
              "    }\n",
              "\n",
              "    .dataframe thead th {\n",
              "        text-align: right;\n",
              "    }\n",
              "</style>\n",
              "<table border=\"1\" class=\"dataframe\">\n",
              "  <thead>\n",
              "    <tr style=\"text-align: right;\">\n",
              "      <th></th>\n",
              "      <th>Name</th>\n",
              "      <th>Location</th>\n",
              "      <th>Year</th>\n",
              "      <th>Kilometers_Driven</th>\n",
              "      <th>Fuel_Type</th>\n",
              "      <th>Transmission</th>\n",
              "      <th>Owner_Type</th>\n",
              "      <th>Mileage</th>\n",
              "      <th>Engine</th>\n",
              "      <th>Power</th>\n",
              "      <th>Seats</th>\n",
              "    </tr>\n",
              "  </thead>\n",
              "  <tbody>\n",
              "    <tr>\n",
              "      <th>23</th>\n",
              "      <td>Skoda Laura 1.8 TSI Ambition</td>\n",
              "      <td>Bangalore</td>\n",
              "      <td>2009</td>\n",
              "      <td>72000</td>\n",
              "      <td>Petrol</td>\n",
              "      <td>Manual</td>\n",
              "      <td>Second</td>\n",
              "      <td>17.50</td>\n",
              "      <td>NaN</td>\n",
              "      <td>NaN</td>\n",
              "      <td>NaN</td>\n",
              "    </tr>\n",
              "    <tr>\n",
              "      <th>522</th>\n",
              "      <td>Toyota Etios Liva Diesel TRD Sportivo</td>\n",
              "      <td>Bangalore</td>\n",
              "      <td>2012</td>\n",
              "      <td>56600</td>\n",
              "      <td>Diesel</td>\n",
              "      <td>Manual</td>\n",
              "      <td>First</td>\n",
              "      <td>23.59</td>\n",
              "      <td>NaN</td>\n",
              "      <td>NaN</td>\n",
              "      <td>NaN</td>\n",
              "    </tr>\n",
              "    <tr>\n",
              "      <th>525</th>\n",
              "      <td>Hyundai i20 new Sportz AT 1.4</td>\n",
              "      <td>Bangalore</td>\n",
              "      <td>2012</td>\n",
              "      <td>58000</td>\n",
              "      <td>Petrol</td>\n",
              "      <td>Automatic</td>\n",
              "      <td>Second</td>\n",
              "      <td>15.00</td>\n",
              "      <td>NaN</td>\n",
              "      <td>NaN</td>\n",
              "      <td>NaN</td>\n",
              "    </tr>\n",
              "    <tr>\n",
              "      <th>614</th>\n",
              "      <td>Mahindra TUV 300 P4</td>\n",
              "      <td>Kolkata</td>\n",
              "      <td>2016</td>\n",
              "      <td>27000</td>\n",
              "      <td>Diesel</td>\n",
              "      <td>Manual</td>\n",
              "      <td>First</td>\n",
              "      <td>0.00</td>\n",
              "      <td>NaN</td>\n",
              "      <td>NaN</td>\n",
              "      <td>NaN</td>\n",
              "    </tr>\n",
              "    <tr>\n",
              "      <th>624</th>\n",
              "      <td>BMW 5 Series 520d Sedan</td>\n",
              "      <td>Bangalore</td>\n",
              "      <td>2009</td>\n",
              "      <td>150000</td>\n",
              "      <td>Diesel</td>\n",
              "      <td>Automatic</td>\n",
              "      <td>Second</td>\n",
              "      <td>18.48</td>\n",
              "      <td>NaN</td>\n",
              "      <td>NaN</td>\n",
              "      <td>NaN</td>\n",
              "    </tr>\n",
              "    <tr>\n",
              "      <th>632</th>\n",
              "      <td>Maruti Swift 1.3 VXi</td>\n",
              "      <td>Kolkata</td>\n",
              "      <td>2015</td>\n",
              "      <td>36009</td>\n",
              "      <td>Petrol</td>\n",
              "      <td>Manual</td>\n",
              "      <td>First</td>\n",
              "      <td>16.10</td>\n",
              "      <td>NaN</td>\n",
              "      <td>NaN</td>\n",
              "      <td>NaN</td>\n",
              "    </tr>\n",
              "    <tr>\n",
              "      <th>658</th>\n",
              "      <td>Fiat Punto 1.4 Emotion</td>\n",
              "      <td>Jaipur</td>\n",
              "      <td>2010</td>\n",
              "      <td>65000</td>\n",
              "      <td>Petrol</td>\n",
              "      <td>Manual</td>\n",
              "      <td>Third</td>\n",
              "      <td>14.60</td>\n",
              "      <td>NaN</td>\n",
              "      <td>NaN</td>\n",
              "      <td>NaN</td>\n",
              "    </tr>\n",
              "    <tr>\n",
              "      <th>666</th>\n",
              "      <td>Maruti Swift 1.3 VXi</td>\n",
              "      <td>Pune</td>\n",
              "      <td>2010</td>\n",
              "      <td>115000</td>\n",
              "      <td>Petrol</td>\n",
              "      <td>Manual</td>\n",
              "      <td>Second</td>\n",
              "      <td>16.10</td>\n",
              "      <td>NaN</td>\n",
              "      <td>NaN</td>\n",
              "      <td>NaN</td>\n",
              "    </tr>\n",
              "    <tr>\n",
              "      <th>861</th>\n",
              "      <td>BMW 5 Series 520d Sedan</td>\n",
              "      <td>Chennai</td>\n",
              "      <td>2009</td>\n",
              "      <td>95000</td>\n",
              "      <td>Diesel</td>\n",
              "      <td>Automatic</td>\n",
              "      <td>Second</td>\n",
              "      <td>18.48</td>\n",
              "      <td>NaN</td>\n",
              "      <td>NaN</td>\n",
              "      <td>NaN</td>\n",
              "    </tr>\n",
              "    <tr>\n",
              "      <th>883</th>\n",
              "      <td>Toyota Etios Liva V</td>\n",
              "      <td>Kochi</td>\n",
              "      <td>2012</td>\n",
              "      <td>59311</td>\n",
              "      <td>Petrol</td>\n",
              "      <td>Manual</td>\n",
              "      <td>First</td>\n",
              "      <td>18.30</td>\n",
              "      <td>NaN</td>\n",
              "      <td>NaN</td>\n",
              "      <td>NaN</td>\n",
              "    </tr>\n",
              "  </tbody>\n",
              "</table>\n",
              "</div>"
            ],
            "text/plain": [
              "                                      Name   Location  ...  Power  Seats\n",
              "23            Skoda Laura 1.8 TSI Ambition  Bangalore  ...    NaN    NaN\n",
              "522  Toyota Etios Liva Diesel TRD Sportivo  Bangalore  ...    NaN    NaN\n",
              "525          Hyundai i20 new Sportz AT 1.4  Bangalore  ...    NaN    NaN\n",
              "614                    Mahindra TUV 300 P4    Kolkata  ...    NaN    NaN\n",
              "624                BMW 5 Series 520d Sedan  Bangalore  ...    NaN    NaN\n",
              "632                   Maruti Swift 1.3 VXi    Kolkata  ...    NaN    NaN\n",
              "658                 Fiat Punto 1.4 Emotion     Jaipur  ...    NaN    NaN\n",
              "666                   Maruti Swift 1.3 VXi       Pune  ...    NaN    NaN\n",
              "861                BMW 5 Series 520d Sedan    Chennai  ...    NaN    NaN\n",
              "883                    Toyota Etios Liva V      Kochi  ...    NaN    NaN\n",
              "\n",
              "[10 rows x 11 columns]"
            ]
          },
          "metadata": {
            "tags": []
          },
          "execution_count": 32
        }
      ]
    },
    {
      "cell_type": "markdown",
      "metadata": {
        "id": "TKkj24L4G0UH"
      },
      "source": [
        "#### so lets impute Null values of Engine first by analysing the model column"
      ]
    },
    {
      "cell_type": "code",
      "metadata": {
        "id": "u9BaFk_zG0UI"
      },
      "source": [
        "tr_en_na = df_train.Engine.isnull()\n",
        "tes_en_na = df_test.Engine.isnull()"
      ],
      "execution_count": 33,
      "outputs": []
    },
    {
      "cell_type": "code",
      "metadata": {
        "id": "7kMH6h4OG0UP"
      },
      "source": [
        "lst = pd.to_numeric(df_train[tr_en_na]['Name'].replace('[^\\d.]','',regex=True),errors='coerce')\n"
      ],
      "execution_count": 34,
      "outputs": []
    },
    {
      "cell_type": "code",
      "metadata": {
        "id": "rPZeZKSYG0UU"
      },
      "source": [
        "df_train['NameENg'] = pd.to_numeric(df_train['Name'].replace('[^\\d.]','',regex=True),errors='coerce')"
      ],
      "execution_count": 35,
      "outputs": []
    },
    {
      "cell_type": "code",
      "metadata": {
        "id": "RWP8FTseG0Ua"
      },
      "source": [
        "lst1 = pd.to_numeric(df_test[tes_en_na]['Name'].replace('[^\\d.]','',regex=True),errors='coerce')\n"
      ],
      "execution_count": 36,
      "outputs": []
    },
    {
      "cell_type": "code",
      "metadata": {
        "id": "UoqOglSQG0Ui",
        "outputId": "6604d19c-df7f-4719-92d2-96a5bacbb777",
        "colab": {
          "base_uri": "https://localhost:8080/"
        }
      },
      "source": [
        "lst.value_counts()"
      ],
      "execution_count": 37,
      "outputs": [
        {
          "output_type": "execute_result",
          "data": {
            "text/plain": [
              "1.3           12\n",
              "5520.0         5\n",
              "1.5            3\n",
              "3.0            2\n",
              "20052012.0     1\n",
              "1.2            1\n",
              "1.4            1\n",
              "Name: Name, dtype: int64"
            ]
          },
          "metadata": {
            "tags": []
          },
          "execution_count": 37
        }
      ]
    },
    {
      "cell_type": "code",
      "metadata": {
        "id": "Wu-PnxCWG0Un"
      },
      "source": [
        "def impute_engine(cols):\n",
        "    Engine = cols[0]\n",
        "    NameENg = cols[1]\n",
        "    if pd.isnull(Engine):\n",
        "        if NameENg == 1.5:\n",
        "            return 1500\n",
        "        elif NameENg == 1.3:\n",
        "            return 1300\n",
        "        elif NameENg == 1.4:\n",
        "            return 1400\n",
        "        elif NameENg == 5520:\n",
        "            return 2800\n",
        "        elif NameENg == 3.0:\n",
        "            return 3000\n",
        "        elif NameENg == 1.2:\n",
        "            return 1200\n",
        "        else:\n",
        "            return 1100\n",
        "    else:\n",
        "        return Engine"
      ],
      "execution_count": 38,
      "outputs": []
    },
    {
      "cell_type": "code",
      "metadata": {
        "id": "mVL7E3sZG0Uu"
      },
      "source": [
        "df_train['Engine'] = df_train[['Engine','NameENg']].apply(impute_engine,axis = 1)"
      ],
      "execution_count": 39,
      "outputs": []
    },
    {
      "cell_type": "code",
      "metadata": {
        "id": "lRF8RoFNG0Uz"
      },
      "source": [
        "df_train.drop('NameENg',axis=1,inplace=True)"
      ],
      "execution_count": 40,
      "outputs": []
    },
    {
      "cell_type": "code",
      "metadata": {
        "id": "6YCmjoGGG0U8",
        "outputId": "cd82a892-f2eb-4b7d-f0d5-e634bb7d9140",
        "colab": {
          "base_uri": "https://localhost:8080/",
          "height": 0
        }
      },
      "source": [
        "df_train.sample(4)"
      ],
      "execution_count": 41,
      "outputs": [
        {
          "output_type": "execute_result",
          "data": {
            "text/html": [
              "<div>\n",
              "<style scoped>\n",
              "    .dataframe tbody tr th:only-of-type {\n",
              "        vertical-align: middle;\n",
              "    }\n",
              "\n",
              "    .dataframe tbody tr th {\n",
              "        vertical-align: top;\n",
              "    }\n",
              "\n",
              "    .dataframe thead th {\n",
              "        text-align: right;\n",
              "    }\n",
              "</style>\n",
              "<table border=\"1\" class=\"dataframe\">\n",
              "  <thead>\n",
              "    <tr style=\"text-align: right;\">\n",
              "      <th></th>\n",
              "      <th>Name</th>\n",
              "      <th>Location</th>\n",
              "      <th>Year</th>\n",
              "      <th>Kilometers_Driven</th>\n",
              "      <th>Fuel_Type</th>\n",
              "      <th>Transmission</th>\n",
              "      <th>Owner_Type</th>\n",
              "      <th>Mileage</th>\n",
              "      <th>Engine</th>\n",
              "      <th>Power</th>\n",
              "      <th>Seats</th>\n",
              "      <th>Price</th>\n",
              "    </tr>\n",
              "  </thead>\n",
              "  <tbody>\n",
              "    <tr>\n",
              "      <th>2297</th>\n",
              "      <td>Ford EcoSport 1.5 Ti VCT MT Titanium BE</td>\n",
              "      <td>Mumbai</td>\n",
              "      <td>2016</td>\n",
              "      <td>7000</td>\n",
              "      <td>Petrol</td>\n",
              "      <td>Manual</td>\n",
              "      <td>First</td>\n",
              "      <td>18.88</td>\n",
              "      <td>1499.0</td>\n",
              "      <td>110.4</td>\n",
              "      <td>5.0</td>\n",
              "      <td>6.90</td>\n",
              "    </tr>\n",
              "    <tr>\n",
              "      <th>1413</th>\n",
              "      <td>Audi A7 2011-2015 3.0 TDI Quattro</td>\n",
              "      <td>Mumbai</td>\n",
              "      <td>2011</td>\n",
              "      <td>42000</td>\n",
              "      <td>Diesel</td>\n",
              "      <td>Automatic</td>\n",
              "      <td>First</td>\n",
              "      <td>14.40</td>\n",
              "      <td>2967.0</td>\n",
              "      <td>241.4</td>\n",
              "      <td>5.0</td>\n",
              "      <td>28.75</td>\n",
              "    </tr>\n",
              "    <tr>\n",
              "      <th>6011</th>\n",
              "      <td>Skoda Superb 3.6 V6 FSI</td>\n",
              "      <td>Hyderabad</td>\n",
              "      <td>2009</td>\n",
              "      <td>53000</td>\n",
              "      <td>Petrol</td>\n",
              "      <td>Automatic</td>\n",
              "      <td>First</td>\n",
              "      <td>0.00</td>\n",
              "      <td>3597.0</td>\n",
              "      <td>262.6</td>\n",
              "      <td>5.0</td>\n",
              "      <td>4.75</td>\n",
              "    </tr>\n",
              "    <tr>\n",
              "      <th>1551</th>\n",
              "      <td>Volkswagen Polo Petrol Highline 1.2L</td>\n",
              "      <td>Kolkata</td>\n",
              "      <td>2011</td>\n",
              "      <td>50000</td>\n",
              "      <td>Petrol</td>\n",
              "      <td>Manual</td>\n",
              "      <td>First</td>\n",
              "      <td>16.47</td>\n",
              "      <td>1198.0</td>\n",
              "      <td>73.9</td>\n",
              "      <td>5.0</td>\n",
              "      <td>2.35</td>\n",
              "    </tr>\n",
              "  </tbody>\n",
              "</table>\n",
              "</div>"
            ],
            "text/plain": [
              "                                         Name   Location  ...  Seats  Price\n",
              "2297  Ford EcoSport 1.5 Ti VCT MT Titanium BE     Mumbai  ...    5.0   6.90\n",
              "1413        Audi A7 2011-2015 3.0 TDI Quattro     Mumbai  ...    5.0  28.75\n",
              "6011                  Skoda Superb 3.6 V6 FSI  Hyderabad  ...    5.0   4.75\n",
              "1551     Volkswagen Polo Petrol Highline 1.2L    Kolkata  ...    5.0   2.35\n",
              "\n",
              "[4 rows x 12 columns]"
            ]
          },
          "metadata": {
            "tags": []
          },
          "execution_count": 41
        }
      ]
    },
    {
      "cell_type": "code",
      "metadata": {
        "id": "bIvGtnxhG0VE"
      },
      "source": [
        "### for test data\n",
        "df_test['NameENg'] = pd.to_numeric(df_test['Name'].replace('[^\\d.]','',regex=True),errors='coerce')"
      ],
      "execution_count": 42,
      "outputs": []
    },
    {
      "cell_type": "code",
      "metadata": {
        "id": "mokGM74cG0VP",
        "outputId": "b16e1497-b458-4189-cc6f-427e811b081d",
        "colab": {
          "base_uri": "https://localhost:8080/"
        }
      },
      "source": [
        "lst1.value_counts()"
      ],
      "execution_count": 43,
      "outputs": [
        {
          "output_type": "execute_result",
          "data": {
            "text/plain": [
              "1.3       2\n",
              "5520.0    2\n",
              "1.4       1\n",
              "1.8       1\n",
              "201.4     1\n",
              "3004.0    1\n",
              "Name: Name, dtype: int64"
            ]
          },
          "metadata": {
            "tags": []
          },
          "execution_count": 43
        }
      ]
    },
    {
      "cell_type": "code",
      "metadata": {
        "id": "08lzw8u-G0VX"
      },
      "source": [
        "def impute_engine_test(cols):\n",
        "    Engine = cols[0]\n",
        "    NameENg = cols[1]\n",
        "    if pd.isnull(Engine):\n",
        "        if NameENg == 1.8:\n",
        "            return 1800\n",
        "        elif NameENg == 1.3:\n",
        "            return 1300\n",
        "        elif NameENg == 1.4:\n",
        "            return 1400\n",
        "        elif NameENg == 201.4:\n",
        "            return 1400\n",
        "        elif NameENg == 3004.0:\n",
        "            return 1200\n",
        "        elif NameENg == 5520:\n",
        "            return 2800\n",
        "        elif NameENg == 1.2:\n",
        "            return 1200\n",
        "        else:\n",
        "            return 1100\n",
        "    else:\n",
        "        return Engine"
      ],
      "execution_count": 44,
      "outputs": []
    },
    {
      "cell_type": "code",
      "metadata": {
        "id": "ztF8_vJ2G0Ve"
      },
      "source": [
        "df_test['Engine'] = df_test[['Engine','NameENg']].apply(impute_engine_test,axis = 1)\n",
        "df_test.drop('NameENg',axis=1,inplace=True)"
      ],
      "execution_count": 45,
      "outputs": []
    },
    {
      "cell_type": "markdown",
      "metadata": {
        "id": "WE7B_omLG0Vk"
      },
      "source": [
        "#### Next Filling up seat column it doesnt much affect the sales price of car.But we can retain this feature as no.of seats  has some sort of importance in Indian car Market"
      ]
    },
    {
      "cell_type": "markdown",
      "metadata": {
        "id": "ORh129zwG0Vl"
      },
      "source": [
        "## why Median?! ..Outliers..."
      ]
    },
    {
      "cell_type": "code",
      "metadata": {
        "id": "k6VBrplcG0Vm"
      },
      "source": [
        "#so here we can fill seats column with the median values based on the Engine capacity\n",
        "#We can use of pandas \"groupby\" for that\n",
        "df_train['Seats'].fillna(df_train.groupby('Engine').Seats.transform(\"median\"),inplace=True)\n",
        "df_test['Seats'].fillna(df_test.groupby('Engine').Seats.transform(\"median\"),inplace=True)"
      ],
      "execution_count": 46,
      "outputs": []
    },
    {
      "cell_type": "code",
      "metadata": {
        "id": "Sbxr2DnxG0Vw"
      },
      "source": [
        "df_train['Seats'].fillna(df_train.groupby('Price')['Seats'].transform(\"median\"),inplace=True)"
      ],
      "execution_count": 47,
      "outputs": []
    },
    {
      "cell_type": "code",
      "metadata": {
        "id": "-4tqdTz5G0V5"
      },
      "source": [
        "def med_fill(data):\n",
        "    data = data.fillna(data.median())\n",
        "    return data"
      ],
      "execution_count": 48,
      "outputs": []
    },
    {
      "cell_type": "code",
      "metadata": {
        "id": "Ek1545FnG0WA"
      },
      "source": [
        "df_train['Seats'] = med_fill(df_train['Seats'])\n",
        "df_test.Seats = med_fill(df_test.Seats)"
      ],
      "execution_count": 49,
      "outputs": []
    },
    {
      "cell_type": "markdown",
      "metadata": {
        "id": "wjN3qkepG0WK"
      },
      "source": [
        "### Hopefully this sort of method can prevent filling up or matching up with outliers further more.   Anyway we will do the outlier detection and treatment in the later stages. We can now move on to further missing value treatment"
      ]
    },
    {
      "cell_type": "code",
      "metadata": {
        "id": "gqq1KyAYG0WL"
      },
      "source": [
        "## As train data frame Mileage has some null values we can also fillit with median.\n",
        "df_train.Mileage = med_fill(df_train.Mileage)"
      ],
      "execution_count": 50,
      "outputs": []
    },
    {
      "cell_type": "code",
      "metadata": {
        "id": "wSuNBuobG0WT"
      },
      "source": [
        "df_train['Power'].fillna(df_train.groupby('Engine').Power.transform(\"median\"),inplace=True)\n",
        "df_test['Power'].fillna(df_test.groupby('Engine').Power.transform(\"median\"),inplace=True)"
      ],
      "execution_count": 51,
      "outputs": []
    },
    {
      "cell_type": "code",
      "metadata": {
        "id": "Nj9rxXRCG0Wa"
      },
      "source": [
        "#Also Power figures depend on Fuel consumption and transmission.\n",
        "df_train['Power'].fillna(df_train.groupby('Mileage')['Power'].transform(\"median\"),inplace=True)\n",
        "df_test['Power'].fillna(df_test.groupby('Mileage').Power.transform(\"median\"),inplace=True)"
      ],
      "execution_count": 52,
      "outputs": []
    },
    {
      "cell_type": "code",
      "metadata": {
        "id": "rvHy07-kG0Wg"
      },
      "source": [
        "df_train['Power'] = med_fill(df_train['Power'])\n",
        "df_test.Power = med_fill(df_test.Power)"
      ],
      "execution_count": 53,
      "outputs": []
    },
    {
      "cell_type": "code",
      "metadata": {
        "id": "8eBP66HEG0Wl",
        "outputId": "0eb23754-6386-412b-c906-122e5875d7b4",
        "colab": {
          "base_uri": "https://localhost:8080/",
          "height": 466
        }
      },
      "source": [
        "display(df_train.isnull().sum())\n",
        "print('\\n')\n",
        "display(df_test.isnull().sum())"
      ],
      "execution_count": 54,
      "outputs": [
        {
          "output_type": "display_data",
          "data": {
            "text/plain": [
              "Name                 0\n",
              "Location             0\n",
              "Year                 0\n",
              "Kilometers_Driven    0\n",
              "Fuel_Type            0\n",
              "Transmission         0\n",
              "Owner_Type           0\n",
              "Mileage              0\n",
              "Engine               0\n",
              "Power                0\n",
              "Seats                0\n",
              "Price                0\n",
              "dtype: int64"
            ]
          },
          "metadata": {
            "tags": []
          }
        },
        {
          "output_type": "stream",
          "text": [
            "\n",
            "\n"
          ],
          "name": "stdout"
        },
        {
          "output_type": "display_data",
          "data": {
            "text/plain": [
              "Name                 0\n",
              "Location             0\n",
              "Year                 0\n",
              "Kilometers_Driven    0\n",
              "Fuel_Type            0\n",
              "Transmission         0\n",
              "Owner_Type           0\n",
              "Mileage              0\n",
              "Engine               0\n",
              "Power                0\n",
              "Seats                0\n",
              "dtype: int64"
            ]
          },
          "metadata": {
            "tags": []
          }
        }
      ]
    },
    {
      "cell_type": "markdown",
      "metadata": {
        "id": "4R26qYbsG0Wp"
      },
      "source": [
        "### As Null values got filled we can futher move on to Oulier detection and its treatment"
      ]
    },
    {
      "cell_type": "code",
      "metadata": {
        "id": "7ZR80_nMG0Wr",
        "outputId": "5c7b5df3-1f4d-4055-a457-aad889e134b7",
        "colab": {
          "base_uri": "https://localhost:8080/",
          "height": 282
        }
      },
      "source": [
        "df_train.describe()"
      ],
      "execution_count": 55,
      "outputs": [
        {
          "output_type": "execute_result",
          "data": {
            "text/html": [
              "<div>\n",
              "<style scoped>\n",
              "    .dataframe tbody tr th:only-of-type {\n",
              "        vertical-align: middle;\n",
              "    }\n",
              "\n",
              "    .dataframe tbody tr th {\n",
              "        vertical-align: top;\n",
              "    }\n",
              "\n",
              "    .dataframe thead th {\n",
              "        text-align: right;\n",
              "    }\n",
              "</style>\n",
              "<table border=\"1\" class=\"dataframe\">\n",
              "  <thead>\n",
              "    <tr style=\"text-align: right;\">\n",
              "      <th></th>\n",
              "      <th>Year</th>\n",
              "      <th>Kilometers_Driven</th>\n",
              "      <th>Mileage</th>\n",
              "      <th>Engine</th>\n",
              "      <th>Power</th>\n",
              "      <th>Seats</th>\n",
              "      <th>Price</th>\n",
              "    </tr>\n",
              "  </thead>\n",
              "  <tbody>\n",
              "    <tr>\n",
              "      <th>count</th>\n",
              "      <td>6019.000000</td>\n",
              "      <td>6.019000e+03</td>\n",
              "      <td>6019.000000</td>\n",
              "      <td>6019.000000</td>\n",
              "      <td>6019.000000</td>\n",
              "      <td>6019.000000</td>\n",
              "      <td>6019.000000</td>\n",
              "    </tr>\n",
              "    <tr>\n",
              "      <th>mean</th>\n",
              "      <td>2013.358199</td>\n",
              "      <td>5.873838e+04</td>\n",
              "      <td>18.134966</td>\n",
              "      <td>1620.866755</td>\n",
              "      <td>112.602603</td>\n",
              "      <td>5.278119</td>\n",
              "      <td>9.479468</td>\n",
              "    </tr>\n",
              "    <tr>\n",
              "      <th>std</th>\n",
              "      <td>3.269742</td>\n",
              "      <td>9.126884e+04</td>\n",
              "      <td>4.581528</td>\n",
              "      <td>601.700401</td>\n",
              "      <td>53.643821</td>\n",
              "      <td>0.807536</td>\n",
              "      <td>11.187917</td>\n",
              "    </tr>\n",
              "    <tr>\n",
              "      <th>min</th>\n",
              "      <td>1998.000000</td>\n",
              "      <td>1.710000e+02</td>\n",
              "      <td>0.000000</td>\n",
              "      <td>72.000000</td>\n",
              "      <td>34.200000</td>\n",
              "      <td>0.000000</td>\n",
              "      <td>0.440000</td>\n",
              "    </tr>\n",
              "    <tr>\n",
              "      <th>25%</th>\n",
              "      <td>2011.000000</td>\n",
              "      <td>3.400000e+04</td>\n",
              "      <td>15.170000</td>\n",
              "      <td>1198.000000</td>\n",
              "      <td>74.000000</td>\n",
              "      <td>5.000000</td>\n",
              "      <td>3.500000</td>\n",
              "    </tr>\n",
              "    <tr>\n",
              "      <th>50%</th>\n",
              "      <td>2014.000000</td>\n",
              "      <td>5.300000e+04</td>\n",
              "      <td>18.150000</td>\n",
              "      <td>1493.000000</td>\n",
              "      <td>93.700000</td>\n",
              "      <td>5.000000</td>\n",
              "      <td>5.640000</td>\n",
              "    </tr>\n",
              "    <tr>\n",
              "      <th>75%</th>\n",
              "      <td>2016.000000</td>\n",
              "      <td>7.300000e+04</td>\n",
              "      <td>21.100000</td>\n",
              "      <td>1984.000000</td>\n",
              "      <td>138.100000</td>\n",
              "      <td>5.000000</td>\n",
              "      <td>9.950000</td>\n",
              "    </tr>\n",
              "    <tr>\n",
              "      <th>max</th>\n",
              "      <td>2019.000000</td>\n",
              "      <td>6.500000e+06</td>\n",
              "      <td>33.540000</td>\n",
              "      <td>5998.000000</td>\n",
              "      <td>560.000000</td>\n",
              "      <td>10.000000</td>\n",
              "      <td>160.000000</td>\n",
              "    </tr>\n",
              "  </tbody>\n",
              "</table>\n",
              "</div>"
            ],
            "text/plain": [
              "              Year  Kilometers_Driven  ...        Seats        Price\n",
              "count  6019.000000       6.019000e+03  ...  6019.000000  6019.000000\n",
              "mean   2013.358199       5.873838e+04  ...     5.278119     9.479468\n",
              "std       3.269742       9.126884e+04  ...     0.807536    11.187917\n",
              "min    1998.000000       1.710000e+02  ...     0.000000     0.440000\n",
              "25%    2011.000000       3.400000e+04  ...     5.000000     3.500000\n",
              "50%    2014.000000       5.300000e+04  ...     5.000000     5.640000\n",
              "75%    2016.000000       7.300000e+04  ...     5.000000     9.950000\n",
              "max    2019.000000       6.500000e+06  ...    10.000000   160.000000\n",
              "\n",
              "[8 rows x 7 columns]"
            ]
          },
          "metadata": {
            "tags": []
          },
          "execution_count": 55
        }
      ]
    },
    {
      "cell_type": "markdown",
      "metadata": {
        "id": "VGhvIEUVG0Wz"
      },
      "source": [
        "#### looks like 0.000 values in Mileage and seats which is not possible in any given cases for a used car so lets treat those outliers initially."
      ]
    },
    {
      "cell_type": "code",
      "metadata": {
        "id": "fhrmfcIFG0W0",
        "outputId": "a8d0536a-8058-4fb4-fb84-94658eed702d",
        "colab": {
          "base_uri": "https://localhost:8080/",
          "height": 0
        }
      },
      "source": [
        "df_test.describe()"
      ],
      "execution_count": 56,
      "outputs": [
        {
          "output_type": "execute_result",
          "data": {
            "text/html": [
              "<div>\n",
              "<style scoped>\n",
              "    .dataframe tbody tr th:only-of-type {\n",
              "        vertical-align: middle;\n",
              "    }\n",
              "\n",
              "    .dataframe tbody tr th {\n",
              "        vertical-align: top;\n",
              "    }\n",
              "\n",
              "    .dataframe thead th {\n",
              "        text-align: right;\n",
              "    }\n",
              "</style>\n",
              "<table border=\"1\" class=\"dataframe\">\n",
              "  <thead>\n",
              "    <tr style=\"text-align: right;\">\n",
              "      <th></th>\n",
              "      <th>Year</th>\n",
              "      <th>Kilometers_Driven</th>\n",
              "      <th>Mileage</th>\n",
              "      <th>Engine</th>\n",
              "      <th>Power</th>\n",
              "      <th>Seats</th>\n",
              "    </tr>\n",
              "  </thead>\n",
              "  <tbody>\n",
              "    <tr>\n",
              "      <th>count</th>\n",
              "      <td>1234.000000</td>\n",
              "      <td>1234.000000</td>\n",
              "      <td>1234.000000</td>\n",
              "      <td>1234.000000</td>\n",
              "      <td>1234.000000</td>\n",
              "      <td>1234.000000</td>\n",
              "    </tr>\n",
              "    <tr>\n",
              "      <th>mean</th>\n",
              "      <td>2013.400324</td>\n",
              "      <td>58507.288493</td>\n",
              "      <td>18.173857</td>\n",
              "      <td>1593.799028</td>\n",
              "      <td>109.790865</td>\n",
              "      <td>5.282010</td>\n",
              "    </tr>\n",
              "    <tr>\n",
              "      <th>std</th>\n",
              "      <td>3.179700</td>\n",
              "      <td>35598.702098</td>\n",
              "      <td>4.464615</td>\n",
              "      <td>564.820361</td>\n",
              "      <td>51.309854</td>\n",
              "      <td>0.822366</td>\n",
              "    </tr>\n",
              "    <tr>\n",
              "      <th>min</th>\n",
              "      <td>1996.000000</td>\n",
              "      <td>1000.000000</td>\n",
              "      <td>0.000000</td>\n",
              "      <td>624.000000</td>\n",
              "      <td>34.200000</td>\n",
              "      <td>2.000000</td>\n",
              "    </tr>\n",
              "    <tr>\n",
              "      <th>25%</th>\n",
              "      <td>2011.000000</td>\n",
              "      <td>34000.000000</td>\n",
              "      <td>15.215000</td>\n",
              "      <td>1198.000000</td>\n",
              "      <td>74.925000</td>\n",
              "      <td>5.000000</td>\n",
              "    </tr>\n",
              "    <tr>\n",
              "      <th>50%</th>\n",
              "      <td>2014.000000</td>\n",
              "      <td>54572.500000</td>\n",
              "      <td>18.250000</td>\n",
              "      <td>1461.000000</td>\n",
              "      <td>91.100000</td>\n",
              "      <td>5.000000</td>\n",
              "    </tr>\n",
              "    <tr>\n",
              "      <th>75%</th>\n",
              "      <td>2016.000000</td>\n",
              "      <td>75000.000000</td>\n",
              "      <td>21.100000</td>\n",
              "      <td>1968.000000</td>\n",
              "      <td>126.315000</td>\n",
              "      <td>5.000000</td>\n",
              "    </tr>\n",
              "    <tr>\n",
              "      <th>max</th>\n",
              "      <td>2019.000000</td>\n",
              "      <td>350000.000000</td>\n",
              "      <td>32.260000</td>\n",
              "      <td>5998.000000</td>\n",
              "      <td>616.000000</td>\n",
              "      <td>10.000000</td>\n",
              "    </tr>\n",
              "  </tbody>\n",
              "</table>\n",
              "</div>"
            ],
            "text/plain": [
              "              Year  Kilometers_Driven  ...        Power        Seats\n",
              "count  1234.000000        1234.000000  ...  1234.000000  1234.000000\n",
              "mean   2013.400324       58507.288493  ...   109.790865     5.282010\n",
              "std       3.179700       35598.702098  ...    51.309854     0.822366\n",
              "min    1996.000000        1000.000000  ...    34.200000     2.000000\n",
              "25%    2011.000000       34000.000000  ...    74.925000     5.000000\n",
              "50%    2014.000000       54572.500000  ...    91.100000     5.000000\n",
              "75%    2016.000000       75000.000000  ...   126.315000     5.000000\n",
              "max    2019.000000      350000.000000  ...   616.000000    10.000000\n",
              "\n",
              "[8 rows x 6 columns]"
            ]
          },
          "metadata": {
            "tags": []
          },
          "execution_count": 56
        }
      ]
    },
    {
      "cell_type": "code",
      "metadata": {
        "id": "ja9TWcWIG0W6",
        "outputId": "78c24cf7-af5c-447a-e631-219f3267e7f9",
        "colab": {
          "base_uri": "https://localhost:8080/",
          "height": 0
        }
      },
      "source": [
        "sns.distplot(df_train.Mileage)"
      ],
      "execution_count": 57,
      "outputs": [
        {
          "output_type": "execute_result",
          "data": {
            "text/plain": [
              "<matplotlib.axes._subplots.AxesSubplot at 0x7ffa9f06f7b8>"
            ]
          },
          "metadata": {
            "tags": []
          },
          "execution_count": 57
        },
        {
          "output_type": "display_data",
          "data": {
            "image/png": "[encoded data removed]",
            "text/plain": [
              "<Figure size 432x288 with 1 Axes>"
            ]
          },
          "metadata": {
            "tags": [],
            "needs_background": "light"
          }
        }
      ]
    },
    {
      "cell_type": "markdown",
      "metadata": {
        "id": "sho8NUPTG0XF"
      },
      "source": [
        "###### As Mileage is connected to Engine capacity for general case in Modern cars we  can replace the value according to that"
      ]
    },
    {
      "cell_type": "code",
      "metadata": {
        "id": "1O7S0_VXG0XG"
      },
      "source": [
        "df_train[df_train.Mileage==0] = df_train[df_train.Mileage==0].replace({'Mileage':0},df_train.groupby('Engine')['Mileage'].median().median())"
      ],
      "execution_count": 58,
      "outputs": []
    },
    {
      "cell_type": "code",
      "metadata": {
        "id": "F1STVlgiG0XM",
        "outputId": "f950a880-d6b9-4808-d2c4-2118d48b2beb",
        "colab": {
          "base_uri": "https://localhost:8080/",
          "height": 0
        }
      },
      "source": [
        "df_train.describe()"
      ],
      "execution_count": 59,
      "outputs": [
        {
          "output_type": "execute_result",
          "data": {
            "text/html": [
              "<div>\n",
              "<style scoped>\n",
              "    .dataframe tbody tr th:only-of-type {\n",
              "        vertical-align: middle;\n",
              "    }\n",
              "\n",
              "    .dataframe tbody tr th {\n",
              "        vertical-align: top;\n",
              "    }\n",
              "\n",
              "    .dataframe thead th {\n",
              "        text-align: right;\n",
              "    }\n",
              "</style>\n",
              "<table border=\"1\" class=\"dataframe\">\n",
              "  <thead>\n",
              "    <tr style=\"text-align: right;\">\n",
              "      <th></th>\n",
              "      <th>Year</th>\n",
              "      <th>Kilometers_Driven</th>\n",
              "      <th>Mileage</th>\n",
              "      <th>Engine</th>\n",
              "      <th>Power</th>\n",
              "      <th>Seats</th>\n",
              "      <th>Price</th>\n",
              "    </tr>\n",
              "  </thead>\n",
              "  <tbody>\n",
              "    <tr>\n",
              "      <th>count</th>\n",
              "      <td>6019.000000</td>\n",
              "      <td>6.019000e+03</td>\n",
              "      <td>6019.000000</td>\n",
              "      <td>6019.000000</td>\n",
              "      <td>6019.000000</td>\n",
              "      <td>6019.000000</td>\n",
              "      <td>6019.000000</td>\n",
              "    </tr>\n",
              "    <tr>\n",
              "      <th>mean</th>\n",
              "      <td>2013.358199</td>\n",
              "      <td>5.873838e+04</td>\n",
              "      <td>18.301492</td>\n",
              "      <td>1620.866755</td>\n",
              "      <td>112.602603</td>\n",
              "      <td>5.278119</td>\n",
              "      <td>9.479468</td>\n",
              "    </tr>\n",
              "    <tr>\n",
              "      <th>std</th>\n",
              "      <td>3.269742</td>\n",
              "      <td>9.126884e+04</td>\n",
              "      <td>4.168545</td>\n",
              "      <td>601.700401</td>\n",
              "      <td>53.643821</td>\n",
              "      <td>0.807536</td>\n",
              "      <td>11.187917</td>\n",
              "    </tr>\n",
              "    <tr>\n",
              "      <th>min</th>\n",
              "      <td>1998.000000</td>\n",
              "      <td>1.710000e+02</td>\n",
              "      <td>6.400000</td>\n",
              "      <td>72.000000</td>\n",
              "      <td>34.200000</td>\n",
              "      <td>0.000000</td>\n",
              "      <td>0.440000</td>\n",
              "    </tr>\n",
              "    <tr>\n",
              "      <th>25%</th>\n",
              "      <td>2011.000000</td>\n",
              "      <td>3.400000e+04</td>\n",
              "      <td>15.170000</td>\n",
              "      <td>1198.000000</td>\n",
              "      <td>74.000000</td>\n",
              "      <td>5.000000</td>\n",
              "      <td>3.500000</td>\n",
              "    </tr>\n",
              "    <tr>\n",
              "      <th>50%</th>\n",
              "      <td>2014.000000</td>\n",
              "      <td>5.300000e+04</td>\n",
              "      <td>18.150000</td>\n",
              "      <td>1493.000000</td>\n",
              "      <td>93.700000</td>\n",
              "      <td>5.000000</td>\n",
              "      <td>5.640000</td>\n",
              "    </tr>\n",
              "    <tr>\n",
              "      <th>75%</th>\n",
              "      <td>2016.000000</td>\n",
              "      <td>7.300000e+04</td>\n",
              "      <td>21.100000</td>\n",
              "      <td>1984.000000</td>\n",
              "      <td>138.100000</td>\n",
              "      <td>5.000000</td>\n",
              "      <td>9.950000</td>\n",
              "    </tr>\n",
              "    <tr>\n",
              "      <th>max</th>\n",
              "      <td>2019.000000</td>\n",
              "      <td>6.500000e+06</td>\n",
              "      <td>33.540000</td>\n",
              "      <td>5998.000000</td>\n",
              "      <td>560.000000</td>\n",
              "      <td>10.000000</td>\n",
              "      <td>160.000000</td>\n",
              "    </tr>\n",
              "  </tbody>\n",
              "</table>\n",
              "</div>"
            ],
            "text/plain": [
              "              Year  Kilometers_Driven  ...        Seats        Price\n",
              "count  6019.000000       6.019000e+03  ...  6019.000000  6019.000000\n",
              "mean   2013.358199       5.873838e+04  ...     5.278119     9.479468\n",
              "std       3.269742       9.126884e+04  ...     0.807536    11.187917\n",
              "min    1998.000000       1.710000e+02  ...     0.000000     0.440000\n",
              "25%    2011.000000       3.400000e+04  ...     5.000000     3.500000\n",
              "50%    2014.000000       5.300000e+04  ...     5.000000     5.640000\n",
              "75%    2016.000000       7.300000e+04  ...     5.000000     9.950000\n",
              "max    2019.000000       6.500000e+06  ...    10.000000   160.000000\n",
              "\n",
              "[8 rows x 7 columns]"
            ]
          },
          "metadata": {
            "tags": []
          },
          "execution_count": 59
        }
      ]
    },
    {
      "cell_type": "code",
      "metadata": {
        "id": "eDoVkFZQG0XS",
        "outputId": "5ba95395-9ad9-469d-a418-4975ef021d0b",
        "colab": {
          "base_uri": "https://localhost:8080/",
          "height": 0
        }
      },
      "source": [
        "sns.distplot(df_train.Mileage)"
      ],
      "execution_count": 60,
      "outputs": [
        {
          "output_type": "execute_result",
          "data": {
            "text/plain": [
              "<matplotlib.axes._subplots.AxesSubplot at 0x7ffa9ed76550>"
            ]
          },
          "metadata": {
            "tags": []
          },
          "execution_count": 60
        },
        {
          "output_type": "display_data",
          "data": {
            "image/png": "[encoded data removed]",
            "text/plain": [
              "<Figure size 432x288 with 1 Axes>"
            ]
          },
          "metadata": {
            "tags": [],
            "needs_background": "light"
          }
        }
      ]
    },
    {
      "cell_type": "code",
      "metadata": {
        "id": "cDH_iesbG0XZ"
      },
      "source": [
        "df_test[df_test.Mileage==0] = df_test[df_test.Mileage==0].replace({'Mileage':0},df_test.groupby('Engine')['Mileage'].median().median())"
      ],
      "execution_count": 61,
      "outputs": []
    },
    {
      "cell_type": "code",
      "metadata": {
        "id": "UlYaZ304G0Xf",
        "outputId": "af39acda-9f3e-4ca0-eb0e-f7498c470a79",
        "colab": {
          "base_uri": "https://localhost:8080/"
        }
      },
      "source": [
        "df_test.Mileage.describe()"
      ],
      "execution_count": 62,
      "outputs": [
        {
          "output_type": "execute_result",
          "data": {
            "text/plain": [
              "count    1234.000000\n",
              "mean       18.333829\n",
              "std         4.064357\n",
              "min         7.940000\n",
              "25%        15.215000\n",
              "50%        18.250000\n",
              "75%        21.100000\n",
              "max        32.260000\n",
              "Name: Mileage, dtype: float64"
            ]
          },
          "metadata": {
            "tags": []
          },
          "execution_count": 62
        }
      ]
    },
    {
      "cell_type": "code",
      "metadata": {
        "id": "a4VWOHz7G0Xk",
        "outputId": "113fc2f9-2de7-4ff8-bca0-e84321b70f8b",
        "colab": {
          "base_uri": "https://localhost:8080/",
          "height": 0
        }
      },
      "source": [
        "df_train[df_train.Seats==0]\n"
      ],
      "execution_count": 63,
      "outputs": [
        {
          "output_type": "execute_result",
          "data": {
            "text/html": [
              "<div>\n",
              "<style scoped>\n",
              "    .dataframe tbody tr th:only-of-type {\n",
              "        vertical-align: middle;\n",
              "    }\n",
              "\n",
              "    .dataframe tbody tr th {\n",
              "        vertical-align: top;\n",
              "    }\n",
              "\n",
              "    .dataframe thead th {\n",
              "        text-align: right;\n",
              "    }\n",
              "</style>\n",
              "<table border=\"1\" class=\"dataframe\">\n",
              "  <thead>\n",
              "    <tr style=\"text-align: right;\">\n",
              "      <th></th>\n",
              "      <th>Name</th>\n",
              "      <th>Location</th>\n",
              "      <th>Year</th>\n",
              "      <th>Kilometers_Driven</th>\n",
              "      <th>Fuel_Type</th>\n",
              "      <th>Transmission</th>\n",
              "      <th>Owner_Type</th>\n",
              "      <th>Mileage</th>\n",
              "      <th>Engine</th>\n",
              "      <th>Power</th>\n",
              "      <th>Seats</th>\n",
              "      <th>Price</th>\n",
              "    </tr>\n",
              "  </thead>\n",
              "  <tbody>\n",
              "    <tr>\n",
              "      <th>3999</th>\n",
              "      <td>Audi A4 3.2 FSI Tiptronic Quattro</td>\n",
              "      <td>Hyderabad</td>\n",
              "      <td>2012</td>\n",
              "      <td>125000</td>\n",
              "      <td>Petrol</td>\n",
              "      <td>Automatic</td>\n",
              "      <td>First</td>\n",
              "      <td>10.5</td>\n",
              "      <td>3197.0</td>\n",
              "      <td>120.0</td>\n",
              "      <td>0.0</td>\n",
              "      <td>18.0</td>\n",
              "    </tr>\n",
              "  </tbody>\n",
              "</table>\n",
              "</div>"
            ],
            "text/plain": [
              "                                   Name   Location  Year  ...  Power Seats Price\n",
              "3999  Audi A4 3.2 FSI Tiptronic Quattro  Hyderabad  2012  ...  120.0   0.0  18.0\n",
              "\n",
              "[1 rows x 12 columns]"
            ]
          },
          "metadata": {
            "tags": []
          },
          "execution_count": 63
        }
      ]
    },
    {
      "cell_type": "code",
      "metadata": {
        "id": "N4YyVepSG0Xq"
      },
      "source": [
        "def impute_seat(data):\n",
        "    if data == 0:\n",
        "        return 5\n",
        "    else:\n",
        "        return data\n",
        "seat_set = lambda x: impute_seat(x)"
      ],
      "execution_count": 64,
      "outputs": []
    },
    {
      "cell_type": "code",
      "metadata": {
        "id": "Mrd371RnG0Xw"
      },
      "source": [
        "df_train.Seats = df_train.Seats.apply(seat_set)"
      ],
      "execution_count": 65,
      "outputs": []
    },
    {
      "cell_type": "markdown",
      "metadata": {
        "id": "C5tRiSzzG0X1"
      },
      "source": [
        "#### zero value ouliers has cleared ,now we need more specific oulier treatment and category feature handling"
      ]
    },
    {
      "cell_type": "code",
      "metadata": {
        "id": "8WZoay_LG0X2",
        "outputId": "79b40a45-1808-4d2b-98f6-7ed5efede2df",
        "colab": {
          "base_uri": "https://localhost:8080/",
          "height": 0
        }
      },
      "source": [
        "df_train[(df_train.Engine<1000) & (df_train.Mileage>30)]"
      ],
      "execution_count": 66,
      "outputs": [
        {
          "output_type": "execute_result",
          "data": {
            "text/html": [
              "<div>\n",
              "<style scoped>\n",
              "    .dataframe tbody tr th:only-of-type {\n",
              "        vertical-align: middle;\n",
              "    }\n",
              "\n",
              "    .dataframe tbody tr th {\n",
              "        vertical-align: top;\n",
              "    }\n",
              "\n",
              "    .dataframe thead th {\n",
              "        text-align: right;\n",
              "    }\n",
              "</style>\n",
              "<table border=\"1\" class=\"dataframe\">\n",
              "  <thead>\n",
              "    <tr style=\"text-align: right;\">\n",
              "      <th></th>\n",
              "      <th>Name</th>\n",
              "      <th>Location</th>\n",
              "      <th>Year</th>\n",
              "      <th>Kilometers_Driven</th>\n",
              "      <th>Fuel_Type</th>\n",
              "      <th>Transmission</th>\n",
              "      <th>Owner_Type</th>\n",
              "      <th>Mileage</th>\n",
              "      <th>Engine</th>\n",
              "      <th>Power</th>\n",
              "      <th>Seats</th>\n",
              "      <th>Price</th>\n",
              "    </tr>\n",
              "  </thead>\n",
              "  <tbody>\n",
              "    <tr>\n",
              "      <th>1269</th>\n",
              "      <td>Maruti Alto 800 2016-2019 CNG LXI</td>\n",
              "      <td>Mumbai</td>\n",
              "      <td>2018</td>\n",
              "      <td>10600</td>\n",
              "      <td>CNG</td>\n",
              "      <td>Manual</td>\n",
              "      <td>First</td>\n",
              "      <td>33.44</td>\n",
              "      <td>796.0</td>\n",
              "      <td>40.30</td>\n",
              "      <td>4.0</td>\n",
              "      <td>3.50</td>\n",
              "    </tr>\n",
              "    <tr>\n",
              "      <th>1332</th>\n",
              "      <td>Maruti Wagon R CNG LXI</td>\n",
              "      <td>Pune</td>\n",
              "      <td>2013</td>\n",
              "      <td>79494</td>\n",
              "      <td>CNG</td>\n",
              "      <td>Manual</td>\n",
              "      <td>First</td>\n",
              "      <td>33.54</td>\n",
              "      <td>998.0</td>\n",
              "      <td>67.04</td>\n",
              "      <td>5.0</td>\n",
              "      <td>2.96</td>\n",
              "    </tr>\n",
              "    <tr>\n",
              "      <th>2059</th>\n",
              "      <td>Maruti Wagon R CNG LXI</td>\n",
              "      <td>Mumbai</td>\n",
              "      <td>2013</td>\n",
              "      <td>54000</td>\n",
              "      <td>CNG</td>\n",
              "      <td>Manual</td>\n",
              "      <td>First</td>\n",
              "      <td>33.54</td>\n",
              "      <td>998.0</td>\n",
              "      <td>67.04</td>\n",
              "      <td>5.0</td>\n",
              "      <td>3.05</td>\n",
              "    </tr>\n",
              "    <tr>\n",
              "      <th>2371</th>\n",
              "      <td>Maruti Wagon R CNG LXI</td>\n",
              "      <td>Pune</td>\n",
              "      <td>2014</td>\n",
              "      <td>29202</td>\n",
              "      <td>CNG</td>\n",
              "      <td>Manual</td>\n",
              "      <td>First</td>\n",
              "      <td>33.54</td>\n",
              "      <td>998.0</td>\n",
              "      <td>67.04</td>\n",
              "      <td>5.0</td>\n",
              "      <td>3.90</td>\n",
              "    </tr>\n",
              "    <tr>\n",
              "      <th>2701</th>\n",
              "      <td>Maruti Celerio CNG VXI MT</td>\n",
              "      <td>Kochi</td>\n",
              "      <td>2016</td>\n",
              "      <td>70536</td>\n",
              "      <td>CNG</td>\n",
              "      <td>Manual</td>\n",
              "      <td>First</td>\n",
              "      <td>31.79</td>\n",
              "      <td>998.0</td>\n",
              "      <td>58.33</td>\n",
              "      <td>5.0</td>\n",
              "      <td>4.58</td>\n",
              "    </tr>\n",
              "    <tr>\n",
              "      <th>3119</th>\n",
              "      <td>Maruti Alto K10 LXI CNG Optional</td>\n",
              "      <td>Kochi</td>\n",
              "      <td>2018</td>\n",
              "      <td>44202</td>\n",
              "      <td>CNG</td>\n",
              "      <td>Manual</td>\n",
              "      <td>First</td>\n",
              "      <td>32.26</td>\n",
              "      <td>998.0</td>\n",
              "      <td>58.20</td>\n",
              "      <td>4.0</td>\n",
              "      <td>4.00</td>\n",
              "    </tr>\n",
              "    <tr>\n",
              "      <th>3129</th>\n",
              "      <td>Maruti Wagon R CNG LXI</td>\n",
              "      <td>Delhi</td>\n",
              "      <td>2014</td>\n",
              "      <td>74663</td>\n",
              "      <td>CNG</td>\n",
              "      <td>Manual</td>\n",
              "      <td>First</td>\n",
              "      <td>33.54</td>\n",
              "      <td>998.0</td>\n",
              "      <td>67.04</td>\n",
              "      <td>5.0</td>\n",
              "      <td>3.25</td>\n",
              "    </tr>\n",
              "    <tr>\n",
              "      <th>3553</th>\n",
              "      <td>Maruti Alto 800 2016-2019 CNG LXI</td>\n",
              "      <td>Pune</td>\n",
              "      <td>2015</td>\n",
              "      <td>18000</td>\n",
              "      <td>CNG</td>\n",
              "      <td>Manual</td>\n",
              "      <td>First</td>\n",
              "      <td>33.44</td>\n",
              "      <td>796.0</td>\n",
              "      <td>40.30</td>\n",
              "      <td>4.0</td>\n",
              "      <td>3.00</td>\n",
              "    </tr>\n",
              "    <tr>\n",
              "      <th>3869</th>\n",
              "      <td>Maruti Alto 800 2016-2019 CNG LXI</td>\n",
              "      <td>Delhi</td>\n",
              "      <td>2012</td>\n",
              "      <td>65537</td>\n",
              "      <td>CNG</td>\n",
              "      <td>Manual</td>\n",
              "      <td>Second</td>\n",
              "      <td>33.44</td>\n",
              "      <td>796.0</td>\n",
              "      <td>40.30</td>\n",
              "      <td>4.0</td>\n",
              "      <td>2.10</td>\n",
              "    </tr>\n",
              "    <tr>\n",
              "      <th>4141</th>\n",
              "      <td>Maruti Wagon R CNG LXI</td>\n",
              "      <td>Mumbai</td>\n",
              "      <td>2014</td>\n",
              "      <td>47200</td>\n",
              "      <td>CNG</td>\n",
              "      <td>Manual</td>\n",
              "      <td>First</td>\n",
              "      <td>33.54</td>\n",
              "      <td>998.0</td>\n",
              "      <td>67.04</td>\n",
              "      <td>5.0</td>\n",
              "      <td>2.85</td>\n",
              "    </tr>\n",
              "    <tr>\n",
              "      <th>4769</th>\n",
              "      <td>Maruti Alto 800 2016-2019 CNG LXI</td>\n",
              "      <td>Kochi</td>\n",
              "      <td>2017</td>\n",
              "      <td>24310</td>\n",
              "      <td>CNG</td>\n",
              "      <td>Manual</td>\n",
              "      <td>First</td>\n",
              "      <td>33.44</td>\n",
              "      <td>796.0</td>\n",
              "      <td>40.30</td>\n",
              "      <td>4.0</td>\n",
              "      <td>3.70</td>\n",
              "    </tr>\n",
              "    <tr>\n",
              "      <th>5178</th>\n",
              "      <td>Maruti Celerio CNG VXI MT</td>\n",
              "      <td>Delhi</td>\n",
              "      <td>2015</td>\n",
              "      <td>64687</td>\n",
              "      <td>CNG</td>\n",
              "      <td>Manual</td>\n",
              "      <td>First</td>\n",
              "      <td>31.79</td>\n",
              "      <td>998.0</td>\n",
              "      <td>58.33</td>\n",
              "      <td>5.0</td>\n",
              "      <td>3.80</td>\n",
              "    </tr>\n",
              "    <tr>\n",
              "      <th>5710</th>\n",
              "      <td>Maruti Alto 800 CNG LXI</td>\n",
              "      <td>Mumbai</td>\n",
              "      <td>2013</td>\n",
              "      <td>26200</td>\n",
              "      <td>CNG</td>\n",
              "      <td>Manual</td>\n",
              "      <td>First</td>\n",
              "      <td>30.46</td>\n",
              "      <td>796.0</td>\n",
              "      <td>47.30</td>\n",
              "      <td>5.0</td>\n",
              "      <td>2.15</td>\n",
              "    </tr>\n",
              "    <tr>\n",
              "      <th>5935</th>\n",
              "      <td>Maruti Alto K10 LXI CNG</td>\n",
              "      <td>Pune</td>\n",
              "      <td>2015</td>\n",
              "      <td>59525</td>\n",
              "      <td>CNG</td>\n",
              "      <td>Manual</td>\n",
              "      <td>Second</td>\n",
              "      <td>32.26</td>\n",
              "      <td>998.0</td>\n",
              "      <td>58.20</td>\n",
              "      <td>4.0</td>\n",
              "      <td>3.10</td>\n",
              "    </tr>\n",
              "  </tbody>\n",
              "</table>\n",
              "</div>"
            ],
            "text/plain": [
              "                                   Name Location  Year  ...  Power Seats Price\n",
              "1269  Maruti Alto 800 2016-2019 CNG LXI   Mumbai  2018  ...  40.30   4.0  3.50\n",
              "1332             Maruti Wagon R CNG LXI     Pune  2013  ...  67.04   5.0  2.96\n",
              "2059             Maruti Wagon R CNG LXI   Mumbai  2013  ...  67.04   5.0  3.05\n",
              "2371             Maruti Wagon R CNG LXI     Pune  2014  ...  67.04   5.0  3.90\n",
              "2701          Maruti Celerio CNG VXI MT    Kochi  2016  ...  58.33   5.0  4.58\n",
              "3119   Maruti Alto K10 LXI CNG Optional    Kochi  2018  ...  58.20   4.0  4.00\n",
              "3129             Maruti Wagon R CNG LXI    Delhi  2014  ...  67.04   5.0  3.25\n",
              "3553  Maruti Alto 800 2016-2019 CNG LXI     Pune  2015  ...  40.30   4.0  3.00\n",
              "3869  Maruti Alto 800 2016-2019 CNG LXI    Delhi  2012  ...  40.30   4.0  2.10\n",
              "4141             Maruti Wagon R CNG LXI   Mumbai  2014  ...  67.04   5.0  2.85\n",
              "4769  Maruti Alto 800 2016-2019 CNG LXI    Kochi  2017  ...  40.30   4.0  3.70\n",
              "5178          Maruti Celerio CNG VXI MT    Delhi  2015  ...  58.33   5.0  3.80\n",
              "5710            Maruti Alto 800 CNG LXI   Mumbai  2013  ...  47.30   5.0  2.15\n",
              "5935            Maruti Alto K10 LXI CNG     Pune  2015  ...  58.20   4.0  3.10\n",
              "\n",
              "[14 rows x 12 columns]"
            ]
          },
          "metadata": {
            "tags": []
          },
          "execution_count": 66
        }
      ]
    },
    {
      "cell_type": "markdown",
      "metadata": {
        "id": "onLATziPG0X7"
      },
      "source": [
        "##### Here we can see most CNG vehicles which are having an engine capacity less than 1000cc shows mileage figures more than avg 0f 30. For the better performance of the model we need to readjusat those values\n"
      ]
    },
    {
      "cell_type": "code",
      "metadata": {
        "id": "Se4FYc2KG0X8",
        "outputId": "e2be07cf-700e-4ab2-8261-cf29def41ab6",
        "colab": {
          "base_uri": "https://localhost:8080/",
          "height": 0
        }
      },
      "source": [
        "df_test[(df_test.Engine<1000) & (df_test.Mileage>30)]"
      ],
      "execution_count": 67,
      "outputs": [
        {
          "output_type": "execute_result",
          "data": {
            "text/html": [
              "<div>\n",
              "<style scoped>\n",
              "    .dataframe tbody tr th:only-of-type {\n",
              "        vertical-align: middle;\n",
              "    }\n",
              "\n",
              "    .dataframe tbody tr th {\n",
              "        vertical-align: top;\n",
              "    }\n",
              "\n",
              "    .dataframe thead th {\n",
              "        text-align: right;\n",
              "    }\n",
              "</style>\n",
              "<table border=\"1\" class=\"dataframe\">\n",
              "  <thead>\n",
              "    <tr style=\"text-align: right;\">\n",
              "      <th></th>\n",
              "      <th>Name</th>\n",
              "      <th>Location</th>\n",
              "      <th>Year</th>\n",
              "      <th>Kilometers_Driven</th>\n",
              "      <th>Fuel_Type</th>\n",
              "      <th>Transmission</th>\n",
              "      <th>Owner_Type</th>\n",
              "      <th>Mileage</th>\n",
              "      <th>Engine</th>\n",
              "      <th>Power</th>\n",
              "      <th>Seats</th>\n",
              "    </tr>\n",
              "  </thead>\n",
              "  <tbody>\n",
              "    <tr>\n",
              "      <th>0</th>\n",
              "      <td>Maruti Alto K10 LXI CNG</td>\n",
              "      <td>Delhi</td>\n",
              "      <td>2014</td>\n",
              "      <td>40929</td>\n",
              "      <td>CNG</td>\n",
              "      <td>Manual</td>\n",
              "      <td>First</td>\n",
              "      <td>32.26</td>\n",
              "      <td>998.0</td>\n",
              "      <td>58.2</td>\n",
              "      <td>4.0</td>\n",
              "    </tr>\n",
              "    <tr>\n",
              "      <th>519</th>\n",
              "      <td>Maruti Alto K10 LXI CNG</td>\n",
              "      <td>Kochi</td>\n",
              "      <td>2015</td>\n",
              "      <td>47490</td>\n",
              "      <td>CNG</td>\n",
              "      <td>Manual</td>\n",
              "      <td>First</td>\n",
              "      <td>32.26</td>\n",
              "      <td>998.0</td>\n",
              "      <td>58.2</td>\n",
              "      <td>4.0</td>\n",
              "    </tr>\n",
              "    <tr>\n",
              "      <th>769</th>\n",
              "      <td>Maruti Alto K10 LXI CNG Optional</td>\n",
              "      <td>Delhi</td>\n",
              "      <td>2017</td>\n",
              "      <td>33000</td>\n",
              "      <td>CNG</td>\n",
              "      <td>Manual</td>\n",
              "      <td>First</td>\n",
              "      <td>32.26</td>\n",
              "      <td>998.0</td>\n",
              "      <td>58.2</td>\n",
              "      <td>4.0</td>\n",
              "    </tr>\n",
              "    <tr>\n",
              "      <th>939</th>\n",
              "      <td>Maruti Alto 800 CNG LXI</td>\n",
              "      <td>Kolkata</td>\n",
              "      <td>2013</td>\n",
              "      <td>14311</td>\n",
              "      <td>CNG</td>\n",
              "      <td>Manual</td>\n",
              "      <td>First</td>\n",
              "      <td>30.46</td>\n",
              "      <td>796.0</td>\n",
              "      <td>47.3</td>\n",
              "      <td>5.0</td>\n",
              "    </tr>\n",
              "  </tbody>\n",
              "</table>\n",
              "</div>"
            ],
            "text/plain": [
              "                                 Name Location  Year  ...  Engine Power Seats\n",
              "0             Maruti Alto K10 LXI CNG    Delhi  2014  ...   998.0  58.2   4.0\n",
              "519           Maruti Alto K10 LXI CNG    Kochi  2015  ...   998.0  58.2   4.0\n",
              "769  Maruti Alto K10 LXI CNG Optional    Delhi  2017  ...   998.0  58.2   4.0\n",
              "939           Maruti Alto 800 CNG LXI  Kolkata  2013  ...   796.0  47.3   5.0\n",
              "\n",
              "[4 rows x 11 columns]"
            ]
          },
          "metadata": {
            "tags": []
          },
          "execution_count": 67
        }
      ]
    },
    {
      "cell_type": "code",
      "metadata": {
        "id": "gVEvtTLGG0YD",
        "outputId": "0769145c-e9ff-440a-9da9-b828037803fa",
        "colab": {
          "base_uri": "https://localhost:8080/",
          "height": 0
        }
      },
      "source": [
        "sns.violinplot(df_train.Mileage)"
      ],
      "execution_count": 68,
      "outputs": [
        {
          "output_type": "execute_result",
          "data": {
            "text/plain": [
              "<matplotlib.axes._subplots.AxesSubplot at 0x7ffa9ed084a8>"
            ]
          },
          "metadata": {
            "tags": []
          },
          "execution_count": 68
        },
        {
          "output_type": "display_data",
          "data": {
            "image/png": "[encoded data removed]",
            "text/plain": [
              "<Figure size 432x288 with 1 Axes>"
            ]
          },
          "metadata": {
            "tags": [],
            "needs_background": "light"
          }
        }
      ]
    },
    {
      "cell_type": "code",
      "metadata": {
        "id": "_VGxJJ3GG0YI",
        "outputId": "568034d8-4c2a-42b7-d13b-11a6764308fa",
        "colab": {
          "base_uri": "https://localhost:8080/"
        }
      },
      "source": [
        "df_train.Mileage.describe()"
      ],
      "execution_count": 69,
      "outputs": [
        {
          "output_type": "execute_result",
          "data": {
            "text/plain": [
              "count    6019.000000\n",
              "mean       18.301492\n",
              "std         4.168545\n",
              "min         6.400000\n",
              "25%        15.170000\n",
              "50%        18.150000\n",
              "75%        21.100000\n",
              "max        33.540000\n",
              "Name: Mileage, dtype: float64"
            ]
          },
          "metadata": {
            "tags": []
          },
          "execution_count": 69
        }
      ]
    },
    {
      "cell_type": "markdown",
      "metadata": {
        "id": "icyO-QsRG0YR"
      },
      "source": [
        "#### conditionally we can assert that any value in Mileage which is more than 3rd std normal value will be squished towards that 3rd normal dist. range"
      ]
    },
    {
      "cell_type": "code",
      "metadata": {
        "id": "EX9IF6HcG0YS",
        "outputId": "cee6b6b0-60b1-4cb9-d8f7-e6dc754424a5",
        "colab": {
          "base_uri": "https://localhost:8080/"
        }
      },
      "source": [
        "\n",
        "mil_outlr_adj = df_train.Mileage.mean() + 3 * df_train.Mileage.std()\n",
        "mil_outlr_adj"
      ],
      "execution_count": 70,
      "outputs": [
        {
          "output_type": "execute_result",
          "data": {
            "text/plain": [
              "30.807128167156517"
            ]
          },
          "metadata": {
            "tags": []
          },
          "execution_count": 70
        }
      ]
    },
    {
      "cell_type": "code",
      "metadata": {
        "id": "xSIlZYS4G0YW"
      },
      "source": [
        "df_train['Mileage'] = np.where(df_train.Mileage > mil_outlr_adj ,30,df_train.Mileage)"
      ],
      "execution_count": 71,
      "outputs": []
    },
    {
      "cell_type": "code",
      "metadata": {
        "id": "9N_pa-WFG0Ya",
        "outputId": "ba555dee-9ff4-44c4-dbb8-fa2062c75562",
        "colab": {
          "base_uri": "https://localhost:8080/"
        }
      },
      "source": [
        "df_train.Mileage.describe()"
      ],
      "execution_count": 72,
      "outputs": [
        {
          "output_type": "execute_result",
          "data": {
            "text/plain": [
              "count    6019.000000\n",
              "mean       18.294919\n",
              "std         4.147516\n",
              "min         6.400000\n",
              "25%        15.170000\n",
              "50%        18.150000\n",
              "75%        21.100000\n",
              "max        30.460000\n",
              "Name: Mileage, dtype: float64"
            ]
          },
          "metadata": {
            "tags": []
          },
          "execution_count": 72
        }
      ]
    },
    {
      "cell_type": "code",
      "metadata": {
        "id": "Dk2ZwybwG0Ye",
        "outputId": "4278519e-646a-443e-a842-de4dc3daf6b5",
        "colab": {
          "base_uri": "https://localhost:8080/",
          "height": 296
        }
      },
      "source": [
        "sns.violinplot(df_train.Mileage)"
      ],
      "execution_count": 73,
      "outputs": [
        {
          "output_type": "execute_result",
          "data": {
            "text/plain": [
              "<matplotlib.axes._subplots.AxesSubplot at 0x7ffa9ec91048>"
            ]
          },
          "metadata": {
            "tags": []
          },
          "execution_count": 73
        },
        {
          "output_type": "display_data",
          "data": {
            "image/png": "[encoded data removed]",
            "text/plain": [
              "<Figure size 432x288 with 1 Axes>"
            ]
          },
          "metadata": {
            "tags": [],
            "needs_background": "light"
          }
        }
      ]
    },
    {
      "cell_type": "code",
      "metadata": {
        "id": "iwRZHA4CG0Yj",
        "outputId": "8a8c2b7b-7fc7-46b0-ea6e-a8028c000ef7",
        "colab": {
          "base_uri": "https://localhost:8080/"
        }
      },
      "source": [
        "miltes_outlr_adj = df_test.Mileage.mean() + 3 * df_test.Mileage.std()\n",
        "miltes_outlr_adj"
      ],
      "execution_count": 74,
      "outputs": [
        {
          "output_type": "execute_result",
          "data": {
            "text/plain": [
              "30.52689875917077"
            ]
          },
          "metadata": {
            "tags": []
          },
          "execution_count": 74
        }
      ]
    },
    {
      "cell_type": "code",
      "metadata": {
        "id": "JoXrtsZuG0Ys"
      },
      "source": [
        "df_test['Mileage'] = np.where(df_test.Mileage > miltes_outlr_adj ,30,df_test.Mileage)"
      ],
      "execution_count": 75,
      "outputs": []
    },
    {
      "cell_type": "code",
      "metadata": {
        "id": "FxhMTl5-G0Yx",
        "outputId": "c2020ac8-e075-48e9-eba6-01f507193ab4",
        "colab": {
          "base_uri": "https://localhost:8080/",
          "height": 446
        }
      },
      "source": [
        "print(df_test.Mileage.describe())\n",
        "sns.boxplot(df_test.Mileage)"
      ],
      "execution_count": 76,
      "outputs": [
        {
          "output_type": "stream",
          "text": [
            "count    1234.000000\n",
            "mean       18.328335\n",
            "std         4.047004\n",
            "min         7.940000\n",
            "25%        15.215000\n",
            "50%        18.250000\n",
            "75%        21.100000\n",
            "max        30.460000\n",
            "Name: Mileage, dtype: float64\n"
          ],
          "name": "stdout"
        },
        {
          "output_type": "execute_result",
          "data": {
            "text/plain": [
              "<matplotlib.axes._subplots.AxesSubplot at 0x7ffa9ebf3358>"
            ]
          },
          "metadata": {
            "tags": []
          },
          "execution_count": 76
        },
        {
          "output_type": "display_data",
          "data": {
            "image/png": "[encoded data removed]",
            "text/plain": [
              "<Figure size 432x288 with 1 Axes>"
            ]
          },
          "metadata": {
            "tags": [],
            "needs_background": "light"
          }
        }
      ]
    },
    {
      "cell_type": "code",
      "metadata": {
        "id": "uc7RSh-sG0Y1",
        "outputId": "37a3ce16-f607-4d63-eb23-dc2783e177c1",
        "colab": {
          "base_uri": "https://localhost:8080/"
        }
      },
      "source": [
        "num_feat_tr = df_train.select_dtypes(include=[np.int64,np.float64]).columns.to_list() #[:-1]\n",
        "num_feat_tes = df_test.select_dtypes(include=[np.int64,np.float64]).columns.to_list()\n",
        "print(num_feat_tr),print(num_feat_tes)\n",
        "num_feat_tes.remove(\"Year\")\n",
        "num_feat_tes.remove('Seats') ## for now we can skip one feature Seats for model building."
      ],
      "execution_count": 77,
      "outputs": [
        {
          "output_type": "stream",
          "text": [
            "['Year', 'Kilometers_Driven', 'Mileage', 'Engine', 'Power', 'Seats', 'Price']\n",
            "['Year', 'Kilometers_Driven', 'Mileage', 'Engine', 'Power', 'Seats']\n"
          ],
          "name": "stdout"
        }
      ]
    },
    {
      "cell_type": "code",
      "metadata": {
        "id": "nNbLa1J_G0Y6",
        "outputId": "3eae39a3-a72a-4a3a-9b97-8c3d45f672b7",
        "colab": {
          "base_uri": "https://localhost:8080/"
        }
      },
      "source": [
        "cat_cols = [feat for feat in df_train.columns if df_train[feat].dtypes=='O']\n",
        "cat_cols\n",
        "# cat_cols.remove('Name')"
      ],
      "execution_count": 78,
      "outputs": [
        {
          "output_type": "execute_result",
          "data": {
            "text/plain": [
              "['Name', 'Location', 'Fuel_Type', 'Transmission', 'Owner_Type']"
            ]
          },
          "metadata": {
            "tags": []
          },
          "execution_count": 78
        }
      ]
    },
    {
      "cell_type": "code",
      "metadata": {
        "id": "XxuZKgq4G0Y-",
        "outputId": "d1fea987-68cd-44e7-e279-fa8955ac7789",
        "colab": {
          "base_uri": "https://localhost:8080/"
        }
      },
      "source": [
        "print(cat_cols)\n",
        "print(num_feat_tes)"
      ],
      "execution_count": 79,
      "outputs": [
        {
          "output_type": "stream",
          "text": [
            "['Name', 'Location', 'Fuel_Type', 'Transmission', 'Owner_Type']\n",
            "['Kilometers_Driven', 'Mileage', 'Engine', 'Power']\n"
          ],
          "name": "stdout"
        }
      ]
    },
    {
      "cell_type": "markdown",
      "metadata": {
        "id": "hWdHPbcBG0ZC"
      },
      "source": [
        "#### seperating data into dependant and independant variables"
      ]
    },
    {
      "cell_type": "code",
      "metadata": {
        "id": "ljIzkB1OG0ZD"
      },
      "source": [
        "df_train_fin = df_train.drop(['Seats','Price'],axis=1)\n",
        "target = df_train.Price\n",
        "df_test_fin = df_test.drop('Seats', axis=1)"
      ],
      "execution_count": 80,
      "outputs": []
    },
    {
      "cell_type": "code",
      "metadata": {
        "id": "XSSw4k4_26JE"
      },
      "source": [
        "X = df_train_fin.copy()\n",
        "y = target.copy()\n",
        "X_test = df_test_fin.copy()"
      ],
      "execution_count": 97,
      "outputs": []
    },
    {
      "cell_type": "markdown",
      "metadata": {
        "id": "uIF9FCaSG0ZN"
      },
      "source": [
        "### Implementing some of the preprocessing techniques like scaling ,LabelBinarizing through column_transformer and pipeline and finally applying cross_val_score and Model creation through a combined Pipeline ."
      ]
    },
    {
      "cell_type": "code",
      "metadata": {
        "id": "ayh8DZYlG0ZP"
      },
      "source": [
        "from sklearn .preprocessing import LabelBinarizer\n",
        "from sklearn.preprocessing import OneHotEncoder\n",
        "from sklearn.compose import make_column_transformer,ColumnTransformer\n",
        "from sklearn.pipeline import make_pipeline,Pipeline \n",
        "from sklearn.preprocessing import StandardScaler\n",
        "from sklearn.model_selection import cross_val_score,train_test_split\n",
        "from sklearn.model_selection import KFold\n",
        "from sklearn.metrics import accuracy_score,mean_absolute_error,mean_squared_error\n",
        "lbl_bin = LabelBinarizer()\n",
        "ohe = OneHotEncoder(sparse=False)\n",
        "std_scl = StandardScaler()\n"
      ],
      "execution_count": 120,
      "outputs": []
    },
    {
      "cell_type": "markdown",
      "metadata": {
        "id": "D4y6zyH1G0ZT"
      },
      "source": [
        "#### Regular Models. "
      ]
    },
    {
      "cell_type": "code",
      "metadata": {
        "id": "MOgXh84kG0ZU"
      },
      "source": [
        "from sklearn.ensemble import RandomForestRegressor\n",
        "from xgboost import XGBRegressor\n",
        "from sklearn.svm import SVR"
      ],
      "execution_count": 82,
      "outputs": []
    },
    {
      "cell_type": "code",
      "metadata": {
        "id": "wuUZ_9rHG0Zb"
      },
      "source": [
        "# Instantiating models.\n",
        "ran_for = RandomForestRegressor(n_estimators=100,max_leaf_nodes=200,n_jobs=-1)\n",
        "xgb_reg = XGBRegressor(n_estimators=50, n_jobs=-1)\n",
        "svr_reg = SVR()"
      ],
      "execution_count": 110,
      "outputs": []
    },
    {
      "cell_type": "code",
      "metadata": {
        "id": "YgJo62pHG0Z4"
      },
      "source": [
        "cat_transformer = Pipeline(steps=[\n",
        "                  ('onehot', OneHotEncoder(handle_unknown='ignore'))\n",
        "                 ])\n",
        "num_transformer = Pipeline(steps=[\n",
        "                      ('std.scale',StandardScaler())\n",
        "                 ])"
      ],
      "execution_count": 89,
      "outputs": []
    },
    {
      "cell_type": "code",
      "metadata": {
        "id": "vT_yDnlbUbe5"
      },
      "source": [
        "column_transformer = ColumnTransformer(transformers=[\n",
        "                    (\"numerical\",num_transformer,num_feat_tes),\n",
        "                    ('categorical',cat_transformer,cat_cols)                                 \n",
        "                    ],remainder='passthrough')"
      ],
      "execution_count": 93,
      "outputs": []
    },
    {
      "cell_type": "code",
      "metadata": {
        "id": "GEJbkDPxV2c2"
      },
      "source": [
        "pipe_ranfor = Pipeline(steps=[('preprocessor1',column_transformer),\n",
        "                              ('model1',ran_for)\n",
        "                          ])"
      ],
      "execution_count": 111,
      "outputs": []
    },
    {
      "cell_type": "code",
      "metadata": {
        "id": "cJOFLj4c1swd"
      },
      "source": [
        "X_train,X_val,y_train,y_val = train_test_split(X,y,test_size = 0.22,random_state=42)"
      ],
      "execution_count": 104,
      "outputs": []
    },
    {
      "cell_type": "code",
      "metadata": {
        "id": "tH2M6oOj2hfp",
        "outputId": "951fd87a-b904-4466-debe-26ae944a9fd2",
        "colab": {
          "base_uri": "https://localhost:8080/"
        }
      },
      "source": [
        "pipe_ranfor.fit(X_train, y_train)"
      ],
      "execution_count": 112,
      "outputs": [
        {
          "output_type": "execute_result",
          "data": {
            "text/plain": [
              "Pipeline(memory=None,\n",
              "         steps=[('preprocessor1',\n",
              "                 ColumnTransformer(n_jobs=None, remainder='passthrough',\n",
              "                                   sparse_threshold=0.3,\n",
              "                                   transformer_weights=None,\n",
              "                                   transformers=[('numerical',\n",
              "                                                  Pipeline(memory=None,\n",
              "                                                           steps=[('std.scale',\n",
              "                                                                   StandardScaler(copy=True,\n",
              "                                                                                  with_mean=True,\n",
              "                                                                                  with_std=True))],\n",
              "                                                           verbose=False),\n",
              "                                                  ['Kilometers_Driven',\n",
              "                                                   'Mileage', 'Engine',\n",
              "                                                   'Power']),\n",
              "                                                 ('categorical',...\n",
              "                 RandomForestRegressor(bootstrap=True, ccp_alpha=0.0,\n",
              "                                       criterion='mse', max_depth=None,\n",
              "                                       max_features='auto', max_leaf_nodes=200,\n",
              "                                       max_samples=None,\n",
              "                                       min_impurity_decrease=0.0,\n",
              "                                       min_impurity_split=None,\n",
              "                                       min_samples_leaf=1, min_samples_split=2,\n",
              "                                       min_weight_fraction_leaf=0.0,\n",
              "                                       n_estimators=100, n_jobs=-1,\n",
              "                                       oob_score=False, random_state=None,\n",
              "                                       verbose=0, warm_start=False))],\n",
              "         verbose=False)"
            ]
          },
          "metadata": {
            "tags": []
          },
          "execution_count": 112
        }
      ]
    },
    {
      "cell_type": "code",
      "metadata": {
        "id": "IqNESDzR4aj2"
      },
      "source": [
        "preds = pipe_ranfor.predict(X_val)"
      ],
      "execution_count": 114,
      "outputs": []
    },
    {
      "cell_type": "code",
      "metadata": {
        "id": "10KDCO2T5P1o",
        "outputId": "e9d34d9e-0733-42b4-c102-472d70e1a732",
        "colab": {
          "base_uri": "https://localhost:8080/"
        }
      },
      "source": [
        "score = mean_absolute_error(y_val, preds)\n",
        "print('MAE:', score)"
      ],
      "execution_count": 118,
      "outputs": [
        {
          "output_type": "stream",
          "text": [
            "MAE: 1.7550241154710005\n"
          ],
          "name": "stdout"
        }
      ]
    },
    {
      "cell_type": "code",
      "metadata": {
        "id": "TGj5xM6p5v6G",
        "outputId": "cfd43d7d-9481-4109-e85d-18e60c4537de",
        "colab": {
          "base_uri": "https://localhost:8080/"
        }
      },
      "source": [
        "pipe_ranfor.score(X_val,y_val)"
      ],
      "execution_count": 119,
      "outputs": [
        {
          "output_type": "execute_result",
          "data": {
            "text/plain": [
              "0.8777388509248255"
            ]
          },
          "metadata": {
            "tags": []
          },
          "execution_count": 119
        }
      ]
    },
    {
      "cell_type": "code",
      "metadata": {
        "id": "6wjypHtC5-yZ"
      },
      "source": [
        "### support vector Regressor model\n",
        "pipe_xgb = Pipeline(steps=[('preprocessor2',column_transformer),\n",
        "                              ('model2',xgb_reg)\n",
        "                          ])"
      ],
      "execution_count": 123,
      "outputs": []
    },
    {
      "cell_type": "code",
      "metadata": {
        "id": "w-fyhwe_7Ajv",
        "outputId": "ef617402-8871-497e-ed9f-996734d652e2",
        "colab": {
          "base_uri": "https://localhost:8080/"
        }
      },
      "source": [
        "pipe_xgb.fit(X_train, y_train)\n",
        "pipe_xgb.score(X_val,y_val)"
      ],
      "execution_count": 124,
      "outputs": [
        {
          "output_type": "stream",
          "text": [
            "[15:02:15] WARNING: /workspace/src/objective/regression_obj.cu:152: reg:linear is now deprecated in favor of reg:squarederror.\n"
          ],
          "name": "stdout"
        },
        {
          "output_type": "execute_result",
          "data": {
            "text/plain": [
              "0.8376298403723548"
            ]
          },
          "metadata": {
            "tags": []
          },
          "execution_count": 124
        }
      ]
    },
    {
      "cell_type": "code",
      "metadata": {
        "id": "xI7_9Q4P7NcA",
        "outputId": "e5a5c95a-e73f-41bc-943d-ad2b63dea092",
        "colab": {
          "base_uri": "https://localhost:8080/"
        }
      },
      "source": [
        "scores = cross_val_score(pipe_ranfor, X, y,\n",
        "                             scoring=\"neg_mean_absolute_error\", cv=6)\n",
        "abs(scores)"
      ],
      "execution_count": 127,
      "outputs": [
        {
          "output_type": "execute_result",
          "data": {
            "text/plain": [
              "array([1.82215872, 1.86193218, 1.57091167, 1.58199657, 1.79284865,\n",
              "       1.83673402])"
            ]
          },
          "metadata": {
            "tags": []
          },
          "execution_count": 127
        }
      ]
    },
    {
      "cell_type": "code",
      "metadata": {
        "id": "RODcBR_N8RBO",
        "outputId": "15207c5c-be78-48b9-c8e4-7a65162ece24",
        "colab": {
          "base_uri": "https://localhost:8080/"
        }
      },
      "source": [
        "pipe_ranfor.score(X_val,y_val)"
      ],
      "execution_count": 128,
      "outputs": [
        {
          "output_type": "execute_result",
          "data": {
            "text/plain": [
              "0.8777388509248255"
            ]
          },
          "metadata": {
            "tags": []
          },
          "execution_count": 128
        }
      ]
    },
    {
      "cell_type": "code",
      "metadata": {
        "id": "K0W02VwG-OCt"
      },
      "source": [
        ""
      ],
      "execution_count": null,
      "outputs": []
    }
  ]
}